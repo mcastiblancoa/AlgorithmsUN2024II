{
  "cells": [
    {
      "cell_type": "markdown",
      "metadata": {
        "id": "view-in-github",
        "colab_type": "text"
      },
      "source": [
        "<a href=\"https://colab.research.google.com/github/mcastiblancoa/AlgorithmsUN2024II/blob/main/Lab3/mcastiblancoaLab3.ipynb\" target=\"_parent\"><img src=\"https://colab.research.google.com/assets/colab-badge.svg\" alt=\"Open In Colab\"/></a>"
      ]
    },
    {
      "cell_type": "code",
      "execution_count": 1,
      "metadata": {
        "colab": {
          "base_uri": "https://localhost:8080/"
        },
        "id": "im-VVd1__7VU",
        "outputId": "be6015e8-dc90-4274-c214-d0ee4b69806b"
      },
      "outputs": [
        {
          "output_type": "stream",
          "name": "stdout",
          "text": [
            "processor\t: 0\n",
            "vendor_id\t: GenuineIntel\n",
            "cpu family\t: 6\n",
            "model\t\t: 79\n",
            "model name\t: Intel(R) Xeon(R) CPU @ 2.20GHz\n",
            "stepping\t: 0\n",
            "microcode\t: 0xffffffff\n",
            "cpu MHz\t\t: 2200.160\n",
            "cache size\t: 56320 KB\n",
            "physical id\t: 0\n",
            "siblings\t: 2\n",
            "core id\t\t: 0\n",
            "cpu cores\t: 1\n",
            "apicid\t\t: 0\n",
            "initial apicid\t: 0\n",
            "fpu\t\t: yes\n",
            "fpu_exception\t: yes\n",
            "cpuid level\t: 13\n",
            "wp\t\t: yes\n",
            "flags\t\t: fpu vme de pse tsc msr pae mce cx8 apic sep mtrr pge mca cmov pat pse36 clflush mmx fxsr sse sse2 ss ht syscall nx pdpe1gb rdtscp lm constant_tsc rep_good nopl xtopology nonstop_tsc cpuid tsc_known_freq pni pclmulqdq ssse3 fma cx16 pcid sse4_1 sse4_2 x2apic movbe popcnt aes xsave avx f16c rdrand hypervisor lahf_lm abm 3dnowprefetch invpcid_single ssbd ibrs ibpb stibp fsgsbase tsc_adjust bmi1 hle avx2 smep bmi2 erms invpcid rtm rdseed adx smap xsaveopt arat md_clear arch_capabilities\n",
            "bugs\t\t: cpu_meltdown spectre_v1 spectre_v2 spec_store_bypass l1tf mds swapgs taa mmio_stale_data retbleed bhi\n",
            "bogomips\t: 4400.32\n",
            "clflush size\t: 64\n",
            "cache_alignment\t: 64\n",
            "address sizes\t: 46 bits physical, 48 bits virtual\n",
            "power management:\n",
            "\n",
            "processor\t: 1\n",
            "vendor_id\t: GenuineIntel\n",
            "cpu family\t: 6\n",
            "model\t\t: 79\n",
            "model name\t: Intel(R) Xeon(R) CPU @ 2.20GHz\n",
            "stepping\t: 0\n",
            "microcode\t: 0xffffffff\n",
            "cpu MHz\t\t: 2200.160\n",
            "cache size\t: 56320 KB\n",
            "physical id\t: 0\n",
            "siblings\t: 2\n",
            "core id\t\t: 0\n",
            "cpu cores\t: 1\n",
            "apicid\t\t: 1\n",
            "initial apicid\t: 1\n",
            "fpu\t\t: yes\n",
            "fpu_exception\t: yes\n",
            "cpuid level\t: 13\n",
            "wp\t\t: yes\n",
            "flags\t\t: fpu vme de pse tsc msr pae mce cx8 apic sep mtrr pge mca cmov pat pse36 clflush mmx fxsr sse sse2 ss ht syscall nx pdpe1gb rdtscp lm constant_tsc rep_good nopl xtopology nonstop_tsc cpuid tsc_known_freq pni pclmulqdq ssse3 fma cx16 pcid sse4_1 sse4_2 x2apic movbe popcnt aes xsave avx f16c rdrand hypervisor lahf_lm abm 3dnowprefetch invpcid_single ssbd ibrs ibpb stibp fsgsbase tsc_adjust bmi1 hle avx2 smep bmi2 erms invpcid rtm rdseed adx smap xsaveopt arat md_clear arch_capabilities\n",
            "bugs\t\t: cpu_meltdown spectre_v1 spectre_v2 spec_store_bypass l1tf mds swapgs taa mmio_stale_data retbleed bhi\n",
            "bogomips\t: 4400.32\n",
            "clflush size\t: 64\n",
            "cache_alignment\t: 64\n",
            "address sizes\t: 46 bits physical, 48 bits virtual\n",
            "power management:\n",
            "\n"
          ]
        }
      ],
      "source": [
        "!cat /proc/cpuinfo"
      ]
    },
    {
      "cell_type": "markdown",
      "metadata": {
        "id": "N1ok_-56OjB1"
      },
      "source": [
        "# I Solving the Sum of Two Digits Programming Challenge"
      ]
    },
    {
      "cell_type": "markdown",
      "metadata": {
        "id": "MMY7kmDSO0KM"
      },
      "source": [
        "## C++"
      ]
    },
    {
      "cell_type": "code",
      "execution_count": 2,
      "metadata": {
        "colab": {
          "base_uri": "https://localhost:8080/"
        },
        "id": "2pGGf9BkPNIk",
        "outputId": "2c46934e-692e-4c6f-c703-9bcd9f0506b9"
      },
      "outputs": [
        {
          "output_type": "stream",
          "name": "stdout",
          "text": [
            "Writing APlusB.cpp\n"
          ]
        }
      ],
      "source": [
        "%%writefile APlusB.cpp\n",
        "#include <iostream>\n",
        "\n",
        "int sum_of_two_digits(int first_digit, int second_digit) {\n",
        "    return first_digit + second_digit;\n",
        "}\n",
        "\n",
        "int main() {\n",
        "    int a = 0;\n",
        "    int b = 0;\n",
        "    std::cin >> a;\n",
        "    std::cin >> b;\n",
        "    std::cout << sum_of_two_digits(a, b);\n",
        "    return 0;\n",
        "}"
      ]
    },
    {
      "cell_type": "code",
      "execution_count": 3,
      "metadata": {
        "id": "0G3ZKOYAPXSU",
        "colab": {
          "base_uri": "https://localhost:8080/"
        },
        "outputId": "128e6012-c067-4b48-a5c7-ce55cbc654ef"
      },
      "outputs": [
        {
          "output_type": "stream",
          "name": "stdout",
          "text": [
            "1 2\n",
            "3"
          ]
        }
      ],
      "source": [
        "!g++ APlusB.cpp -o APlusB -std=c++11\n",
        "!./APlusB"
      ]
    },
    {
      "cell_type": "markdown",
      "metadata": {
        "id": "iNkG2HqfTl9c"
      },
      "source": [
        "### Test input output files"
      ]
    },
    {
      "cell_type": "code",
      "execution_count": 4,
      "metadata": {
        "id": "aTzU2efzMxly",
        "colab": {
          "base_uri": "https://localhost:8080/"
        },
        "outputId": "014d9ec5-988a-4127-ef93-c354fe28789e"
      },
      "outputs": [
        {
          "output_type": "stream",
          "name": "stdout",
          "text": [
            "Writing input1.txt\n"
          ]
        }
      ],
      "source": [
        "%%writefile input1.txt\n",
        "4 8"
      ]
    },
    {
      "cell_type": "code",
      "execution_count": 5,
      "metadata": {
        "id": "zBJ0Gc0NQRet",
        "colab": {
          "base_uri": "https://localhost:8080/"
        },
        "outputId": "25fbc495-bfc6-4dcc-9d0b-bee2758331f0"
      },
      "outputs": [
        {
          "output_type": "stream",
          "name": "stdout",
          "text": [
            "Writing output1.txt\n"
          ]
        }
      ],
      "source": [
        "%%writefile output1.txt\n",
        "12"
      ]
    },
    {
      "cell_type": "code",
      "execution_count": 6,
      "metadata": {
        "id": "IjEcIx63PJAN",
        "colab": {
          "base_uri": "https://localhost:8080/"
        },
        "outputId": "e5c01e49-f124-425a-8ede-6034bb8b4986"
      },
      "outputs": [
        {
          "output_type": "stream",
          "name": "stdout",
          "text": [
            "Writing input2.txt\n"
          ]
        }
      ],
      "source": [
        "%%writefile input2.txt\n",
        "0 9"
      ]
    },
    {
      "cell_type": "code",
      "execution_count": 7,
      "metadata": {
        "id": "Up9gOrxURTmd",
        "colab": {
          "base_uri": "https://localhost:8080/"
        },
        "outputId": "f5bd066c-ee58-4161-b89b-d306c94019f9"
      },
      "outputs": [
        {
          "output_type": "stream",
          "name": "stdout",
          "text": [
            "Writing output2.txt\n"
          ]
        }
      ],
      "source": [
        "%%writefile output2.txt\n",
        "9"
      ]
    },
    {
      "cell_type": "code",
      "execution_count": 8,
      "metadata": {
        "id": "PST6G-s-Pwgc",
        "colab": {
          "base_uri": "https://localhost:8080/"
        },
        "outputId": "cebe6284-6612-45ea-c4f6-4b29b477e458"
      },
      "outputs": [
        {
          "output_type": "stream",
          "name": "stdout",
          "text": [
            "12"
          ]
        }
      ],
      "source": [
        "!./APlusB < input1.txt"
      ]
    },
    {
      "cell_type": "code",
      "execution_count": 9,
      "metadata": {
        "id": "cKxZOjSlRfIN",
        "colab": {
          "base_uri": "https://localhost:8080/"
        },
        "outputId": "20b55fcd-bc56-43e2-e340-e6bf5028b6f3"
      },
      "outputs": [
        {
          "output_type": "stream",
          "name": "stdout",
          "text": [
            "9"
          ]
        }
      ],
      "source": [
        "!./APlusB < input2.txt"
      ]
    },
    {
      "cell_type": "markdown",
      "metadata": {
        "id": "Qw2TQWCCUwqk"
      },
      "source": [
        "### Comparing files with grep\n",
        "\n",
        "https://askubuntu.com/questions/546796/comparing-two-text-files"
      ]
    },
    {
      "cell_type": "code",
      "execution_count": 10,
      "metadata": {
        "id": "WVIaAmMKU4QM"
      },
      "outputs": [],
      "source": [
        "!grep -xvFf output1.txt output1.txt"
      ]
    },
    {
      "cell_type": "code",
      "execution_count": 11,
      "metadata": {
        "id": "MQU8gPPjQuYO",
        "colab": {
          "base_uri": "https://localhost:8080/"
        },
        "outputId": "0a343d79-9a4e-458b-d9e7-8a3fb0ca6229"
      },
      "outputs": [
        {
          "output_type": "stream",
          "name": "stdout",
          "text": [
            "9\n"
          ]
        }
      ],
      "source": [
        "!grep -xvFf output1.txt output2.txt"
      ]
    },
    {
      "cell_type": "code",
      "execution_count": 12,
      "metadata": {
        "id": "jYL9OuYBTD_l",
        "colab": {
          "base_uri": "https://localhost:8080/"
        },
        "outputId": "488bbaa2-1400-456f-8674-f902e7da588b"
      },
      "outputs": [
        {
          "output_type": "stream",
          "name": "stdout",
          "text": [
            "12\n"
          ]
        }
      ],
      "source": [
        "!grep -xvFf output2.txt output1.txt"
      ]
    },
    {
      "cell_type": "code",
      "execution_count": 13,
      "metadata": {
        "id": "Jlja0Xm4TX9M"
      },
      "outputs": [],
      "source": [
        "!./APlusB < input1.txt> ctest1.txt\n",
        "!grep -xvFf output1.txt ctest1.txt"
      ]
    },
    {
      "cell_type": "code",
      "execution_count": 14,
      "metadata": {
        "id": "g9OIUZA_QLCQ"
      },
      "outputs": [],
      "source": [
        "!./APlusB < input2.txt > ctest2.txt\n",
        "!grep -xvFf output2.txt ctest2.txt"
      ]
    },
    {
      "cell_type": "markdown",
      "metadata": {
        "id": "3BgOaDjUVJk6"
      },
      "source": [
        "## Python"
      ]
    },
    {
      "cell_type": "code",
      "execution_count": 15,
      "metadata": {
        "id": "DBvl-T0CTN_8",
        "colab": {
          "base_uri": "https://localhost:8080/"
        },
        "outputId": "bbba6e4c-08b9-441f-e1f9-8e4fc871e392"
      },
      "outputs": [
        {
          "output_type": "stream",
          "name": "stdout",
          "text": [
            "Writing sum.py\n"
          ]
        }
      ],
      "source": [
        "%%writefile sum.py\n",
        "# python3\n",
        "\n",
        "def sum_of_two_digits(first_digit, second_digit):\n",
        "    return first_digit + second_digit\n",
        "\n",
        "if __name__ == '__main__':\n",
        "    a, b = map(int, input().split())\n",
        "    print(sum_of_two_digits(a, b))"
      ]
    },
    {
      "cell_type": "code",
      "execution_count": 16,
      "metadata": {
        "id": "QKoKM11_WGyF",
        "colab": {
          "base_uri": "https://localhost:8080/"
        },
        "outputId": "fa3f40dc-31f8-4342-c7f1-9742ee809c17"
      },
      "outputs": [
        {
          "output_type": "stream",
          "name": "stdout",
          "text": [
            "1 2\n",
            "3\n"
          ]
        }
      ],
      "source": [
        "!python sum.py"
      ]
    },
    {
      "cell_type": "code",
      "execution_count": 17,
      "metadata": {
        "id": "cocFbPRTWrqt"
      },
      "outputs": [],
      "source": [
        "!python sum.py  < input1.txt> ptest1.txt\n",
        "!grep -xvFf output1.txt ptest1.txt"
      ]
    },
    {
      "cell_type": "code",
      "execution_count": 18,
      "metadata": {
        "id": "MorKTa-XXASN"
      },
      "outputs": [],
      "source": [
        "!python sum.py  < input2.txt> ptest2.txt\n",
        "!grep -xvFf output2.txt ptest2.txt"
      ]
    },
    {
      "cell_type": "markdown",
      "metadata": {
        "id": "uvP-mOubW_5F"
      },
      "source": [
        "# II Solving The Maximum Pairwise Product Programming Challenge in C++"
      ]
    },
    {
      "cell_type": "markdown",
      "metadata": {
        "id": "C12yoFR6Xonl"
      },
      "source": [
        "## C++\n",
        "\n",
        "$$ T(n) < 6 n^2 = O(n^2)$$"
      ]
    },
    {
      "cell_type": "code",
      "execution_count": 19,
      "metadata": {
        "id": "3LpfoGv2Ae81",
        "colab": {
          "base_uri": "https://localhost:8080/"
        },
        "outputId": "04bfadc1-2998-4181-d2da-29d96f6337e7"
      },
      "outputs": [
        {
          "output_type": "stream",
          "name": "stdout",
          "text": [
            "Writing max_pairwise_product_full.cpp\n"
          ]
        }
      ],
      "source": [
        "%%writefile max_pairwise_product_full.cpp\n",
        "#include <iostream>\n",
        "#include <vector>\n",
        "#include <algorithm>\n",
        "\n",
        "int MaxPairwiseProduct(const std::vector<int>& numbers) {\n",
        "    int max_product = 0;\n",
        "    int aux_product = 0;\n",
        "    int n = numbers.size();\n",
        "\n",
        "    for (int first = 0; first < n; ++first) {\n",
        "        for (int second = 0; second < n; ++second) {\n",
        "          if ( first != second ){\n",
        "                aux_product = numbers[first] * numbers[second];\n",
        "                if (aux_product > max_product)  max_product = aux_product;\n",
        "          }\n",
        "        }\n",
        "    }\n",
        "\n",
        "    return max_product;\n",
        "}\n",
        "\n",
        "int main() {\n",
        "    int n;\n",
        "    std::cin >> n;\n",
        "    std::vector<int> numbers(n);\n",
        "    for (int i = 0; i < n; ++i) {\n",
        "        std::cin >> numbers[i];\n",
        "    }\n",
        "\n",
        "    std::cout << MaxPairwiseProduct(numbers) << \"\\n\";\n",
        "    return 0;\n",
        "}"
      ]
    },
    {
      "cell_type": "markdown",
      "metadata": {
        "id": "m75IQQPbEHBS"
      },
      "source": [
        "#### Time Complexity\n",
        "$$\\left. \\begin{array}{llc}\n",
        " \\text{INSTRUCTION} & \\text{TYPE}& \\text{# EXECUTIONS}\\\\\n",
        "\\text{first != second} &  \\text{comparisons} &n^2 \\\\\n",
        "\\text{numbers[first] * numbers[second]}& \\ \\text{ products}  &n^2 - n \\\\\n",
        "\\text{max_product = aux_product} &  \\text{assigments} & [1, \\frac{n^2 - n}{2})  \n",
        "\\end{array}\\right\\}  =  O(n^2)$$"
      ]
    },
    {
      "cell_type": "code",
      "execution_count": 20,
      "metadata": {
        "id": "PCVo1h6nCF9k",
        "colab": {
          "base_uri": "https://localhost:8080/"
        },
        "outputId": "495d2387-2b76-444f-bf6b-2d269c8a127f"
      },
      "outputs": [
        {
          "output_type": "stream",
          "name": "stdout",
          "text": [
            "1\n",
            "3 1\n",
            "0\n"
          ]
        }
      ],
      "source": [
        "!g++ max_pairwise_product_full.cpp -o max_pairwise_product_full\n",
        "!./max_pairwise_product_full"
      ]
    },
    {
      "cell_type": "markdown",
      "metadata": {
        "id": "e7KhxHGNS3i0"
      },
      "source": [
        "### Test 1: Small numbers"
      ]
    },
    {
      "cell_type": "code",
      "execution_count": 21,
      "metadata": {
        "id": "17npyXt7lYzA",
        "colab": {
          "base_uri": "https://localhost:8080/"
        },
        "outputId": "53155091-4d31-4e29-a475-a000b6f7a12d"
      },
      "outputs": [
        {
          "output_type": "stream",
          "name": "stdout",
          "text": [
            "Writing input0.txt\n"
          ]
        }
      ],
      "source": [
        "%%writefile input0.txt\n",
        "10\n",
        "0 0 0 0 0 0 0 0 0 0"
      ]
    },
    {
      "cell_type": "code",
      "execution_count": 22,
      "metadata": {
        "id": "NooGEkJylezm",
        "colab": {
          "base_uri": "https://localhost:8080/"
        },
        "outputId": "692d11af-a3fe-4a28-f3b9-64503c51457c"
      },
      "outputs": [
        {
          "output_type": "stream",
          "name": "stdout",
          "text": [
            "Writing output0.txt\n"
          ]
        }
      ],
      "source": [
        "%%writefile output0.txt\n",
        "0"
      ]
    },
    {
      "cell_type": "code",
      "execution_count": 23,
      "metadata": {
        "id": "R0yFaAOrlqrE"
      },
      "outputs": [],
      "source": [
        "!./max_pairwise_product_full< input0.txt > ctest0.txt\n",
        "!grep -xvFf output0.txt ctest0.txt"
      ]
    },
    {
      "cell_type": "code",
      "execution_count": 24,
      "metadata": {
        "id": "e1mmTzBgShT-",
        "colab": {
          "base_uri": "https://localhost:8080/"
        },
        "outputId": "a55dd789-4db3-49c1-d1a4-5e77a384bd76"
      },
      "outputs": [
        {
          "output_type": "stream",
          "name": "stdout",
          "text": [
            "Overwriting input1.txt\n"
          ]
        }
      ],
      "source": [
        "%%writefile input1.txt\n",
        "10\n",
        "1 2 3 4 5 6 7 8 9 10"
      ]
    },
    {
      "cell_type": "code",
      "execution_count": 25,
      "metadata": {
        "id": "vy_uI0x7TCId",
        "colab": {
          "base_uri": "https://localhost:8080/"
        },
        "outputId": "0c126345-74fb-4a8c-8ce3-0886b27246b0"
      },
      "outputs": [
        {
          "output_type": "stream",
          "name": "stdout",
          "text": [
            "/bin/bash: line 1: ./max_pairwise_product: No such file or directory\n"
          ]
        }
      ],
      "source": [
        "!./max_pairwise_product < input1.txt"
      ]
    },
    {
      "cell_type": "code",
      "execution_count": 26,
      "metadata": {
        "id": "xaj6f9bxC6D6",
        "colab": {
          "base_uri": "https://localhost:8080/"
        },
        "outputId": "d7296287-c517-4a61-a5b6-2f2f086d82e5"
      },
      "outputs": [
        {
          "output_type": "stream",
          "name": "stdout",
          "text": [
            "Overwriting output1.txt\n"
          ]
        }
      ],
      "source": [
        "%%writefile output1.txt\n",
        "90"
      ]
    },
    {
      "cell_type": "code",
      "execution_count": 27,
      "metadata": {
        "id": "fYCjAdA_C-wy"
      },
      "outputs": [],
      "source": [
        "!./max_pairwise_product_full< input1.txt > ctest1.txt\n",
        "!grep -xvFf output1.txt ctest1.txt"
      ]
    },
    {
      "cell_type": "code",
      "execution_count": 28,
      "metadata": {
        "id": "ZPe40LY14_6f",
        "colab": {
          "base_uri": "https://localhost:8080/"
        },
        "outputId": "088a2562-1537-4d68-ff5d-e9f75ab1c143"
      },
      "outputs": [
        {
          "output_type": "stream",
          "name": "stdout",
          "text": [
            "Overwriting input2.txt\n"
          ]
        }
      ],
      "source": [
        "%%writefile input2.txt\n",
        "10\n",
        "10 9 8 7 6 5 4 3 2 1"
      ]
    },
    {
      "cell_type": "code",
      "execution_count": 29,
      "metadata": {
        "id": "xiHmF7HA5Faa",
        "colab": {
          "base_uri": "https://localhost:8080/"
        },
        "outputId": "0bc28743-1fc2-4975-8917-25cf30749a77"
      },
      "outputs": [
        {
          "output_type": "stream",
          "name": "stdout",
          "text": [
            "Overwriting output2.txt\n"
          ]
        }
      ],
      "source": [
        "%%writefile output2.txt\n",
        "90"
      ]
    },
    {
      "cell_type": "code",
      "execution_count": 30,
      "metadata": {
        "id": "jjwc9kwb5t_k"
      },
      "outputs": [],
      "source": [
        "!./max_pairwise_product_full< input2.txt > ctest2.txt\n",
        "!grep -xvFf output2.txt ctest2.txt"
      ]
    },
    {
      "cell_type": "markdown",
      "metadata": {
        "id": "IeZ3kTjpYmR9"
      },
      "source": [
        "### Test 2: largest input numbers 200000 200000 to check possible intger overflow"
      ]
    },
    {
      "cell_type": "code",
      "execution_count": 31,
      "metadata": {
        "id": "LQNlZqaqYt7U",
        "colab": {
          "base_uri": "https://localhost:8080/"
        },
        "outputId": "3238d105-3c2c-403e-b245-3e0e9b09159b"
      },
      "outputs": [
        {
          "output_type": "stream",
          "name": "stdout",
          "text": [
            "Writing input3.txt\n"
          ]
        }
      ],
      "source": [
        "%%writefile input3.txt\n",
        "6\n",
        "1 3 200000 9 200000 23"
      ]
    },
    {
      "cell_type": "code",
      "execution_count": 32,
      "metadata": {
        "id": "GjQq7QOUCw-9",
        "colab": {
          "base_uri": "https://localhost:8080/"
        },
        "outputId": "e14c6560-033b-47bc-cc63-b7a5087806d1"
      },
      "outputs": [
        {
          "output_type": "execute_result",
          "data": {
            "text/plain": [
              "40000000000"
            ]
          },
          "metadata": {},
          "execution_count": 32
        }
      ],
      "source": [
        "200000*200000"
      ]
    },
    {
      "cell_type": "code",
      "execution_count": 33,
      "metadata": {
        "id": "EuS6n3jtDK5C",
        "colab": {
          "base_uri": "https://localhost:8080/"
        },
        "outputId": "6594e424-125a-4aac-c240-812f4ea1d4dd"
      },
      "outputs": [
        {
          "output_type": "stream",
          "name": "stdout",
          "text": [
            "Writing output3.txt\n"
          ]
        }
      ],
      "source": [
        "%%writefile output3.txt\n",
        "40000000000"
      ]
    },
    {
      "cell_type": "code",
      "execution_count": 34,
      "metadata": {
        "id": "2Wad2VZUZDxR",
        "colab": {
          "base_uri": "https://localhost:8080/"
        },
        "outputId": "dc79402a-de8e-4a2e-eebc-756ef1459fdf"
      },
      "outputs": [
        {
          "output_type": "stream",
          "name": "stdout",
          "text": [
            "1345294336\n"
          ]
        }
      ],
      "source": [
        "!./max_pairwise_product_full < input3.txt"
      ]
    },
    {
      "cell_type": "code",
      "execution_count": 35,
      "metadata": {
        "id": "pEvp1ieyDJGq",
        "colab": {
          "base_uri": "https://localhost:8080/"
        },
        "outputId": "23155fd9-f41b-41d7-c8b4-982aac3601d9"
      },
      "outputs": [
        {
          "output_type": "stream",
          "name": "stdout",
          "text": [
            "1345294336\n"
          ]
        }
      ],
      "source": [
        "!./max_pairwise_product_full < input3.txt > ctest3.txt\n",
        "!grep -xvFf output3.txt ctest3.txt"
      ]
    },
    {
      "cell_type": "code",
      "execution_count": 36,
      "metadata": {
        "id": "SrtJrKqM-God",
        "colab": {
          "base_uri": "https://localhost:8080/"
        },
        "outputId": "2e69ffed-7f04-4d8b-b5d1-4df7fb858c95"
      },
      "outputs": [
        {
          "output_type": "stream",
          "name": "stdout",
          "text": [
            "Writing run_all_test.sh\n"
          ]
        }
      ],
      "source": [
        " %%writefile run_all_test.sh\n",
        "#!/bin/bash\n",
        "g++ max_pairwise_product_full.cpp -o max_pairwise_product_full\n",
        "for i in {0..3}\n",
        "do\n",
        "    ./max_pairwise_product_full < input$i.txt > ctest$i.txt\n",
        "    grep -xvFf output$i.txt ctest$i.txt\n",
        "done"
      ]
    },
    {
      "cell_type": "code",
      "execution_count": 37,
      "metadata": {
        "id": "wGWMHtzS-QnA",
        "colab": {
          "base_uri": "https://localhost:8080/"
        },
        "outputId": "68c4cadb-5677-4aa8-edbe-370d50cfb641"
      },
      "outputs": [
        {
          "output_type": "stream",
          "name": "stdout",
          "text": [
            "1345294336\n"
          ]
        }
      ],
      "source": [
        "!chmod u+x run_all_test.sh\n",
        "!./run_all_test.sh"
      ]
    },
    {
      "cell_type": "markdown",
      "metadata": {
        "id": "H2SC0Qt5HCzz"
      },
      "source": [
        "### Changing the variables to long long"
      ]
    },
    {
      "cell_type": "code",
      "execution_count": 38,
      "metadata": {
        "id": "MPcmsxiQZSfE",
        "colab": {
          "base_uri": "https://localhost:8080/"
        },
        "outputId": "7bad8bb8-85ad-4412-fb8b-30b2200b8e74"
      },
      "outputs": [
        {
          "output_type": "stream",
          "name": "stdout",
          "text": [
            "Writing max_pairwise_product_long_full.cpp\n"
          ]
        }
      ],
      "source": [
        "%%writefile max_pairwise_product_long_full.cpp\n",
        "#include <iostream>\n",
        "#include <vector>\n",
        "#include <algorithm>\n",
        "\n",
        "long long MaxPairwiseProduct(const std::vector<int>& numbers) {\n",
        "    long long max_product = 0LL;\n",
        "\t  long long aux_product = 0LL;\n",
        "    int n = numbers.size();\n",
        "\n",
        "    for (int first = 0; first < n; ++first) {\n",
        "        for (int second = 0; second < n; ++second) {\n",
        "          if ( first != second){\n",
        "                aux_product = (long long) numbers[first] * numbers[second];\n",
        "                if (aux_product > max_product)  max_product = aux_product;\n",
        "          }\n",
        "        }\n",
        "    }\n",
        "\n",
        "\n",
        "    return max_product;\n",
        "}\n",
        "\n",
        "int main() {\n",
        "    int n;\n",
        "    std::cin >> n;\n",
        "    std::vector<int> numbers(n);\n",
        "    for (int i = 0; i < n; ++i) {\n",
        "        std::cin >> numbers[i];\n",
        "    }\n",
        "\n",
        "    std::cout << MaxPairwiseProduct(numbers) << \"\\n\";\n",
        "    return 0;\n",
        "}\n"
      ]
    },
    {
      "cell_type": "code",
      "execution_count": 39,
      "metadata": {
        "id": "W3xQpFXL6wjO"
      },
      "outputs": [],
      "source": [
        "!g++ max_pairwise_product_long_full.cpp -o max_pairwise_product_long_full"
      ]
    },
    {
      "cell_type": "code",
      "execution_count": 40,
      "metadata": {
        "id": "H5dvN9M3R9sV",
        "colab": {
          "base_uri": "https://localhost:8080/"
        },
        "outputId": "4d0b8711-d060-4c91-f6a3-7891ec47cdbd"
      },
      "outputs": [
        {
          "output_type": "stream",
          "name": "stdout",
          "text": [
            "40000000000\n"
          ]
        }
      ],
      "source": [
        "!./max_pairwise_product_long_full < input3.txt"
      ]
    },
    {
      "cell_type": "markdown",
      "metadata": {
        "id": "gx-sEYdfQ8f8"
      },
      "source": [
        "### Runing multuple test with a bash shell"
      ]
    },
    {
      "cell_type": "code",
      "execution_count": 41,
      "metadata": {
        "id": "O9qsq2nn7elw",
        "colab": {
          "base_uri": "https://localhost:8080/"
        },
        "outputId": "80051f62-a720-47c2-88f6-f1b40d0d73a2"
      },
      "outputs": [
        {
          "output_type": "stream",
          "name": "stdout",
          "text": [
            "Overwriting run_all_test.sh\n"
          ]
        }
      ],
      "source": [
        " %%writefile run_all_test.sh\n",
        "#!/bin/bash\n",
        "g++ max_pairwise_product_long_full.cpp -o max_pairwise_product_long_full\n",
        "for i in {1..3}\n",
        "do\n",
        "    ./max_pairwise_product_long_full < input$i.txt > ctest$i.txt\n",
        "    grep -xvFf output$i.txt ctest$i.txt\n",
        "done"
      ]
    },
    {
      "cell_type": "code",
      "execution_count": 42,
      "metadata": {
        "id": "0g5kKVph7xIA"
      },
      "outputs": [],
      "source": [
        "!chmod u+x run_all_test.sh\n",
        "!./run_all_test.sh"
      ]
    },
    {
      "cell_type": "markdown",
      "metadata": {
        "id": "XPVHkHxH6_7s"
      },
      "source": [
        "### Test 3  stress tests, 6 testing cases files input4.txt/output4.txt .. input10.txt/output10.txt\n",
        "\n",
        "---\n",
        "\n"
      ]
    },
    {
      "cell_type": "code",
      "execution_count": 43,
      "metadata": {
        "id": "PwqpBmYr69fu",
        "colab": {
          "base_uri": "https://localhost:8080/"
        },
        "outputId": "e1c937f7-0dfe-47f4-82cf-b5afd61168e6"
      },
      "outputs": [
        {
          "output_type": "stream",
          "name": "stdout",
          "text": [
            "Overwriting input3.txt\n"
          ]
        }
      ],
      "source": [
        "%%writefile input3.txt\n",
        "6\n",
        "1 3001 2020 8 22 38"
      ]
    },
    {
      "cell_type": "code",
      "execution_count": 44,
      "metadata": {
        "id": "jBCkMeR6Fw4y",
        "colab": {
          "base_uri": "https://localhost:8080/"
        },
        "outputId": "6a283560-575e-4662-96b5-830fc8f91880"
      },
      "outputs": [
        {
          "output_type": "stream",
          "name": "stdout",
          "text": [
            "Writing input4.txt\n"
          ]
        }
      ],
      "source": [
        "%%writefile input4.txt\n",
        "7\n",
        "10 437 798 101112 121415 151918 194036"
      ]
    },
    {
      "cell_type": "code",
      "execution_count": 45,
      "metadata": {
        "id": "zED8V8wu-eoM",
        "colab": {
          "base_uri": "https://localhost:8080/"
        },
        "outputId": "6ed85a3a-ca48-4990-dcb6-ca217f760212"
      },
      "outputs": [
        {
          "output_type": "stream",
          "name": "stdout",
          "text": [
            "Writing input5.txt\n"
          ]
        }
      ],
      "source": [
        "%%writefile input5.txt\n",
        "5\n",
        "951 753 654 852 379"
      ]
    },
    {
      "cell_type": "code",
      "execution_count": 46,
      "metadata": {
        "id": "oo0XvVEllf_-",
        "colab": {
          "base_uri": "https://localhost:8080/"
        },
        "outputId": "1a6d38d5-792d-40e7-eca2-c23f5626a416"
      },
      "outputs": [
        {
          "output_type": "stream",
          "name": "stdout",
          "text": [
            "Writing input6.txt\n"
          ]
        }
      ],
      "source": [
        "%%writefile input6.txt\n",
        "8\n",
        "902 1009 1111 1024 792 564 798 222"
      ]
    },
    {
      "cell_type": "code",
      "execution_count": 47,
      "metadata": {
        "id": "vrnAjqTRli-I",
        "colab": {
          "base_uri": "https://localhost:8080/"
        },
        "outputId": "fbb93ff5-d2e0-4884-b379-b0d90523632b"
      },
      "outputs": [
        {
          "output_type": "stream",
          "name": "stdout",
          "text": [
            "Writing input7.txt\n"
          ]
        }
      ],
      "source": [
        "%%writefile input7.txt\n",
        "4\n",
        "741 852 963 684"
      ]
    },
    {
      "cell_type": "code",
      "execution_count": 48,
      "metadata": {
        "id": "oS2QgaTultDv",
        "colab": {
          "base_uri": "https://localhost:8080/"
        },
        "outputId": "6605824a-8d05-412d-9b93-62057f54fadb"
      },
      "outputs": [
        {
          "output_type": "stream",
          "name": "stdout",
          "text": [
            "Writing input8.txt\n"
          ]
        }
      ],
      "source": [
        "%%writefile input8.txt\n",
        "5\n",
        "176 935 378 937 210790"
      ]
    },
    {
      "cell_type": "code",
      "execution_count": 49,
      "metadata": {
        "id": "B-VGJS-Wo2oW",
        "colab": {
          "base_uri": "https://localhost:8080/"
        },
        "outputId": "3a09374e-bee1-4434-da67-9746e673225c"
      },
      "outputs": [
        {
          "output_type": "stream",
          "name": "stdout",
          "text": [
            "Writing input9.txt\n"
          ]
        }
      ],
      "source": [
        "%%writefile input9.txt\n",
        "6\n",
        "1 3343 2003 9 2222 43"
      ]
    },
    {
      "cell_type": "code",
      "execution_count": 50,
      "metadata": {
        "id": "MLKlBUElpHBd",
        "colab": {
          "base_uri": "https://localhost:8080/"
        },
        "outputId": "4b17273b-2581-4479-9ac7-c43f8ca8ca90"
      },
      "outputs": [
        {
          "output_type": "stream",
          "name": "stdout",
          "text": [
            "Writing input10.txt\n"
          ]
        }
      ],
      "source": [
        "%%writefile input10.txt\n",
        "6\n",
        "1111 2222 3333 4444 5555 6666"
      ]
    },
    {
      "cell_type": "code",
      "execution_count": 51,
      "metadata": {
        "id": "VdN9ppc6pOKM",
        "colab": {
          "base_uri": "https://localhost:8080/"
        },
        "outputId": "67ede89d-6849-4d80-e831-dfd9965d8757"
      },
      "outputs": [
        {
          "output_type": "stream",
          "name": "stdout",
          "text": [
            "90\n",
            "90\n"
          ]
        }
      ],
      "source": [
        "!./max_pairwise_product_long_full < input1.txt\n",
        "!./max_pairwise_product_long_full < input2.txt\n",
        "!./max_pairwise_product_long_full < input3.txt > output3.txt\n",
        "!./max_pairwise_product_long_full < input4.txt > output4.txt\n",
        "!./max_pairwise_product_long_full < input5.txt > output5.txt\n",
        "!./max_pairwise_product_long_full < input6.txt > output6.txt\n",
        "!./max_pairwise_product_long_full < input7.txt > output7.txt\n",
        "!./max_pairwise_product_long_full < input8.txt > output8.txt\n",
        "!./max_pairwise_product_long_full < input9.txt > output9.txt\n",
        "!./max_pairwise_product_long_full < input10.txt > output10.txt"
      ]
    },
    {
      "cell_type": "markdown",
      "metadata": {
        "id": "9z9yr5QkeyJF"
      },
      "source": [
        "### Test 4  time test  measure the execution time running with the the largest worst cases input11.txt  (200000 increasing numbers) and input12.txt (199998 increasing numbers and  200000, 200000 at the end)"
      ]
    },
    {
      "cell_type": "code",
      "execution_count": 52,
      "metadata": {
        "id": "UmB1ipWM_nSk",
        "colab": {
          "base_uri": "https://localhost:8080/"
        },
        "outputId": "4227d7c9-93f4-40c3-9162-0c2cf9d64794"
      },
      "outputs": [
        {
          "output_type": "stream",
          "name": "stdout",
          "text": [
            "Writing WriteTest.cpp\n"
          ]
        }
      ],
      "source": [
        "# input11.txt 200000 increasing numbers:  1 2 .. 200000\n",
        "\n",
        "%%writefile WriteTest.cpp\n",
        "\n",
        "#include <iostream>\n",
        "#include <fstream>\n",
        "#include <cstdlib>\n",
        "\n",
        "using namespace std;\n",
        "\n",
        "int main() {\n",
        "  // Create and open a text file\n",
        "  ofstream MyFile(\"input11.txt\");\n",
        "\n",
        " MyFile << 200000 <<\"\\n\";  // n\n",
        " for (int i=1; i <200001; i++){\n",
        "     MyFile << i <<\" \";\n",
        " }\n",
        "\n",
        "  // Close the file\n",
        "  MyFile.close();\n",
        "}"
      ]
    },
    {
      "cell_type": "code",
      "execution_count": 53,
      "metadata": {
        "id": "EH25TkOkZfD9"
      },
      "outputs": [],
      "source": [
        "!g++ WriteTest.cpp -o WriteTest\n",
        "!./WriteTest"
      ]
    },
    {
      "cell_type": "code",
      "execution_count": 54,
      "metadata": {
        "id": "j0mokSOnCCtZ",
        "colab": {
          "base_uri": "https://localhost:8080/"
        },
        "outputId": "516e6869-cd25-4989-e511-404a44ad0f8f"
      },
      "outputs": [
        {
          "output_type": "execute_result",
          "data": {
            "text/plain": [
              "39999800000"
            ]
          },
          "metadata": {},
          "execution_count": 54
        }
      ],
      "source": [
        "199999 * 200000"
      ]
    },
    {
      "cell_type": "code",
      "execution_count": 55,
      "metadata": {
        "id": "VoDhDV73B5Mo",
        "colab": {
          "base_uri": "https://localhost:8080/"
        },
        "outputId": "0a43139a-ef0a-4b95-ac1b-099ed8fc92f0"
      },
      "outputs": [
        {
          "output_type": "stream",
          "name": "stdout",
          "text": [
            "Writing output11.txt\n"
          ]
        }
      ],
      "source": [
        "%%writefile output11.txt\n",
        "39999800000"
      ]
    },
    {
      "cell_type": "code",
      "execution_count": 56,
      "metadata": {
        "id": "oLiMjbAIfPlX",
        "colab": {
          "base_uri": "https://localhost:8080/"
        },
        "outputId": "a9faee9f-612f-4136-e8bb-eb74716f98d7"
      },
      "outputs": [
        {
          "output_type": "stream",
          "name": "stdout",
          "text": [
            "Overwriting WriteTest.cpp\n"
          ]
        }
      ],
      "source": [
        "# input12.txt 200000 decreasing numbers and 200000, 199999 ...  2 1\n",
        "\n",
        "%%writefile WriteTest.cpp\n",
        "\n",
        "#include <iostream>\n",
        "#include <fstream>\n",
        "#include <cstdlib>\n",
        "\n",
        "using namespace std;\n",
        "\n",
        "int main() {\n",
        "  // Create and open a text file\n",
        "  ofstream MyFile(\"input12.txt\");\n",
        "\n",
        " MyFile << 200000 <<\"\\n\";  // n\n",
        " for (int i=1; i <200001; i++){\n",
        "     MyFile << 200001-i <<\" \";\n",
        " }\n",
        "\n",
        "  // Close the file\n",
        "  MyFile.close();\n",
        "}"
      ]
    },
    {
      "cell_type": "code",
      "execution_count": 57,
      "metadata": {
        "id": "oULNBr_zAd9c"
      },
      "outputs": [],
      "source": [
        "!g++ WriteTest.cpp -o WriteTest\n",
        "!./WriteTest"
      ]
    },
    {
      "cell_type": "code",
      "execution_count": 58,
      "metadata": {
        "id": "PQLyocaFB-y4",
        "colab": {
          "base_uri": "https://localhost:8080/"
        },
        "outputId": "92d40aae-472a-4243-a497-6e21382d4d0c"
      },
      "outputs": [
        {
          "output_type": "stream",
          "name": "stdout",
          "text": [
            "Writing output12.txt\n"
          ]
        }
      ],
      "source": [
        "%%writefile output12.txt\n",
        "39999800000"
      ]
    },
    {
      "cell_type": "markdown",
      "metadata": {
        "id": "JB6f03qO-lj9"
      },
      "source": [
        "### Measure time\n",
        "\n",
        "https://askubuntu.com/questions/53444/how-can-i-measure-the-execution-time-of-a-terminal-process"
      ]
    },
    {
      "cell_type": "code",
      "execution_count": 59,
      "metadata": {
        "id": "6p2QLEr576zk",
        "colab": {
          "base_uri": "https://localhost:8080/"
        },
        "outputId": "82420df5-2fcb-4a76-a9e3-761b4762b54a"
      },
      "outputs": [
        {
          "output_type": "stream",
          "name": "stdout",
          "text": [
            "39999800000\n",
            "\n",
            "real\t5m9.587s\n",
            "user\t5m5.605s\n",
            "sys\t0m0.116s\n"
          ]
        }
      ],
      "source": [
        "!g++ max_pairwise_product_long_full.cpp -o max_pairwise_product_long_full\n",
        "!time ./max_pairwise_product_long_full< input11.txt"
      ]
    },
    {
      "cell_type": "code",
      "execution_count": 60,
      "metadata": {
        "id": "cnjCyeUdAnZj",
        "colab": {
          "base_uri": "https://localhost:8080/"
        },
        "outputId": "081bcc41-3bbb-45c4-ecc1-461b7b781eee"
      },
      "outputs": [
        {
          "output_type": "stream",
          "name": "stdout",
          "text": [
            "39999800000\n",
            "\n",
            "real\t5m9.145s\n",
            "user\t5m5.079s\n",
            "sys\t0m0.101s\n"
          ]
        }
      ],
      "source": [
        "!g++ max_pairwise_product_long_full.cpp -o max_pairwise_product_long_full\n",
        "!time ./max_pairwise_product_long_full< input12.txt"
      ]
    },
    {
      "cell_type": "markdown",
      "metadata": {
        "id": "FXClpBsUJuXC"
      },
      "source": [
        "### Calculate the number or and upper bound to the number of instructions executed by the algorithm as a function of n, add in each line a comment with the number of instructions that are executed in that line."
      ]
    },
    {
      "cell_type": "code",
      "execution_count": 61,
      "metadata": {
        "id": "uG6Mv-Pwlkii",
        "colab": {
          "base_uri": "https://localhost:8080/"
        },
        "outputId": "7585b272-2a71-4dbd-c56b-b45e3b2d9ea3"
      },
      "outputs": [
        {
          "output_type": "stream",
          "name": "stdout",
          "text": [
            "Overwriting max_pairwise_product_long_full.cpp\n"
          ]
        }
      ],
      "source": [
        "%%writefile max_pairwise_product_long_full.cpp\n",
        "#include <iostream>\n",
        "#include <vector>\n",
        "#include <algorithm>\n",
        "\n",
        "long long MaxPairwiseProduct(const std::vector<int>& numbers) {              //INSTRUCTIONS executed by line\n",
        "    long long max_product = 0LL;                                             //1\n",
        "\t  long long aux_product = 0LL;                                             //1\n",
        "    int n = numbers.size();                                                  //1\n",
        "\n",
        "    for (int first = 0; first < n; ++first) {                                //2+2n\n",
        "        for (int second = 0; second < n; ++second) {                         //2n + 2n**2\n",
        "          if ( first != second ){                                            //n**2\n",
        "                aux_product = numbers[first] * numbers[second];              //n**2 -n\n",
        "                if (aux_product > max_product)                               //n**2 -n\n",
        "                    max_product = aux_product;                               //[0, n**2/2 - n/2] upper bound\n",
        "          }\n",
        "        }\n",
        "    }\n",
        "\n",
        "                                                                             // --------------\n",
        "    return max_product;                                                      // 5 + 2*n + [5*n**2, 11*n**2/2  - n/2]  upper bound\n",
        "}\n",
        "\n",
        "int main() {                                              //INSTRUCTIONS executed by line\n",
        "    int n;                                                //1\n",
        "    std::cin >> n;                                        //1\n",
        "    std::vector<int> numbers(n);                          //n\n",
        "    for (int i = 0; i < n; ++i) {                         //2 + 2n\n",
        "        std::cin >> numbers[i];                           //n\n",
        "    }\n",
        "\n",
        "    std::cout << MaxPairwiseProduct(numbers) << \"\\n\";     //1 + 1  + 5 + 2*n + [5*n**2, 11*n**2/2  - n/2]\n",
        "\n",
        "    return 0;                                             // --------------\n",
        "}                                                         //  11 + 6*n + [5*n**2, 11*n**2/2  - n/2]  upper bound\n"
      ]
    },
    {
      "cell_type": "markdown",
      "metadata": {
        "id": "0vTsUg8OwcHs"
      },
      "source": [
        "### Count executed intructions in code"
      ]
    },
    {
      "cell_type": "code",
      "execution_count": 62,
      "metadata": {
        "id": "CuRKkqQc137V",
        "colab": {
          "base_uri": "https://localhost:8080/"
        },
        "outputId": "2137b00b-5432-4e10-a650-4fe4397c9fab"
      },
      "outputs": [
        {
          "output_type": "stream",
          "name": "stdout",
          "text": [
            "Writing max_pairwise_product_long_full_execints.cpp\n"
          ]
        }
      ],
      "source": [
        "%%writefile max_pairwise_product_long_full_execints.cpp\n",
        "#include <iostream>\n",
        "#include <vector>\n",
        "#include <algorithm>\n",
        "\n",
        "long long MaxPairwiseProduct(const std::vector<int>& numbers, long long &execints) {      //INSTRUCTIONS executed by line\n",
        "\n",
        "    long long max_product = 0LL;                                                          //1\n",
        "    execints++;\n",
        "\n",
        "\t  long long aux_product = 0LL;                                                          //1\n",
        "    execints++;\n",
        "\n",
        "    int n = numbers.size();                                                               //1\n",
        "    execints++;\n",
        "\n",
        "    execints++;\n",
        "    for (int first = 0; first < n; ++first) {                                             //2+2n\n",
        "        execints += 2;\n",
        "\n",
        "        execints++;\n",
        "        for (int second = 0; second < n; ++second) {                                       //2n + 2n**2\n",
        "          execints += 2;\n",
        "\n",
        "          execints++;\n",
        "          if ( first != second ){                                                         //n**2\n",
        "                aux_product = numbers[first] * numbers[second];                           //n**2 -n\n",
        "                execints++;\n",
        "\n",
        "                execints++;\n",
        "                if (aux_product > max_product){                                           //n**2 -n\n",
        "                    max_product = aux_product;                                            //[0,n**2/2 - n/2)  upper bound\n",
        "                    execints++;\n",
        "\n",
        "                }\n",
        "        }\n",
        "\n",
        "      }\n",
        "      execints++;\n",
        "    }\n",
        "    execints++;\n",
        "                                                                                        // --------------\n",
        "    return max_product;                                                                 // 5 + 2*n + [5*n**2, 11*n**2/2  - n/2] upper bound\n",
        "}\n",
        "\n",
        "int main() {                                                 //INSTRUCTIONS executed by line\n",
        "\n",
        "    long long execints =0LL;\n",
        "\n",
        "    int n;                                                   //1\n",
        "    execints++;\n",
        "\n",
        "    std::cin >> n;                                           //1\n",
        "    execints++;\n",
        "\n",
        "    std::vector<int> numbers(n);                             //n\n",
        "    execints += n;\n",
        "\n",
        "    execints++;\n",
        "    for (int i = 0; i < n; ++i) {                            //2 + 2n\n",
        "        execints += 2;\n",
        "\n",
        "        std::cin >> numbers[i];\n",
        "        execints++;                                          //n\n",
        "\n",
        "    }\n",
        "\n",
        "\n",
        "    //std::cout << MaxPairwiseProduct(numbers) << \"\\n\";      //1 + 1  + 5 + 2*n + [5*n**2, 11*n**2/2  - n/2] upper bound\n",
        "\n",
        "    execints++;\n",
        "    int M = MaxPairwiseProduct(numbers,execints);\n",
        "\n",
        "    execints++;\n",
        "    std::cout <<  execints << \"\\n\";\n",
        "    return 0;                                                // --------------\n",
        "}                                                            // 11 + 6*n + [5*n**2, 11*n**2/2  - n/2]"
      ]
    },
    {
      "cell_type": "markdown",
      "metadata": {
        "id": "cUjHtvtdDsmr"
      },
      "source": [
        "The number of instructions executed by the algooirithm with a list of size $n$ is  \n",
        "\n",
        "$$T (n) = 11 + 6n + \\left[5n^2, 11\\frac{n^2}{2}  - \\frac{n}{2}\\right)  >  6n^2 = O(n^2)$$\n",
        "\n",
        "It depends on the size of the lists and  the order of the list.\n",
        "\n",
        "For the input0.txt\n",
        "```\n",
        "10\n",
        "0 0 0 0 0 0 0 0 0 0\n",
        "```\n",
        "$$T = 11 + 6(10) + 5(10)^2   = 561 $$\n",
        "\n",
        "$$T(10) \\in [571, 621)  $$\n"
      ]
    },
    {
      "cell_type": "code",
      "execution_count": 63,
      "metadata": {
        "id": "Om9Fevb0miAT",
        "colab": {
          "base_uri": "https://localhost:8080/"
        },
        "outputId": "ad8b3f24-ea6c-4ae5-c606-b30c1cd6183e"
      },
      "outputs": [
        {
          "output_type": "stream",
          "name": "stdout",
          "text": [
            "570\n"
          ]
        }
      ],
      "source": [
        "!g++ max_pairwise_product_long_full_execints.cpp -o max_pairwise_product_long_full_execints\n",
        "!./max_pairwise_product_long_full_execints < input0.txt"
      ]
    },
    {
      "cell_type": "markdown",
      "metadata": {
        "id": "FwJzZ6VzmArY"
      },
      "source": [
        "For the input1.txt\n",
        "```\n",
        "10\n",
        "1 2 3 4 5 6 7 8 9 10\n",
        "```\n",
        "$$T = 11 + 6(10) + 5(10)^2 +  9 + 5 + 4 + 3 + 2 + 2 + 2 + 2 + 1 + 0  = 601 $$\n",
        "\n",
        "$$T(10) \\in [572, 622)  $$\n"
      ]
    },
    {
      "cell_type": "code",
      "execution_count": 64,
      "metadata": {
        "id": "K59xQMWiBNFj"
      },
      "outputs": [],
      "source": [
        "#The number of times that  max_product = aux_product; in the worst case is less than (n**2 -n)/2 -  upper bound\n",
        "\n",
        "#     1  2  3  4  5  6  7  8  9  10\n",
        "#  1  x  2  3  4  5  6  7  8  9  10         9\n",
        "#  2  2  x  6  8  10 12 14 16 18 20         5 14\n",
        "#  3  3  6  x  12 15 18 21 24 27 30         4 18\n",
        "#  4  4  8  12 x  20 24 28 32 36 40         3 21\n",
        "#  5  5  10 15 20 x  30 35 40 45 50         2 23\n",
        "#  6  6  12 18 24 30 x  42 48 54 60         2 25\n",
        "#  7  7  14 21 28 35 42 x  56 63 70         2 27\n",
        "#  8  8  18 27 36 45 54 63 72 x  90         1 30\n",
        "#  10 10 20 30 40 50 60 70 60 90 x          0"
      ]
    },
    {
      "cell_type": "code",
      "execution_count": 65,
      "metadata": {
        "id": "E3O8dzFfEgir",
        "colab": {
          "base_uri": "https://localhost:8080/"
        },
        "outputId": "233d94ca-227c-408e-96b4-abf4b80fbf8c"
      },
      "outputs": [
        {
          "output_type": "execute_result",
          "data": {
            "text/plain": [
              "601"
            ]
          },
          "metadata": {},
          "execution_count": 65
        }
      ],
      "source": [
        "11 + 6*(10) + 5*(10)*(10) +  9 + 5 + 4 + 3 + 2 + 2 + 2 + 2 + 1 + 0"
      ]
    },
    {
      "cell_type": "code",
      "execution_count": 66,
      "metadata": {
        "id": "TCpdl5u_Gq1a",
        "colab": {
          "base_uri": "https://localhost:8080/"
        },
        "outputId": "81f2d20d-f6f5-40b6-ed0e-8803c2aca5d6"
      },
      "outputs": [
        {
          "output_type": "stream",
          "name": "stdout",
          "text": [
            "[ 571 , 621.0 )\n"
          ]
        }
      ],
      "source": [
        "n = 10\n",
        "print( \"[\", 11 + 6*n + 5*n**2,  \",\", 11 + 6*n  + 5.5*n**2, \")\")"
      ]
    },
    {
      "cell_type": "code",
      "execution_count": 67,
      "metadata": {
        "id": "Kuvm1C05ly2a",
        "colab": {
          "base_uri": "https://localhost:8080/"
        },
        "outputId": "61691d58-7c40-46a0-bd55-9157fca69f49"
      },
      "outputs": [
        {
          "output_type": "stream",
          "name": "stdout",
          "text": [
            "600\n"
          ]
        }
      ],
      "source": [
        "!g++ max_pairwise_product_long_full_execints.cpp -o max_pairwise_product_long_full_execints\n",
        "!./max_pairwise_product_long_full_execints < input1.txt"
      ]
    },
    {
      "cell_type": "markdown",
      "metadata": {
        "id": "Yr_Lb7CaHfxB"
      },
      "source": [
        "\n",
        "For the input2.txt\n",
        "```\n",
        "10\n",
        "10 9 8 7 6 5 4 3 2 1\n",
        "```\n",
        "$$T = 11 + 6*(10) + 5*(10)**2 +  1  = 571 $$"
      ]
    },
    {
      "cell_type": "code",
      "execution_count": 68,
      "metadata": {
        "id": "HOdqlwJiZUIp",
        "colab": {
          "base_uri": "https://localhost:8080/"
        },
        "outputId": "dc3c194d-1652-40a2-8b39-1954248babfd"
      },
      "outputs": [
        {
          "output_type": "execute_result",
          "data": {
            "text/plain": [
              "572"
            ]
          },
          "metadata": {},
          "execution_count": 68
        }
      ],
      "source": [
        "11 + 6*(10) + 5*(10)**2 +  1"
      ]
    },
    {
      "cell_type": "code",
      "execution_count": 69,
      "metadata": {
        "id": "_znzLectjFSe",
        "colab": {
          "base_uri": "https://localhost:8080/"
        },
        "outputId": "dd0e40f3-e75b-4130-87ba-c509e8af1794"
      },
      "outputs": [
        {
          "output_type": "stream",
          "name": "stdout",
          "text": [
            "571\n"
          ]
        }
      ],
      "source": [
        "!g++ max_pairwise_product_long_full_execints.cpp -o max_pairwise_product_long_full_execints\n",
        "!./max_pairwise_product_long_full_execints < input2.txt"
      ]
    },
    {
      "cell_type": "markdown",
      "metadata": {
        "id": "NXW7QkoBL6xH"
      },
      "source": [
        "Calculate estimated time by instruction and number of instructions by second"
      ]
    },
    {
      "cell_type": "markdown",
      "metadata": {
        "id": "dlyRjaohz-YH"
      },
      "source": [
        "For the input11.txt\n",
        "```\n",
        "200000\n",
        "1 2 ..  199999 2000\n",
        "```\n",
        "$$T = 11 + 6*(200000) + 5.5*(200000)**2  = 200001200012  $$"
      ]
    },
    {
      "cell_type": "code",
      "execution_count": 70,
      "metadata": {
        "id": "cuZe7fXwuQtO",
        "colab": {
          "base_uri": "https://localhost:8080/"
        },
        "outputId": "5ea114c8-2c00-455f-fe82-3a53cd90aee8"
      },
      "outputs": [
        {
          "output_type": "execute_result",
          "data": {
            "text/plain": [
              "200001000010"
            ]
          },
          "metadata": {},
          "execution_count": 70
        }
      ],
      "source": [
        "9 + 5*(200000) + 5*(200000)**2 +1"
      ]
    },
    {
      "cell_type": "code",
      "execution_count": 71,
      "metadata": {
        "id": "BMH8mF3EKn2w",
        "colab": {
          "base_uri": "https://localhost:8080/"
        },
        "outputId": "77e66cf6-e06c-4aaa-dfe9-4b83cadd0937"
      },
      "outputs": [
        {
          "output_type": "stream",
          "name": "stdout",
          "text": [
            "200003177091\n"
          ]
        }
      ],
      "source": [
        "!g++ max_pairwise_product_long_full_execints.cpp -o max_pairwise_product_long_full_execints\n",
        "!./max_pairwise_product_long_full_execints < input11.txt"
      ]
    },
    {
      "cell_type": "code",
      "execution_count": 72,
      "metadata": {
        "id": "pKqB3i7dIxnc",
        "colab": {
          "base_uri": "https://localhost:8080/"
        },
        "outputId": "a7cdaeb1-ea44-4a2a-9c74-49386b8cd9f1"
      },
      "outputs": [
        {
          "output_type": "execute_result",
          "data": {
            "text/plain": [
              "1.474976569326082e-09"
            ]
          },
          "metadata": {},
          "execution_count": 72
        }
      ],
      "source": [
        "# Estimated time by instruction\n",
        "\n",
        "295/200003177091\n"
      ]
    },
    {
      "cell_type": "code",
      "execution_count": 73,
      "metadata": {
        "id": "18N1ouqeMhE1",
        "colab": {
          "base_uri": "https://localhost:8080/"
        },
        "outputId": "054b9fe9-87bd-44bc-fdda-7f1b7c63b76f"
      },
      "outputs": [
        {
          "output_type": "execute_result",
          "data": {
            "text/plain": [
              "677976871.4949152"
            ]
          },
          "metadata": {},
          "execution_count": 73
        }
      ],
      "source": [
        "# Estimated number of instructions by second\n",
        "\n",
        "200003177091/295"
      ]
    },
    {
      "cell_type": "markdown",
      "metadata": {
        "id": "KyuxejFkL5X_"
      },
      "source": [
        "### Estimate and verify the maximun n that can be solved in 1 second\n",
        "\n",
        "$$(5.5n^2 + 5.5n + 11) \\times 1.47*10^{-9} s = 1 s$$\n",
        "\n",
        "$$ n \\approx 11000$$\n"
      ]
    },
    {
      "cell_type": "code",
      "execution_count": 74,
      "metadata": {
        "id": "WXu5jp-DLTOI",
        "colab": {
          "base_uri": "https://localhost:8080/"
        },
        "outputId": "c684051a-2592-4d82-e853-663806d44b76"
      },
      "outputs": [
        {
          "output_type": "stream",
          "name": "stdout",
          "text": [
            "Overwriting WriteTest.cpp\n"
          ]
        }
      ],
      "source": [
        "# Verify input13.txt\n",
        "%%writefile WriteTest.cpp\n",
        "\n",
        "#include <iostream>\n",
        "#include <fstream>\n",
        "#include <cstdlib>\n",
        "\n",
        "using namespace std;\n",
        "\n",
        "int main() {\n",
        "  // Create and open a text file\n",
        "  ofstream MyFile(\"input13.txt\");\n",
        "\n",
        " MyFile << 11000 <<\"\\n\";  // n\n",
        " for (int i=1; i <11001; i++){\n",
        "     MyFile << i <<\" \";\n",
        " }\n",
        "\n",
        "  // Close the file\n",
        "  MyFile.close();\n",
        "}"
      ]
    },
    {
      "cell_type": "code",
      "execution_count": 75,
      "metadata": {
        "id": "AQ8N52pUMCeT"
      },
      "outputs": [],
      "source": [
        "!g++ WriteTest.cpp -o WriteTest\n",
        "!./WriteTest"
      ]
    },
    {
      "cell_type": "code",
      "execution_count": 76,
      "metadata": {
        "id": "2iIOdbTrEtBx",
        "colab": {
          "base_uri": "https://localhost:8080/"
        },
        "outputId": "b2170208-7a28-46a7-d144-cbecd03ef19b"
      },
      "outputs": [
        {
          "output_type": "execute_result",
          "data": {
            "text/plain": [
              "120989000"
            ]
          },
          "metadata": {},
          "execution_count": 76
        }
      ],
      "source": [
        "10999 * 11000"
      ]
    },
    {
      "cell_type": "code",
      "execution_count": 77,
      "metadata": {
        "id": "ussuAokfM2du",
        "colab": {
          "base_uri": "https://localhost:8080/"
        },
        "outputId": "b1743251-0372-468b-f816-8b5046c4b3b5"
      },
      "outputs": [
        {
          "output_type": "stream",
          "name": "stdout",
          "text": [
            "120989000\n",
            "\n",
            "real\t0m0.868s\n",
            "user\t0m0.861s\n",
            "sys\t0m0.002s\n"
          ]
        }
      ],
      "source": [
        "!g++ max_pairwise_product_long_full.cpp -o max_pairwise_product_long_full\n",
        "!time ./max_pairwise_product_long_full< input13.txt"
      ]
    },
    {
      "cell_type": "markdown",
      "metadata": {
        "id": "Tm_AVmt-QQH4"
      },
      "source": [
        "## Python"
      ]
    },
    {
      "cell_type": "code",
      "execution_count": 78,
      "metadata": {
        "id": "gRCCcd7IQTKZ",
        "colab": {
          "base_uri": "https://localhost:8080/"
        },
        "outputId": "b82cebc8-396a-4b11-b03c-3aea31821898"
      },
      "outputs": [
        {
          "output_type": "stream",
          "name": "stdout",
          "text": [
            "Writing max_pairwise_product_full.py\n"
          ]
        }
      ],
      "source": [
        "%%writefile max_pairwise_product_full.py\n",
        "n = int(input())                        #1\n",
        "list = input().split()                  #1\n",
        "list = [int(x) for x in list]           #n\n",
        "\n",
        "maxProduct = 0                          #1\n",
        "auxProduct = 0                          #1\n",
        "for i in range(0,n):                    #1+2n\n",
        "  for j in range(0,n):                #n+2n^2\n",
        "    if i!=j:                            #n^2\n",
        "      auxProduct = list[i]*list[j]      #n^2 -n\n",
        "    if maxProduct < auxProduct:         #n**2 -n\n",
        "      maxProduct = auxProduct           #[1, n^2/2 - n/2] upper bound\n",
        "\n",
        "                                        # --------------\n",
        "print(maxProduct)                       #5 + 3n + [5*n^2+1, 11*n^2/2  - n/2]  upper bound"
      ]
    },
    {
      "cell_type": "markdown",
      "metadata": {
        "id": "pHsFl3Xyv-Ah"
      },
      "source": [
        "PROBAR CON ENTRADAS DE ARCHIVOS DE TEXTO ANTERIORES"
      ]
    },
    {
      "cell_type": "code",
      "execution_count": 79,
      "metadata": {
        "id": "7o-qeYSXv7f4"
      },
      "outputs": [],
      "source": [
        "!chmod +x max_pairwise_product_full.py\n",
        "\n",
        "!python max_pairwise_product_full.py < input3.txt > output3.txt\n",
        "!python max_pairwise_product_full.py < input4.txt > output4.txt\n",
        "!python max_pairwise_product_full.py < input5.txt > output5.txt\n",
        "!python max_pairwise_product_full.py < input6.txt > output6.txt\n",
        "!python max_pairwise_product_full.py < input7.txt > output7.txt\n",
        "!python max_pairwise_product_full.py < input8.txt > output8.txt\n",
        "!python max_pairwise_product_full.py < input9.txt > output9.txt\n",
        "!python max_pairwise_product_full.py < input10.txt > output10.txt"
      ]
    },
    {
      "cell_type": "markdown",
      "metadata": {
        "id": "JlsPNDPDxLBV"
      },
      "source": [
        "CREAR UN ARCHIVO DE ENTRADA CONSIDERABLEMENTE GRANDE\n",
        "\n",
        "\n",
        "\n"
      ]
    },
    {
      "cell_type": "code",
      "execution_count": 80,
      "metadata": {
        "id": "kAEAoNZEQTCw"
      },
      "outputs": [],
      "source": [
        "fileName = \"input13Py.txt\"\n",
        "\n",
        "with open(fileName, \"w\") as file:\n",
        "    file.write(\"20000\"+ \"\\n\")\n",
        "    for i in range(1,20001):\n",
        "        file.write(str(i) + \" \")"
      ]
    },
    {
      "cell_type": "markdown",
      "metadata": {
        "id": "YsA_EWnHxVdW"
      },
      "source": [
        "MEDIR EL TIEMPO"
      ]
    },
    {
      "cell_type": "code",
      "execution_count": 81,
      "metadata": {
        "id": "hjw7TJrDL0d-",
        "colab": {
          "base_uri": "https://localhost:8080/"
        },
        "outputId": "48d5c023-b380-46ac-b2d9-d1f84b43b52b"
      },
      "outputs": [
        {
          "output_type": "stream",
          "name": "stdout",
          "text": [
            "399980000\n",
            "Tiempo de ejecución en segundos: 132.4849317073822\n",
            "Tiempo de ejecución en minutos: 2.2080821951230365\n"
          ]
        }
      ],
      "source": [
        "import time\n",
        "\n",
        "start_time = time.time()\n",
        "!python max_pairwise_product_full.py < input13Py.txt\n",
        "\n",
        "end_time = time.time()\n",
        "execution_time = end_time - start_time\n",
        "print(f\"Tiempo de ejecución en segundos: {execution_time}\")\n",
        "print(f\"Tiempo de ejecución en minutos: {execution_time/60}\")"
      ]
    },
    {
      "cell_type": "markdown",
      "metadata": {
        "id": "HhvacpkM3x8p"
      },
      "source": [
        "CONTAR NUMERO DE PASOS"
      ]
    },
    {
      "cell_type": "code",
      "execution_count": 82,
      "metadata": {
        "id": "a3IhQd1_3xV0",
        "colab": {
          "base_uri": "https://localhost:8080/"
        },
        "outputId": "2d37aa82-e357-447a-9941-332c696c3efa"
      },
      "outputs": [
        {
          "output_type": "stream",
          "name": "stdout",
          "text": [
            "Writing max_pairwise_product_full_count.py\n"
          ]
        }
      ],
      "source": [
        "%%writefile max_pairwise_product_full_count.py\n",
        "contador_instrucciones = 0\n",
        "cantidad_numeros = int(input())                        #1\n",
        "contador_instrucciones += 1\n",
        "lista_numeros = input().split()                        #1\n",
        "contador_instrucciones += 1\n",
        "lista_numeros = [int(x) for x in lista_numeros]        #n\n",
        "contador_instrucciones += cantidad_numeros\n",
        "\n",
        "producto_maximo = 0                                   #1\n",
        "contador_instrucciones += 1\n",
        "producto_auxiliar = 0                                 #1\n",
        "contador_instrucciones += 1\n",
        "for i in range(0, cantidad_numeros):                  #1+2n\n",
        "  contador_instrucciones += 1\n",
        "  contador_instrucciones += 2\n",
        "  for j in range(0, cantidad_numeros):                #n + 2n^2\n",
        "    contador_instrucciones += 2\n",
        "    contador_instrucciones += 1\n",
        "    if i != j:                                        #n^2\n",
        "      producto_auxiliar = lista_numeros[i]*lista_numeros[j]      #n^2 -n\n",
        "      contador_instrucciones += 1\n",
        "      contador_instrucciones += 1\n",
        "    if producto_maximo < producto_auxiliar:           #n^2 -n\n",
        "      producto_maximo = producto_auxiliar             #n * (n - 1) / 3\n",
        "      contador_instrucciones += 1\n",
        "\n",
        "print(\"Resultado: \"+str(producto_maximo))\n",
        "print(\"Número de instrucciones: \"+str(contador_instrucciones))  #5 + 3n + 3n^2 + 2(n^2 -n)+n * (n - 1) / 3\n"
      ]
    },
    {
      "cell_type": "markdown",
      "metadata": {
        "id": "xsJWKNhZEhPf"
      },
      "source": [
        "El número de instrucciones ejecutadas por el algoritmo con una lista de tamaño n es:\n",
        "\n",
        "$$T = 5 + 2n +5( n^{2}) +(n (n - 1) / 3)$$\n",
        "\n",
        "Depende del tamaño de las listas y el orden de la lista.\n",
        "Para el siguiente archivo input1.txt\n",
        "\n",
        "```\n",
        "10\n",
        "1 2 3 4 5 6 7 8 9 10\n",
        "```\n",
        "$$T = 5 + (20) + 5(10)(10) +  90/3= 555$$\n"
      ]
    },
    {
      "cell_type": "code",
      "execution_count": 83,
      "metadata": {
        "id": "LP_ItA-0GtGr",
        "colab": {
          "base_uri": "https://localhost:8080/"
        },
        "outputId": "87781ee5-ff87-4b0d-e89c-94e239561d67"
      },
      "outputs": [
        {
          "output_type": "stream",
          "name": "stdout",
          "text": [
            "Resultado: 90\n",
            "Número de instrucciones: 554\n"
          ]
        }
      ],
      "source": [
        "!python max_pairwise_product_full_count.py < input1.txt"
      ]
    },
    {
      "cell_type": "markdown",
      "metadata": {
        "id": "pyMe-eiDGsfZ"
      },
      "source": [
        "Depende del tamaño de las listas y el orden de la lista.\n",
        "Entonces para input13Py.txt:\n",
        "\n",
        "$$T = 5 + (60000) + 3(20000)(20000) + 2(20000)(20000)-20000 + 199990/3= 2000106668$$"
      ]
    },
    {
      "cell_type": "code",
      "execution_count": 84,
      "metadata": {
        "colab": {
          "base_uri": "https://localhost:8080/"
        },
        "id": "caSP_9XrJBW3",
        "outputId": "25edbb4e-bbd3-46be-9400-7a32e8b11bbd"
      },
      "outputs": [
        {
          "output_type": "stream",
          "name": "stdout",
          "text": [
            "Resultado: 399980000\n",
            "Número de instrucciones: 2000261148\n"
          ]
        }
      ],
      "source": [
        "!python max_pairwise_product_full_count.py < input13Py.txt"
      ]
    },
    {
      "cell_type": "markdown",
      "metadata": {
        "id": "ec2CFieMKJp8"
      },
      "source": [
        "Calcular el tiempo estimado por instrucción y el número de instrucciones por segundo"
      ]
    },
    {
      "cell_type": "code",
      "execution_count": 85,
      "metadata": {
        "colab": {
          "base_uri": "https://localhost:8080/"
        },
        "id": "5fSS1IpWY1Gm",
        "outputId": "ca2af9c1-a097-43b5-8e5e-acad03946532"
      },
      "outputs": [
        {
          "output_type": "stream",
          "name": "stdout",
          "text": [
            "600\n",
            "CPU times: user 19 ms, sys: 3.75 ms, total: 22.7 ms\n",
            "Wall time: 914 ms\n"
          ]
        }
      ],
      "source": [
        "%%time\n",
        "!g++ max_pairwise_product_long_full_execints.cpp -o max_pairwise_product_long_full_execints\n",
        "!./max_pairwise_product_long_full_execints < input1.txt"
      ]
    },
    {
      "cell_type": "code",
      "execution_count": 86,
      "metadata": {
        "colab": {
          "base_uri": "https://localhost:8080/"
        },
        "id": "YfuIkoxJZGEc",
        "outputId": "08824f02-8899-4a78-b6bb-f024a9fa210e"
      },
      "outputs": [
        {
          "output_type": "stream",
          "name": "stdout",
          "text": [
            "Resultado: 90\n",
            "Número de instrucciones: 554\n",
            "CPU times: user 6.34 ms, sys: 1.06 ms, total: 7.4 ms\n",
            "Wall time: 107 ms\n"
          ]
        }
      ],
      "source": [
        "%%time\n",
        "!python max_pairwise_product_full_count.py < input1.txt"
      ]
    },
    {
      "cell_type": "code",
      "execution_count": 87,
      "metadata": {
        "colab": {
          "base_uri": "https://localhost:8080/"
        },
        "id": "aq31HVzZZhkI",
        "outputId": "352210bc-5ae2-4927-c03d-c29292004d41"
      },
      "outputs": [
        {
          "output_type": "stream",
          "name": "stdout",
          "text": [
            "Tiempo por instrucción C++: 2.1833333333333333e-05\n",
            "Instrucciones por segundo C++: 45801.52671755725\n",
            "Tiempo por instrucción Python: 6.732851985559566e-06\n",
            "Instrucciones por segundo Python: 148525.4691689008\n"
          ]
        }
      ],
      "source": [
        "tiempo_por_instruccion = 0.0131 / 600\n",
        "instrucciones_por_segundo = 1 / tiempo_por_instruccion\n",
        "print(f\"Tiempo por instrucción C++: {tiempo_por_instruccion}\")\n",
        "print(f\"Instrucciones por segundo C++: {instrucciones_por_segundo}\")\n",
        "tiempo_por_instruccion = 0.00373 / 554\n",
        "instrucciones_por_segundo = 1 / tiempo_por_instruccion\n",
        "print(f\"Tiempo por instrucción Python: {tiempo_por_instruccion}\")\n",
        "print(f\"Instrucciones por segundo Python: {instrucciones_por_segundo}\")\n"
      ]
    },
    {
      "cell_type": "markdown",
      "metadata": {
        "id": "1EpIR-Z_aAXG"
      },
      "source": [
        "##Si reemplazamos T en las ecuaciones anteriores, tenemos:\n",
        "\n",
        "Máximo n que el programa C++ puede resolver en un segundo: 75.8\n",
        "\n",
        "Máximo n que el programa Python puede resolver en un segundo: 124.51"
      ]
    },
    {
      "cell_type": "markdown",
      "metadata": {
        "id": "fEZR-3V4ZjCv"
      },
      "source": [
        "# For the following solutions required  the same tests and analysis performed for the first solution"
      ]
    },
    {
      "cell_type": "markdown",
      "metadata": {
        "id": "MKQKSC-vKePK"
      },
      "source": [
        "## Solutions in C++ and Python that uses\n",
        "$$\\frac{n^2 - n}{2} = O(n^2)\\ \\ \\text{products}$$"
      ]
    },
    {
      "cell_type": "code",
      "execution_count": 88,
      "metadata": {
        "colab": {
          "base_uri": "https://localhost:8080/"
        },
        "id": "jkkHHoxSK65p",
        "outputId": "9bb9cf22-93ac-4e43-8c70-46b7f4628517"
      },
      "outputs": [
        {
          "output_type": "stream",
          "name": "stdout",
          "text": [
            "Writing max_pairwise_product.cpp\n"
          ]
        }
      ],
      "source": [
        "%%writefile max_pairwise_product.cpp\n",
        "#include <iostream>\n",
        "#include <vector>\n",
        "#include <algorithm>\n",
        "\n",
        "int MaxPairwiseProduct(const std::vector<int>& numbers) {\n",
        "    int max_product = 0;\n",
        "    int n = numbers.size();\n",
        "\n",
        "    for (int first = 0; first < n; ++first) {\n",
        "        for (int second = first + 1; second < n; ++second) {\n",
        "            max_product = std::max(max_product,\n",
        "                numbers[first] * numbers[second]);\n",
        "        }\n",
        "    }\n",
        "\n",
        "    return max_product;\n",
        "}\n",
        "\n",
        "int main() {\n",
        "    int n;\n",
        "    std::cin >> n;\n",
        "    std::vector<int> numbers(n);\n",
        "    for (int i = 0; i < n; ++i) {\n",
        "        std::cin >> numbers[i];\n",
        "    }\n",
        "\n",
        "    std::cout << MaxPairwiseProduct(numbers) << \"\\n\";\n",
        "    return 0;\n",
        "}"
      ]
    },
    {
      "cell_type": "code",
      "execution_count": 89,
      "metadata": {
        "colab": {
          "base_uri": "https://localhost:8080/"
        },
        "id": "RENEB7FnaVWt",
        "outputId": "0cc43d01-da2f-4e0a-ee8d-0b3f32cf15cb"
      },
      "outputs": [
        {
          "output_type": "stream",
          "name": "stdout",
          "text": [
            "2147483646\n",
            "\n",
            "real\t3m24.724s\n",
            "user\t3m22.098s\n",
            "sys\t0m0.069s\n"
          ]
        }
      ],
      "source": [
        "!g++ max_pairwise_product.cpp -o max_pairwise_product\n",
        "!time ./max_pairwise_product< input12.txt"
      ]
    },
    {
      "cell_type": "code",
      "execution_count": 90,
      "metadata": {
        "colab": {
          "base_uri": "https://localhost:8080/"
        },
        "id": "sU8-Ote7K8vz",
        "outputId": "d029b044-8a20-4552-d5f3-c624cb2877e6"
      },
      "outputs": [
        {
          "output_type": "stream",
          "name": "stdout",
          "text": [
            "Writing max_pairwise_product_long.cpp\n"
          ]
        }
      ],
      "source": [
        "%%writefile max_pairwise_product_long.cpp\n",
        "#include <iostream>\n",
        "#include <vector>\n",
        "#include <algorithm>\n",
        "\n",
        "long long MaxPairwiseProduct(const std::vector<int>& numbers) {              //INSTRUCTIONS executed by line\n",
        "    long long max_product = 0LL;                                             //1\n",
        "\t  long long aux_product = 0LL;                                             //1\n",
        "    int n = numbers.size();                                                  //1\n",
        "\n",
        "    for (int first = 0; first < n; ++first) {                                //2+2n\n",
        "        for (int second = first + 1; second < n; ++second) {                 //2n + (n-1)n\n",
        "\t\t\t       aux_product =  (long long) numbers[first] * numbers[second];    //(n-1)n/2\n",
        "            if (max_product < aux_product)  {                                //(n-1)n/2\n",
        "\t\t\t\t        max_product = aux_product;                                   //[1,(n-1)n/2)  upper bound\n",
        "             }\n",
        "        }\n",
        "    }\n",
        "                                                                             // --------------\n",
        "    return max_product;                                                      // 5 + 4n + [2(n-1)n+1, 2.5 (n-1)n) upper bound\n",
        "}\n",
        "\n",
        "int main() {                                              //INSTRUCTIONS executed by line\n",
        "    int n;                                                //1\n",
        "    std::cin >> n;                                        //1\n",
        "    std::vector<int> numbers(n);                          //n\n",
        "    for (int i = 0; i < n; ++i) {                         //2 + 2n\n",
        "        std::cin >> numbers[i];                           //n\n",
        "    }\n",
        "\n",
        "    std::cout << MaxPairwiseProduct(numbers) << \"\\n\";     //1 + 1  + 5 + 4n + [2(n-1)n+1, 2.5 (n-1)n) upper bound\n",
        "    return 0;                                             // --------------\n",
        "}                                                         // 11 + 7n + [2(n-1)n+1, 2.5 (n-1)n) upper bound\n"
      ]
    },
    {
      "cell_type": "markdown",
      "metadata": {
        "id": "K1yy1nqYa5_i"
      },
      "source": [
        "El algoritmo ejecuta un número de instrucciones\n",
        "$$T (n) = 9 + 7n + \\left[2(n-1), 2.5(n-1)n\\right] \\ \\  $$\n",
        "\n",
        "Dependiendo del tamaño y orden de la lista.\n",
        "Para el archivo input1.txt con una lista de 10 elementos ordenados:\n",
        "\n",
        "$$T(10) \\in [97, 304]  $$\n"
      ]
    },
    {
      "cell_type": "code",
      "execution_count": 91,
      "metadata": {
        "colab": {
          "base_uri": "https://localhost:8080/"
        },
        "id": "5QWT3fneK8nw",
        "outputId": "733387c7-461c-4f0f-c691-1d44db27787c"
      },
      "outputs": [
        {
          "output_type": "stream",
          "name": "stdout",
          "text": [
            "97 304.0\n"
          ]
        }
      ],
      "source": [
        "n = 10\n",
        "print(9 + 7*10+2*(n-1),9 + 7*10+2.5*(n-1)*n)"
      ]
    },
    {
      "cell_type": "code",
      "execution_count": 92,
      "metadata": {
        "colab": {
          "base_uri": "https://localhost:8080/"
        },
        "id": "mxIVvm1RK8dB",
        "outputId": "87a0a56d-e049-45b3-e6b9-455e743e5959"
      },
      "outputs": [
        {
          "output_type": "stream",
          "name": "stdout",
          "text": [
            "90\n"
          ]
        }
      ],
      "source": [
        "!g++ max_pairwise_product_long.cpp -o max_pairwise_product_long\n",
        "!./max_pairwise_product_long < input1.txt"
      ]
    },
    {
      "cell_type": "markdown",
      "metadata": {
        "id": "FbcknK_vdqx1"
      },
      "source": [
        "###Se continua en inglés debido a diferencias creativas\n"
      ]
    },
    {
      "cell_type": "markdown",
      "metadata": {
        "id": "TQaBwb7TOOLH"
      },
      "source": [
        "[texto del enlace](https://)### Now, in Python"
      ]
    },
    {
      "cell_type": "code",
      "execution_count": 93,
      "metadata": {
        "colab": {
          "base_uri": "https://localhost:8080/"
        },
        "id": "xEylLmfcdMf3",
        "outputId": "fe830b70-ce60-47dd-fcb8-2a7a52009020"
      },
      "outputs": [
        {
          "output_type": "stream",
          "name": "stdout",
          "text": [
            "Writing max_pairwise_product.py\n"
          ]
        }
      ],
      "source": [
        "%%writefile max_pairwise_product.py\n",
        "n = int(input())                        #1\n",
        "list = input().split()                  #1\n",
        "list = [int(x) for x in list]           #n\n",
        "\n",
        "maxProduct = 0                          #1\n",
        "auxProduct = 0                          #1\n",
        "for i in range(0,n):                    #1+2n\n",
        "  for j in range(i+1,n):                #((n**2)-n)/2\n",
        "    if i!=j:                            #((n**2)-n)/2\n",
        "      auxProduct = list[i]*list[j]      #((n**2)-n)/2\n",
        "    if maxProduct < auxProduct:         #((n**2)-n)/2\n",
        "      maxProduct = auxProduct           #[0,((n**2)-n)/2] upper bound\n",
        "\n",
        "                                        # --------------\n",
        "print(maxProduct)                       #5 + n + [5*n**2+1, 11*n**2/2  - n/2]  upper bound"
      ]
    },
    {
      "cell_type": "markdown",
      "metadata": {
        "id": "wgd982wt1QnU"
      },
      "source": [
        "Testing with previous txts"
      ]
    },
    {
      "cell_type": "code",
      "execution_count": 94,
      "metadata": {
        "colab": {
          "base_uri": "https://localhost:8080/"
        },
        "id": "1aOmF2f9dMf4",
        "outputId": "8c24906a-1bfa-4340-e222-6e53126ddeb3"
      },
      "outputs": [
        {
          "output_type": "stream",
          "name": "stdout",
          "text": [
            "chmod: cannot access 'max_pairwise_product_py': No such file or directory\n"
          ]
        }
      ],
      "source": [
        "!chmod +x max_pairwise_product_py\n",
        "\n",
        "!python max_pairwise_product.py < input3.txt > output3.txt\n",
        "!python max_pairwise_product.py < input4.txt > output4.txt\n",
        "!python max_pairwise_product.py < input5.txt > output5.txt\n",
        "!python max_pairwise_product.py < input6.txt > output6.txt\n",
        "!python max_pairwise_product.py < input7.txt > output7.txt\n",
        "!python max_pairwise_product.py < input8.txt > output8.txt\n",
        "!python max_pairwise_product.py < input9.txt > output9.txt\n",
        "!python max_pairwise_product.py < input10.txt > output10.txt"
      ]
    },
    {
      "cell_type": "code",
      "execution_count": 95,
      "metadata": {
        "colab": {
          "base_uri": "https://localhost:8080/"
        },
        "id": "_KhsFM1r4DzQ",
        "outputId": "3fb5d2c4-23cc-4451-a42e-994f8ab009e5"
      },
      "outputs": [
        {
          "output_type": "stream",
          "name": "stdout",
          "text": [
            "/bin/bash: line 1: inputPy.txt: No such file or directory\n",
            "Tiempo de ejecución en segundos: 0.10806393623352051\n",
            "Tiempo de ejecución en minutos: 0.0018010656038920084\n"
          ]
        }
      ],
      "source": [
        "import time\n",
        "\n",
        "start_time = time.time()\n",
        "!python max_pairwise_product.py < inputPy.txt\n",
        "\n",
        "end_time = time.time()\n",
        "execution_time = end_time - start_time\n",
        "print(f\"Tiempo de ejecución en segundos: {execution_time}\")\n",
        "print(f\"Tiempo de ejecución en minutos: {execution_time/60}\")"
      ]
    },
    {
      "cell_type": "markdown",
      "metadata": {
        "id": "bzvlXQ_ORo64"
      },
      "source": [
        "Program to count the number of steps it takes"
      ]
    },
    {
      "cell_type": "code",
      "execution_count": 96,
      "metadata": {
        "colab": {
          "base_uri": "https://localhost:8080/"
        },
        "id": "eSZ-gVLmGAO4",
        "outputId": "8a2d4805-12f2-4bb8-f919-bb040220124a"
      },
      "outputs": [
        {
          "output_type": "stream",
          "name": "stdout",
          "text": [
            "Writing max_pairwise_product_count.py\n"
          ]
        }
      ],
      "source": [
        "%%writefile max_pairwise_product_count.py\n",
        "op = 0\n",
        "xd =0\n",
        "n = int(input())                        #1\n",
        "op+=1\n",
        "list = input().split()                  #1\n",
        "op+=1\n",
        "list = [int(x) for x in list]           #n\n",
        "op += n\n",
        "\n",
        "maxProduct = 0                          #1\n",
        "op+=1\n",
        "auxProduct = 0                          #1\n",
        "op+=1\n",
        "for i in range(0,n):                    #1+2n\n",
        "  op+=1\n",
        "  op+=2\n",
        "  for j in range(i+1,n):                #((n**2)-n)/2\n",
        "    op+=1\n",
        "    if i!=j:                            #((n**2)-n)/2\n",
        "      auxProduct = list[i]*list[j]      #((n**2)-n)/2\n",
        "      op+=1\n",
        "      op+=1\n",
        "    op+=1\n",
        "    if maxProduct < auxProduct:         #n * (n - 1) / 2\n",
        "      maxProduct = auxProduct           #n * (n - 1) / 3\n",
        "      op+=1\n",
        "\n",
        "                                        # --------------For worst case\n",
        "print(\"Result: \"+str(maxProduct))\n",
        "print(\"Number of instructions: \"+str(op))                       #5 + 4n +2( n * (n - 1)) + (n * (n - 1) / 3)"
      ]
    },
    {
      "cell_type": "markdown",
      "metadata": {
        "id": "ItdeBnys70Di"
      },
      "source": [
        "The number of instructions executed by the algorithm with a list of size $n$ is  \n",
        "\n",
        "$$T = 5 + 4n +2( n(n - 1)) + (n (n - 1) / 3)$$\n",
        "\n",
        "It depends on the size of the lists and  the order of the list.\n",
        "\n",
        "For the input1.txt\n",
        "```\n",
        "10\n",
        "1 2 3 4 5 6 7 8 9 10\n",
        "```\n",
        "$$T = 5 + (40) + 2(10)(9) + (90)/3  = 259$$\n",
        "\n"
      ]
    },
    {
      "cell_type": "code",
      "execution_count": 97,
      "metadata": {
        "colab": {
          "base_uri": "https://localhost:8080/"
        },
        "id": "x6uB8hd_HXxr",
        "outputId": "06a48581-9135-491d-9e58-b13b42554174"
      },
      "outputs": [
        {
          "output_type": "stream",
          "name": "stdout",
          "text": [
            "Result: 90\n",
            "Number of instructions: 254\n"
          ]
        }
      ],
      "source": [
        "!python max_pairwise_product_count.py < input1.txt"
      ]
    },
    {
      "cell_type": "markdown",
      "metadata": {
        "id": "PTeEhcaQMc7C"
      },
      "source": [
        "For a big input"
      ]
    },
    {
      "cell_type": "markdown",
      "metadata": {
        "id": "UrfyF8NhMs2o"
      },
      "source": [
        "The number of instructions executed by the algooirithm with a list of size $n$ is  \n",
        "\n",
        "$$T = 5 + 4n +2( n(n - 1)) + (n (n - 1) / 3)$$\n",
        "\n",
        "It depends on the size of the lists and  the order of the list.\n",
        "\n",
        "For the input13Py.txt with 20000 numbers\n",
        "\n",
        "$$T = 5 + (80000) + 2(20000)(19999) + (199990)/3  = 800106668$$\n",
        "\n"
      ]
    },
    {
      "cell_type": "code",
      "execution_count": 98,
      "metadata": {
        "colab": {
          "base_uri": "https://localhost:8080/"
        },
        "id": "yaMn0VgJMfx5",
        "outputId": "4308b64f-14fb-4b54-cc4e-73fc455bacba"
      },
      "outputs": [
        {
          "output_type": "stream",
          "name": "stdout",
          "text": [
            "Result: 399980000\n",
            "Number of instructions: 800261148\n"
          ]
        }
      ],
      "source": [
        "!python max_pairwise_product_count.py < input13Py.txt"
      ]
    },
    {
      "cell_type": "markdown",
      "metadata": {
        "id": "e0cgkVJUZE2n"
      },
      "source": [
        "###Calculate estimated time by instruction and number of instructions by second"
      ]
    },
    {
      "cell_type": "code",
      "execution_count": 99,
      "metadata": {
        "colab": {
          "base_uri": "https://localhost:8080/"
        },
        "id": "r26O09mlZcxp",
        "outputId": "5bbe8377-09c6-4cff-9da1-7128a189dc8f"
      },
      "outputs": [
        {
          "output_type": "stream",
          "name": "stdout",
          "text": [
            "\u001b[01m\u001b[Kcc1plus:\u001b[m\u001b[K \u001b[01;31m\u001b[Kfatal error: \u001b[m\u001b[Kmax_pairwise_product_long_count.cpp: No such file or directory\n",
            "compilation terminated.\n",
            "/bin/bash: line 1: ./max_pairwise_product_long_count: No such file or directory\n",
            "CPU times: user 12.4 ms, sys: 2.97 ms, total: 15.4 ms\n",
            "Wall time: 212 ms\n"
          ]
        }
      ],
      "source": [
        "%%time\n",
        "!g++ max_pairwise_product_long_count.cpp -o max_pairwise_product_long_count\n",
        "!./max_pairwise_product_long_count < input1.txt"
      ]
    },
    {
      "cell_type": "code",
      "execution_count": 100,
      "metadata": {
        "colab": {
          "base_uri": "https://localhost:8080/"
        },
        "id": "1iRLUvKBZ0SP",
        "outputId": "b3d1aec2-a61e-4483-d3da-fb78dc5de3b9"
      },
      "outputs": [
        {
          "output_type": "stream",
          "name": "stdout",
          "text": [
            "Result: 90\n",
            "Number of instructions: 254\n",
            "CPU times: user 5.31 ms, sys: 2.08 ms, total: 7.39 ms\n",
            "Wall time: 107 ms\n"
          ]
        }
      ],
      "source": [
        "%%time\n",
        "!python max_pairwise_product_count.py < input1.txt"
      ]
    },
    {
      "cell_type": "code",
      "execution_count": 101,
      "metadata": {
        "colab": {
          "base_uri": "https://localhost:8080/"
        },
        "id": "Bp5bFzs7ZMZv",
        "outputId": "2c3d1e76-806d-4ca1-a2a4-a816b6144033"
      },
      "outputs": [
        {
          "output_type": "stream",
          "name": "stdout",
          "text": [
            "Time per instruction C++: 5.800865800865801e-05\n",
            "Instructions per second C++: 17238.805970149253\n",
            "Time per instruction Python: 1.7716535433070864e-05\n",
            "Instructions per second Python: 56444.44444444445\n"
          ]
        }
      ],
      "source": [
        "time_per_ins = 0.0134 / 231\n",
        "instructions_per_second = 1 / time_per_ins\n",
        "print(f\"Time per instruction C++: {time_per_ins}\")\n",
        "print(f\"Instructions per second C++: {instructions_per_second}\")\n",
        "time_per_ins = 0.0045 / 254\n",
        "instructions_per_second = 1 / time_per_ins\n",
        "print(f\"Time per instruction Python: {time_per_ins}\")\n",
        "print(f\"Instructions per second Python: {instructions_per_second}\")"
      ]
    },
    {
      "cell_type": "markdown",
      "metadata": {
        "id": "jlzLhZysclTS"
      },
      "source": [
        "**If we replace T in the previous equations we have:**\n",
        "\n",
        "Max n that c++ program can solve in a second: 82.12\n",
        "\n",
        "Max n that python program can solve in a second: 154.95"
      ]
    },
    {
      "cell_type": "markdown",
      "metadata": {
        "id": "1Hsbd-uHOb_j"
      },
      "source": [
        "### Sort solution in C++ and Python\n",
        "\n",
        "$$ O(n \\lg n)$$\n",
        "\n",
        "**Which sorting algorithm is used in GCC?**\n",
        "https://stackoverflow.com/questions/7221257/which-sorting-algorithm-is-used-in-gcc\n",
        "\n",
        "* ...  the algorithm is called introsort, a combination between Insertionsort, Quicksort & Heapsort. ...\n",
        "\n",
        "**Introsort**\n",
        "https://en.wikipedia.org/wiki/Introsort\n",
        "\n",
        "Introsort or introspective sort is a hybrid sorting algorithm that provides both fast average performance and (asymptotically) optimal worst-case performance. It begins with quicksort, it switches to heapsort when the recursion depth exceeds a level based on (the logarithm of) the number of elements being sorted and it switches to insertion sort when the number of elements is below some threshold\n",
        "\n",
        "*   Class\tSorting algorithm\n",
        "*   Data structure\tArray\n",
        "*   Worst-case performance\t$O(n \\lg n)$\n",
        "*   Average performance\t$O(n \\lg n)$\n",
        "\n",
        "**Tinsort**\n",
        "https://en.wikipedia.org/wiki/Timsort\n",
        "\n",
        "Timsort is a hybrid, stable sorting algorithm, derived from merge sort and insertion sort, designed to perform well on many kinds of real-world data. It was implemented by Tim Peters in 2002 for use in the Python programming language.\n",
        "\n",
        "*   Class\tSorting algorithm\n",
        "*   Data structure\tArray\n",
        "*   Worst-case performance\t$O(n \\lg n)$\n",
        "*   Best-case performance $O(n)$\n",
        "*   Average performance\t$O(n \\lg n)$\n",
        "*   Worst-case space complexity $O(n)$"
      ]
    },
    {
      "cell_type": "markdown",
      "metadata": {
        "id": "WMUthAXjOb_k"
      },
      "source": [
        "Add in each line a coment with the number of intstrcution that are executed in that line"
      ]
    },
    {
      "cell_type": "code",
      "execution_count": 102,
      "metadata": {
        "colab": {
          "base_uri": "https://localhost:8080/"
        },
        "id": "2-sXOmqFOb_k",
        "outputId": "c7d24359-1398-4394-a0a6-85d01a7d8efd"
      },
      "outputs": [
        {
          "output_type": "stream",
          "name": "stdout",
          "text": [
            "Writing max_pairwise_sort_nlogn.cpp\n"
          ]
        }
      ],
      "source": [
        "%%writefile max_pairwise_sort_nlogn.cpp\n",
        "#include <iostream>\n",
        "#include <vector>\n",
        "#include <algorithm>\n",
        "\n",
        "using namespace std;\n",
        "\n",
        "int main() {\n",
        "    cout << \"C++\" << \"\\n\";\n",
        "    int n;                                     // 1\n",
        "    cin >> n;                                  // 1\n",
        "    vector<int> numbers(n);                    // n\n",
        "\n",
        "    for (int i = 0; i < n; ++i) {              //1 + 2n\n",
        "        cin >> numbers[i];                     // 1\n",
        "    }\n",
        "\n",
        "    sort(numbers.begin(), numbers.end());      // n*long\n",
        "    cout <<  \"Product: \" << numbers[numbers.size() - 1] * numbers[numbers.size() - 2] << \"\\n\"; // 1\n",
        "    return 0;                                  // 1\n",
        "}"
      ]
    },
    {
      "cell_type": "code",
      "execution_count": 103,
      "metadata": {
        "colab": {
          "base_uri": "https://localhost:8080/"
        },
        "id": "S9haeyZjrfeR",
        "outputId": "f64c631f-2112-465e-821c-0ae97604fac1"
      },
      "outputs": [
        {
          "output_type": "stream",
          "name": "stdout",
          "text": [
            "Writing max_pairwise_sort_nlogn.py\n"
          ]
        }
      ],
      "source": [
        "%%writefile max_pairwise_sort_nlogn.py\n",
        "print(\"Python 3\")\n",
        "# Read input values\n",
        "n = int(input())              # 1\n",
        "numbers = list(map(int, input().split()))  # n\n",
        "\n",
        "# Sort the list\n",
        "numbers.sort()                # n*log(n)\n",
        "\n",
        "# Calculate the maximum pairwise product\n",
        "result = numbers[-1] * numbers[-2]  # 1\n",
        "\n",
        "# Print the result\n",
        "print(f\"Product: {result}\")"
      ]
    },
    {
      "cell_type": "markdown",
      "metadata": {
        "id": "v8pdV9ABOb_k"
      },
      "source": [
        "Test with inputs 1 and 2\n",
        "\n"
      ]
    },
    {
      "cell_type": "code",
      "execution_count": 104,
      "metadata": {
        "colab": {
          "base_uri": "https://localhost:8080/"
        },
        "id": "kdXAyLG4Ob_k",
        "outputId": "7b59f23f-23dc-4a9e-8f29-fb838351c3d5"
      },
      "outputs": [
        {
          "output_type": "stream",
          "name": "stdout",
          "text": [
            "C++\n",
            "Product: 90\n",
            "C++\n",
            "Product: 90\n",
            "Python 3\n",
            "Product: 90\n",
            "Python 3\n",
            "Product: 90\n"
          ]
        }
      ],
      "source": [
        "!g++ max_pairwise_sort_nlogn.cpp -o max_pairwise_sort_nlogn\n",
        "!./max_pairwise_sort_nlogn < input1.txt\n",
        "!./max_pairwise_sort_nlogn < input2.txt\n",
        "!python max_pairwise_sort_nlogn.py < input1.txt\n",
        "!python max_pairwise_sort_nlogn.py < input2.txt"
      ]
    },
    {
      "cell_type": "markdown",
      "metadata": {
        "id": "Sw-5X1q1Ob_k"
      },
      "source": [
        "Test and time it with input 3"
      ]
    },
    {
      "cell_type": "code",
      "execution_count": 105,
      "metadata": {
        "colab": {
          "base_uri": "https://localhost:8080/"
        },
        "id": "ryHJ30WIOb_k",
        "outputId": "1702eb34-c5ff-44f6-89df-4615278fc97d"
      },
      "outputs": [
        {
          "output_type": "stream",
          "name": "stdout",
          "text": [
            "C++\n",
            "Product: 6062020\n"
          ]
        }
      ],
      "source": [
        "!g++ max_pairwise_sort_nlogn.cpp -o max_pairwise_sort_nlogn\n",
        "!./max_pairwise_sort_nlogn < input3.txt"
      ]
    },
    {
      "cell_type": "markdown",
      "metadata": {
        "id": "oJGdPl1HOb_k"
      },
      "source": [
        "20 stress tests"
      ]
    },
    {
      "cell_type": "code",
      "execution_count": 106,
      "metadata": {
        "id": "qbc2EGGN7hd5"
      },
      "outputs": [],
      "source": [
        "#CREATE 20 random texts\n",
        "import random\n",
        "\n",
        "for i in range(1,21):\n",
        "    fileName = f\"stress_input_{i}.txt\"\n",
        "\n",
        "    with open(fileName, \"w\") as file:\n",
        "      n = random.randint(3, 40)\n",
        "      file.write(f\"{n}\"+ \"\\n\")\n",
        "      for i in range(1,n):\n",
        "          file.write(str(random.randint(1, 100)) + \" \")\n"
      ]
    },
    {
      "cell_type": "code",
      "execution_count": 107,
      "metadata": {
        "colab": {
          "base_uri": "https://localhost:8080/"
        },
        "id": "dp1-W_qPtfpI",
        "outputId": "e79ddcfc-add0-4893-bba1-e782e8b79b68"
      },
      "outputs": [
        {
          "output_type": "stream",
          "name": "stdout",
          "text": [
            "C++\n",
            "Product: 9604\n",
            "C++\n",
            "Product: 9801\n",
            "C++\n",
            "Product: 3256\n",
            "C++\n",
            "Product: 7917\n",
            "C++\n",
            "Product: 9500\n",
            "C++\n",
            "Product: 9009\n",
            "C++\n",
            "Product: 7308\n",
            "C++\n",
            "Product: 10000\n",
            "C++\n",
            "Product: 9306\n",
            "C++\n",
            "Product: 5795\n",
            "C++\n",
            "Product: 9800\n",
            "C++\n",
            "Product: 7832\n",
            "C++\n",
            "Product: 8645\n",
            "C++\n",
            "Product: 9600\n",
            "C++\n",
            "Product: 9604\n",
            "C++\n",
            "Product: 8924\n",
            "C++\n",
            "Product: 9506\n",
            "C++\n",
            "Product: 8460\n",
            "C++\n",
            "Product: 9900\n",
            "C++\n",
            "Product: 9408\n"
          ]
        }
      ],
      "source": [
        "!g++ max_pairwise_sort_nlogn.cpp -o max_pairwise_sort_nlogn\n",
        "!./max_pairwise_sort_nlogn < stress_input_1.txt\n",
        "!./max_pairwise_sort_nlogn < stress_input_2.txt\n",
        "!./max_pairwise_sort_nlogn < stress_input_3.txt\n",
        "!./max_pairwise_sort_nlogn < stress_input_4.txt\n",
        "!./max_pairwise_sort_nlogn < stress_input_5.txt\n",
        "!./max_pairwise_sort_nlogn < stress_input_6.txt\n",
        "!./max_pairwise_sort_nlogn < stress_input_7.txt\n",
        "!./max_pairwise_sort_nlogn < stress_input_8.txt\n",
        "!./max_pairwise_sort_nlogn < stress_input_9.txt\n",
        "!./max_pairwise_sort_nlogn < stress_input_10.txt\n",
        "!./max_pairwise_sort_nlogn < stress_input_11.txt\n",
        "!./max_pairwise_sort_nlogn < stress_input_12.txt\n",
        "!./max_pairwise_sort_nlogn < stress_input_13.txt\n",
        "!./max_pairwise_sort_nlogn < stress_input_14.txt\n",
        "!./max_pairwise_sort_nlogn < stress_input_15.txt\n",
        "!./max_pairwise_sort_nlogn < stress_input_16.txt\n",
        "!./max_pairwise_sort_nlogn < stress_input_17.txt\n",
        "!./max_pairwise_sort_nlogn < stress_input_18.txt\n",
        "!./max_pairwise_sort_nlogn < stress_input_19.txt\n",
        "!./max_pairwise_sort_nlogn < stress_input_20.txt\n"
      ]
    },
    {
      "cell_type": "code",
      "execution_count": 108,
      "metadata": {
        "colab": {
          "base_uri": "https://localhost:8080/"
        },
        "id": "JOQFXLbC9HZm",
        "outputId": "51eba85a-7694-4c87-e94c-61e1a804f7cc"
      },
      "outputs": [
        {
          "output_type": "stream",
          "name": "stdout",
          "text": [
            "Python 3\n",
            "Product: 9604\n",
            "Python 3\n",
            "Product: 9801\n",
            "Python 3\n",
            "Product: 3256\n",
            "Python 3\n",
            "Product: 7917\n",
            "Python 3\n",
            "Product: 9500\n",
            "Python 3\n",
            "Product: 9009\n",
            "Python 3\n",
            "Product: 7308\n",
            "Python 3\n",
            "Product: 10000\n",
            "Python 3\n",
            "Product: 9306\n",
            "Python 3\n",
            "Product: 5795\n",
            "Python 3\n",
            "Product: 9800\n",
            "Python 3\n",
            "Product: 7832\n",
            "Python 3\n",
            "Product: 8645\n",
            "Python 3\n",
            "Product: 9600\n",
            "Python 3\n",
            "Product: 9604\n",
            "Python 3\n",
            "Product: 8924\n",
            "Python 3\n",
            "Product: 9506\n",
            "Python 3\n",
            "Product: 8460\n",
            "Python 3\n",
            "Product: 9900\n",
            "Python 3\n",
            "Product: 9408\n"
          ]
        }
      ],
      "source": [
        "!python max_pairwise_sort_nlogn.py < stress_input_1.txt\n",
        "!python max_pairwise_sort_nlogn.py < stress_input_2.txt\n",
        "!python max_pairwise_sort_nlogn.py < stress_input_3.txt\n",
        "!python max_pairwise_sort_nlogn.py < stress_input_4.txt\n",
        "!python max_pairwise_sort_nlogn.py < stress_input_5.txt\n",
        "!python max_pairwise_sort_nlogn.py < stress_input_6.txt\n",
        "!python max_pairwise_sort_nlogn.py < stress_input_7.txt\n",
        "!python max_pairwise_sort_nlogn.py < stress_input_8.txt\n",
        "!python max_pairwise_sort_nlogn.py < stress_input_9.txt\n",
        "!python max_pairwise_sort_nlogn.py < stress_input_10.txt\n",
        "!python max_pairwise_sort_nlogn.py < stress_input_11.txt\n",
        "!python max_pairwise_sort_nlogn.py < stress_input_12.txt\n",
        "!python max_pairwise_sort_nlogn.py < stress_input_13.txt\n",
        "!python max_pairwise_sort_nlogn.py < stress_input_14.txt\n",
        "!python max_pairwise_sort_nlogn.py < stress_input_15.txt\n",
        "!python max_pairwise_sort_nlogn.py < stress_input_16.txt\n",
        "!python max_pairwise_sort_nlogn.py < stress_input_17.txt\n",
        "!python max_pairwise_sort_nlogn.py < stress_input_18.txt\n",
        "!python max_pairwise_sort_nlogn.py < stress_input_19.txt\n",
        "!python max_pairwise_sort_nlogn.py < stress_input_20.txt"
      ]
    },
    {
      "cell_type": "markdown",
      "metadata": {
        "id": "2beTmWFPOb_k"
      },
      "source": [
        "Count executed instructions in code and verify with inputs 1,2 and 3\n"
      ]
    },
    {
      "cell_type": "code",
      "execution_count": 109,
      "metadata": {
        "colab": {
          "base_uri": "https://localhost:8080/"
        },
        "id": "iuByv4x1Ob_k",
        "outputId": "8a67752a-5163-40b8-c288-4175b657c1b3"
      },
      "outputs": [
        {
          "output_type": "stream",
          "name": "stdout",
          "text": [
            "Writing max_pairwise_sort_nlogn_count.cpp\n"
          ]
        }
      ],
      "source": [
        "%%writefile max_pairwise_sort_nlogn_count.cpp\n",
        "#include <iostream>\n",
        "#include <vector>\n",
        "#include <algorithm>\n",
        "#include <bits/stdc++.h>\n",
        "\n",
        "using namespace std;\n",
        "\n",
        "int main() {\n",
        "    cout << \"C++\" << \"\\n\";\n",
        "\n",
        "    uint64_t execints = 0;\n",
        "\n",
        "    int n;                                     // 1\n",
        "    execints++;\n",
        "    cin >> n;                                  // 1\n",
        "    execints++;\n",
        "    vector<int> numbers(n);                    // n\n",
        "    execints += n;\n",
        "\n",
        "    for (int i = 0; i < n; ++i) {              //1 + 2n\n",
        "        execints += 2;\n",
        "        cin >> numbers[i];                     // 1\n",
        "        execints++;\n",
        "    }\n",
        "\n",
        "    sort(numbers.begin(), numbers.end());      // n*long\n",
        "\n",
        "    execints += n * log2(n);\n",
        "\n",
        "    cout <<  numbers[n - 1] * numbers[n - 2] << \"\\n\"; // 3\n",
        "\n",
        "    execints += 3;\n",
        "\n",
        "    cout << \"Executed instructions: \" << execints << \"\\n\";\n",
        "\n",
        "    return 0;                                  // 1\n",
        "}"
      ]
    },
    {
      "cell_type": "code",
      "execution_count": 110,
      "metadata": {
        "colab": {
          "base_uri": "https://localhost:8080/"
        },
        "id": "xbcAsy911mBI",
        "outputId": "768fd26f-4b52-4715-ffa3-9d809d00fe22"
      },
      "outputs": [
        {
          "output_type": "stream",
          "name": "stdout",
          "text": [
            "Writing max_pairwise_sort_nlogn_count.py\n"
          ]
        }
      ],
      "source": [
        "%%writefile max_pairwise_sort_nlogn_count.py\n",
        "\n",
        "import math\n",
        "\n",
        "print(\"Python 3\")\n",
        "\n",
        "# Read input values\n",
        "\n",
        "execints = 0\n",
        "n = int(input())              # 1\n",
        "\n",
        "execints += 1\n",
        "numbers = list(map(int, input().split()))  # 4n (n input read + map o(n) + create list + cast to int values)\n",
        "\n",
        "execints += 4 * n\n",
        "\n",
        "# Sort the list\n",
        "numbers.sort()                # n*log(n)\n",
        "\n",
        "execints += math.log2(n)\n",
        "\n",
        "# Calculate the maximum pairwise product\n",
        "result = numbers[-1] * numbers[-2]  # 3\n",
        "\n",
        "execints += 3\n",
        "\n",
        "# Print the result\n",
        "print(f\"Executed instructions: {int(execints)}\")"
      ]
    },
    {
      "cell_type": "code",
      "execution_count": 111,
      "metadata": {
        "colab": {
          "base_uri": "https://localhost:8080/"
        },
        "id": "D_s-BXN5zgMV",
        "outputId": "3f8a851e-de4b-4051-bc94-bb8c43110e61"
      },
      "outputs": [
        {
          "output_type": "stream",
          "name": "stdout",
          "text": [
            "C++\n",
            "90\n",
            "Executed instructions: 78\n",
            "C++\n",
            "90\n",
            "Executed instructions: 78\n",
            "C++\n",
            "6062020\n",
            "Executed instructions: 44\n",
            "Python 3\n",
            "Executed instructions: 47\n",
            "Python 3\n",
            "Executed instructions: 47\n",
            "Python 3\n",
            "Executed instructions: 30\n"
          ]
        }
      ],
      "source": [
        "!g++ max_pairwise_sort_nlogn_count.cpp -o max_pairwise_sort_nlogn_count\n",
        "!./max_pairwise_sort_nlogn_count < input1.txt\n",
        "!./max_pairwise_sort_nlogn_count < input2.txt\n",
        "!./max_pairwise_sort_nlogn_count < input3.txt\n",
        "!python max_pairwise_sort_nlogn_count.py < input1.txt\n",
        "!python max_pairwise_sort_nlogn_count.py < input2.txt\n",
        "!python max_pairwise_sort_nlogn_count.py < input3.txt"
      ]
    },
    {
      "cell_type": "markdown",
      "metadata": {
        "id": "x2CXhkwTOb_l"
      },
      "source": [
        "Calculate estimated time by instruction and number of instructions by second"
      ]
    },
    {
      "cell_type": "code",
      "execution_count": 112,
      "metadata": {
        "colab": {
          "base_uri": "https://localhost:8080/"
        },
        "id": "nTjxyTMtOb_l",
        "outputId": "5a0e04fb-a970-4e16-a3c0-fbe70c7d485c"
      },
      "outputs": [
        {
          "output_type": "stream",
          "name": "stdout",
          "text": [
            "C++\n",
            "90\n",
            "Executed instructions: 78\n",
            "CPU times: user 31.8 ms, sys: 2.9 ms, total: 34.7 ms\n",
            "Wall time: 2.22 s\n"
          ]
        }
      ],
      "source": [
        "%%time\n",
        "!g++ max_pairwise_sort_nlogn_count.cpp -o max_pairwise_sort_nlogn_count\n",
        "!./max_pairwise_sort_nlogn_count < input1.txt"
      ]
    },
    {
      "cell_type": "code",
      "execution_count": 113,
      "metadata": {
        "colab": {
          "base_uri": "https://localhost:8080/"
        },
        "id": "APESHrNY6AIp",
        "outputId": "10606a38-8bca-4544-8559-db8c98029536"
      },
      "outputs": [
        {
          "output_type": "stream",
          "name": "stdout",
          "text": [
            "Python 3\n",
            "Executed instructions: 47\n",
            "CPU times: user 7.9 ms, sys: 86 µs, total: 7.99 ms\n",
            "Wall time: 108 ms\n"
          ]
        }
      ],
      "source": [
        "%%time\n",
        "!python max_pairwise_sort_nlogn_count.py < input1.txt"
      ]
    },
    {
      "cell_type": "code",
      "execution_count": 114,
      "metadata": {
        "colab": {
          "base_uri": "https://localhost:8080/"
        },
        "id": "mgqLSRYx40ud",
        "outputId": "b2e30bb5-a06c-4413-ad21-d185baab512e"
      },
      "outputs": [
        {
          "output_type": "stream",
          "name": "stdout",
          "text": [
            "Time per instruction C++: 0.0003205128205128205\n",
            "Instructions per second C++: 3120.0\n",
            "Time per instruction Python: 0.00014914893617021276\n",
            "Instructions per second Python: 6704.707560627675\n"
          ]
        }
      ],
      "source": [
        "time_per_ins = 0.025 / 78\n",
        "instructions_per_second = 1 / time_per_ins\n",
        "print(f\"Time per instruction C++: {time_per_ins}\")\n",
        "print(f\"Instructions per second C++: {instructions_per_second}\")\n",
        "time_per_ins = 0.00701 / 47\n",
        "instructions_per_second = 1 / time_per_ins\n",
        "print(f\"Time per instruction Python: {time_per_ins}\")\n",
        "print(f\"Instructions per second Python: {instructions_per_second}\")"
      ]
    },
    {
      "cell_type": "markdown",
      "metadata": {
        "id": "flpp06SeE_UA"
      },
      "source": []
    },
    {
      "cell_type": "markdown",
      "metadata": {
        "id": "VMKC5duEOQfk"
      },
      "source": [
        "### Efficient solution largest and second-largest in an list, array or vector in C++ and Python\n",
        " $$2.5 n = O(n)$$\n",
        "\n",
        "\n",
        "\n"
      ]
    },
    {
      "cell_type": "markdown",
      "metadata": {
        "id": "nLcKBwbU0QsE"
      },
      "source": [
        "Add in each line a coment with the number of intstrcution that are executed in that line"
      ]
    },
    {
      "cell_type": "code",
      "execution_count": 115,
      "metadata": {
        "colab": {
          "base_uri": "https://localhost:8080/"
        },
        "id": "knls5Fh3NSt_",
        "outputId": "8028c651-c041-44ee-e7e0-05e8a0aabf2b"
      },
      "outputs": [
        {
          "output_type": "stream",
          "name": "stdout",
          "text": [
            "Writing max_pairwise_sort_efficient.cpp\n"
          ]
        }
      ],
      "source": [
        "%%writefile max_pairwise_sort_efficient.cpp\n",
        "#include <iostream>\n",
        "#include <vector>\n",
        "#include <algorithm>\n",
        "#include <limits.h>\n",
        "\n",
        "using namespace std;\n",
        "\n",
        "int main() {\n",
        "    cout << \"--- C++ ---\" << \"\\n\";\n",
        "    int n;                                     // 1\n",
        "    cin >> n;                                  // 1\n",
        "    int maxNumber = INT_MIN;                   // 1\n",
        "    int secondMaxNumber = INT_MIN;             // 1\n",
        "\n",
        "    vector<int> numbers(n);                    // n\n",
        "\n",
        "    for (int i = 0; i < n; ++i) {              // 1 + 2n\n",
        "        cin >> numbers[i];                     // n\n",
        "    }\n",
        "\n",
        "\n",
        "    for (int i = 0; i < n; ++i) {              //1 + 2n\n",
        "        int aux = numbers[i];                           // n\n",
        "\n",
        "        if (aux > maxNumber){                  // n\n",
        "          secondMaxNumber = maxNumber;         // [0, n] in the worst case it would be n times\n",
        "          maxNumber = aux;                     // [0, n] in the worst case it would be n times\n",
        "\n",
        "        } else if (aux > secondMaxNumber) {    // n\n",
        "          secondMaxNumber = aux;               // [0, n] in the worst case it would be n times\n",
        "        }\n",
        "\n",
        "    }\n",
        "\n",
        "    cout <<  \"Product: \" << maxNumber * secondMaxNumber << \"\\n\"; // 1\n",
        "    return 0;                                  // 1\n",
        "}"
      ]
    },
    {
      "cell_type": "code",
      "execution_count": 116,
      "metadata": {
        "colab": {
          "base_uri": "https://localhost:8080/"
        },
        "id": "ghPCOA_eJE89",
        "outputId": "75d3209b-eef7-4db3-8c3c-3d836bcca221"
      },
      "outputs": [
        {
          "output_type": "stream",
          "name": "stdout",
          "text": [
            "Writing max_pairwise_sort_efficient.py\n"
          ]
        }
      ],
      "source": [
        "%%writefile max_pairwise_sort_efficient.py\n",
        "print(\"--- Python ---\")\n",
        "n = int(input())\n",
        "numbers = list(map(int, input().split()))\n",
        "\n",
        "max_number = float(\"-inf\")                   # 1\n",
        "second_max_number = float(\"-inf\")            # 1\n",
        "\n",
        "for num in numbers:                          # 1 + 2n\n",
        "    if num > max_number:                     # n\n",
        "        second_max_number = max_number       # [0, n] in the worst case it would be n times\n",
        "        max_number = num                     # [0, n] in the worst case it would be n times\n",
        "    elif num > second_max_number:            # n\n",
        "        second_max_number = num              # [0, n] in the worst case it would be n times\n",
        "\n",
        "product = max_number * second_max_number     # 1\n",
        "print(f\"Product: {product}\")                 # 1"
      ]
    },
    {
      "cell_type": "markdown",
      "metadata": {
        "id": "-JCijbWxNSii"
      },
      "source": [
        "Test with inputs 1 and 2\n",
        "\n"
      ]
    },
    {
      "cell_type": "code",
      "execution_count": 117,
      "metadata": {
        "colab": {
          "base_uri": "https://localhost:8080/"
        },
        "id": "TrTGAfqlNVXT",
        "outputId": "cf36830c-ffa5-4ba8-d446-e142778dce2e"
      },
      "outputs": [
        {
          "output_type": "stream",
          "name": "stdout",
          "text": [
            "--- C++ ---\n",
            "Product: 90\n",
            "--- C++ ---\n",
            "Product: 90\n",
            "--- Python ---\n",
            "Product: 90\n",
            "--- Python ---\n",
            "Product: 90\n"
          ]
        }
      ],
      "source": [
        "!g++ max_pairwise_sort_efficient.cpp -o max_pairwise_sort_efficient\n",
        "!./max_pairwise_sort_efficient < input1.txt\n",
        "!./max_pairwise_sort_efficient < input2.txt\n",
        "! python max_pairwise_sort_efficient.py < input1.txt\n",
        "! python max_pairwise_sort_efficient.py < input2.txt"
      ]
    },
    {
      "cell_type": "markdown",
      "metadata": {
        "id": "PRX51wADNR8b"
      },
      "source": [
        "Test and time it with input 3"
      ]
    },
    {
      "cell_type": "code",
      "execution_count": 118,
      "metadata": {
        "colab": {
          "base_uri": "https://localhost:8080/"
        },
        "id": "v4z7-Is_NRt7",
        "outputId": "0bc84eed-805b-4ee5-9d99-3399ac75ce54"
      },
      "outputs": [
        {
          "output_type": "stream",
          "name": "stdout",
          "text": [
            "--- C++ ---\n",
            "Product: 6062020\n",
            "--- Python ---\n",
            "Product: 6062020\n"
          ]
        }
      ],
      "source": [
        "!g++ max_pairwise_sort_efficient.cpp -o max_pairwise_sort_efficient\n",
        "!./max_pairwise_sort_efficient < input3.txt\n",
        "! python max_pairwise_sort_efficient.py < input3.txt"
      ]
    },
    {
      "cell_type": "markdown",
      "metadata": {
        "id": "rpdfs0_TNZJf"
      },
      "source": [
        "***20*** stress tests"
      ]
    },
    {
      "cell_type": "code",
      "execution_count": 119,
      "metadata": {
        "id": "Lu4tYcKzNcTT"
      },
      "outputs": [],
      "source": [
        "#CREATE 20 random texts\n",
        "import random\n",
        "\n",
        "for i in range(1,21):\n",
        "    fileName = f\"stress_input_{i}.txt\"\n",
        "\n",
        "    with open(fileName, \"w\") as file:\n",
        "      n = random.randint(3, 40)\n",
        "      file.write(f\"{n}\"+ \"\\n\")\n",
        "      for i in range(1,n):\n",
        "          file.write(str(random.randint(1, 100)) + \" \")"
      ]
    },
    {
      "cell_type": "code",
      "execution_count": 120,
      "metadata": {
        "colab": {
          "base_uri": "https://localhost:8080/"
        },
        "id": "tFqpTmZtM_jO",
        "outputId": "8a6dbb79-8438-47af-d027-ccc3324dc699"
      },
      "outputs": [
        {
          "output_type": "stream",
          "name": "stdout",
          "text": [
            "--- C++ ---\n",
            "Product: 9504\n",
            "--- C++ ---\n",
            "Product: 8624\n",
            "--- C++ ---\n",
            "Product: 864\n",
            "--- C++ ---\n",
            "Product: 9603\n",
            "--- C++ ---\n",
            "Product: 6177\n",
            "--- C++ ---\n",
            "Product: 8645\n",
            "--- C++ ---\n",
            "Product: 7120\n",
            "--- C++ ---\n",
            "Product: 9207\n",
            "--- C++ ---\n",
            "Product: 6912\n",
            "--- C++ ---\n",
            "Product: 8918\n",
            "--- C++ ---\n",
            "Product: 8836\n",
            "--- C++ ---\n",
            "Product: 5160\n",
            "--- C++ ---\n",
            "Product: 8550\n",
            "--- C++ ---\n",
            "Product: 8740\n",
            "--- C++ ---\n",
            "Product: 9800\n",
            "--- C++ ---\n",
            "Product: 9216\n",
            "--- C++ ---\n",
            "Product: 9312\n",
            "--- C++ ---\n",
            "Product: 7304\n",
            "--- C++ ---\n",
            "Product: 9801\n",
            "--- C++ ---\n",
            "Product: 9216\n"
          ]
        }
      ],
      "source": [
        "!g++ max_pairwise_sort_efficient.cpp -o max_pairwise_sort_efficient\n",
        "!./max_pairwise_sort_efficient < stress_input_1.txt\n",
        "!./max_pairwise_sort_efficient < stress_input_2.txt\n",
        "!./max_pairwise_sort_efficient < stress_input_3.txt\n",
        "!./max_pairwise_sort_efficient < stress_input_4.txt\n",
        "!./max_pairwise_sort_efficient < stress_input_5.txt\n",
        "!./max_pairwise_sort_efficient < stress_input_6.txt\n",
        "!./max_pairwise_sort_efficient < stress_input_7.txt\n",
        "!./max_pairwise_sort_efficient < stress_input_8.txt\n",
        "!./max_pairwise_sort_efficient < stress_input_9.txt\n",
        "!./max_pairwise_sort_efficient < stress_input_10.txt\n",
        "!./max_pairwise_sort_efficient < stress_input_11.txt\n",
        "!./max_pairwise_sort_efficient < stress_input_12.txt\n",
        "!./max_pairwise_sort_efficient < stress_input_13.txt\n",
        "!./max_pairwise_sort_efficient < stress_input_14.txt\n",
        "!./max_pairwise_sort_efficient < stress_input_15.txt\n",
        "!./max_pairwise_sort_efficient < stress_input_16.txt\n",
        "!./max_pairwise_sort_efficient < stress_input_17.txt\n",
        "!./max_pairwise_sort_efficient < stress_input_18.txt\n",
        "!./max_pairwise_sort_efficient < stress_input_19.txt\n",
        "!./max_pairwise_sort_efficient < stress_input_20.txt"
      ]
    },
    {
      "cell_type": "code",
      "execution_count": 121,
      "metadata": {
        "colab": {
          "base_uri": "https://localhost:8080/"
        },
        "id": "JfxYg4ySNQa7",
        "outputId": "a286d8ac-198c-4ba0-9e89-86a1d40faeda"
      },
      "outputs": [
        {
          "output_type": "stream",
          "name": "stdout",
          "text": [
            "--- Python ---\n",
            "Product: 9504\n",
            "--- Python ---\n",
            "Product: 8624\n",
            "--- Python ---\n",
            "Product: 864\n",
            "--- Python ---\n",
            "Product: 9603\n",
            "--- Python ---\n",
            "Product: 6177\n",
            "--- Python ---\n",
            "Product: 8645\n",
            "--- Python ---\n",
            "Product: 7120\n",
            "--- Python ---\n",
            "Product: 9207\n",
            "--- Python ---\n",
            "Product: 6912\n",
            "--- Python ---\n",
            "Product: 8918\n",
            "--- Python ---\n",
            "Product: 8836\n",
            "--- Python ---\n",
            "Product: 5160\n",
            "--- Python ---\n",
            "Product: 8550\n",
            "--- Python ---\n",
            "Product: 8740\n",
            "--- Python ---\n",
            "Product: 9800\n",
            "--- Python ---\n",
            "Product: 9216\n",
            "--- Python ---\n",
            "Product: 9312\n",
            "--- Python ---\n",
            "Product: 7304\n",
            "--- Python ---\n",
            "Product: 9801\n",
            "--- Python ---\n",
            "Product: 9216\n"
          ]
        }
      ],
      "source": [
        "! python max_pairwise_sort_efficient.py < stress_input_1.txt\n",
        "! python max_pairwise_sort_efficient.py < stress_input_2.txt\n",
        "! python max_pairwise_sort_efficient.py < stress_input_3.txt\n",
        "! python max_pairwise_sort_efficient.py < stress_input_4.txt\n",
        "! python max_pairwise_sort_efficient.py < stress_input_5.txt\n",
        "! python max_pairwise_sort_efficient.py < stress_input_6.txt\n",
        "! python max_pairwise_sort_efficient.py < stress_input_7.txt\n",
        "! python max_pairwise_sort_efficient.py < stress_input_8.txt\n",
        "! python max_pairwise_sort_efficient.py < stress_input_9.txt\n",
        "! python max_pairwise_sort_efficient.py < stress_input_10.txt\n",
        "! python max_pairwise_sort_efficient.py < stress_input_11.txt\n",
        "! python max_pairwise_sort_efficient.py < stress_input_12.txt\n",
        "! python max_pairwise_sort_efficient.py < stress_input_13.txt\n",
        "! python max_pairwise_sort_efficient.py < stress_input_14.txt\n",
        "! python max_pairwise_sort_efficient.py < stress_input_15.txt\n",
        "! python max_pairwise_sort_efficient.py < stress_input_16.txt\n",
        "! python max_pairwise_sort_efficient.py < stress_input_17.txt\n",
        "! python max_pairwise_sort_efficient.py < stress_input_18.txt\n",
        "! python max_pairwise_sort_efficient.py < stress_input_19.txt\n",
        "! python max_pairwise_sort_efficient.py < stress_input_20.txt"
      ]
    },
    {
      "cell_type": "markdown",
      "metadata": {
        "id": "L8U4151JNbxk"
      },
      "source": [
        "Count executed instructions in code and verify with inputs 1,2 and 3\n"
      ]
    },
    {
      "cell_type": "code",
      "execution_count": 122,
      "metadata": {
        "colab": {
          "base_uri": "https://localhost:8080/"
        },
        "id": "dh85RM8vNhFz",
        "outputId": "c6b065f9-808a-4038-fa4f-6f4bc58d413b"
      },
      "outputs": [
        {
          "output_type": "stream",
          "name": "stdout",
          "text": [
            "Writing max_pairwise_sort_efficient_count.cpp\n"
          ]
        }
      ],
      "source": [
        "%%writefile max_pairwise_sort_efficient_count.cpp\n",
        "#include <iostream>\n",
        "#include <vector>\n",
        "#include <algorithm>\n",
        "#include <limits.h>\n",
        "\n",
        "using namespace std;\n",
        "\n",
        "int main() {\n",
        "    cout << \"--- C++ ---\" << \"\\n\";\n",
        "    int exexins = 0;\n",
        "    int n;                                     // 1\n",
        "    exexins++;\n",
        "    cin >> n;                                  // 1\n",
        "    exexins++;\n",
        "    int maxNumber = INT_MIN;                   // 1\n",
        "    exexins++;\n",
        "    int secondMaxNumber = INT_MIN;             // 1\n",
        "    exexins++;\n",
        "\n",
        "    vector<int> numbers(n);                    // n\n",
        "\n",
        "    exexins += n;\n",
        "\n",
        "    for (int i = 0; i < n; ++i) {              // 1 + 2n\n",
        "        cin >> numbers[i];                     // n\n",
        "        exexins++;\n",
        "    }\n",
        "\n",
        "\n",
        "    exexins++;\n",
        "    for (int i = 0; i < n; ++i) {              //1 + 2n\n",
        "        exexins += 2;\n",
        "\n",
        "        int aux = numbers[i];                           // n\n",
        "        exexins++;\n",
        "\n",
        "\n",
        "        exexins++; // if\n",
        "        exexins++; // else if\n",
        "        if (aux > maxNumber){                  // n\n",
        "          secondMaxNumber = maxNumber;         // [0, n] in the worst case it would be n times\n",
        "          exexins++;\n",
        "          maxNumber = aux;                     // [0, n] in the worst case it would be n times\n",
        "          exexins++;\n",
        "        } else if (aux > secondMaxNumber) {    // n\n",
        "          secondMaxNumber = aux;               // [0, n] in the worst case it would be n times\n",
        "          exexins++;\n",
        "        }\n",
        "\n",
        "    }\n",
        "\n",
        "    cout <<  \"Executed instructions: \" << exexins << \" n: \"<< n << \" Product: \" << maxNumber * secondMaxNumber << \"\\n\"; // 1\n",
        "    return 0;                                  // 1\n",
        "}"
      ]
    },
    {
      "cell_type": "code",
      "execution_count": 123,
      "metadata": {
        "colab": {
          "base_uri": "https://localhost:8080/"
        },
        "id": "vMf0yeHLObSB",
        "outputId": "e45d84fd-971e-4e4d-909f-6e772fb67af1"
      },
      "outputs": [
        {
          "output_type": "stream",
          "name": "stdout",
          "text": [
            "--- C++ ---\n",
            "Executed instructions: 95 n: 10 Product: 90\n",
            "--- C++ ---\n",
            "Executed instructions: 78 n: 10 Product: 90\n",
            "--- C++ ---\n",
            "Executed instructions: 52 n: 6 Product: 6062020\n"
          ]
        }
      ],
      "source": [
        "!g++ max_pairwise_sort_efficient_count.cpp -o max_pairwise_sort_efficient_count\n",
        "!./max_pairwise_sort_efficient_count < input1.txt\n",
        "!./max_pairwise_sort_efficient_count < input2.txt\n",
        "!./max_pairwise_sort_efficient_count < input3.txt"
      ]
    },
    {
      "cell_type": "code",
      "execution_count": 124,
      "metadata": {
        "colab": {
          "base_uri": "https://localhost:8080/"
        },
        "id": "7v_YWJR6PMVv",
        "outputId": "0475072e-4726-4322-a1ec-cf7dd05ecb91"
      },
      "outputs": [
        {
          "output_type": "stream",
          "name": "stdout",
          "text": [
            "Writing max_pairwise_sort_efficient_count.py\n"
          ]
        }
      ],
      "source": [
        "%%writefile max_pairwise_sort_efficient_count.py\n",
        "print(\"--- Python ---\")\n",
        "exexins = 0\n",
        "n = int(input())                             # 1\n",
        "exexins += 1\n",
        "numbers = list(map(int, input().split()))    # 4n (n input read + map o(n) + create list + cast to int values)\n",
        "exexins = 4 * n\n",
        "\n",
        "max_number = float(\"-inf\")                   # 1\n",
        "exexins += 1\n",
        "second_max_number = float(\"-inf\")            # 1\n",
        "exexins += 1\n",
        "\n",
        "exexins += 1\n",
        "for num in numbers:                          # 1 + 2n\n",
        "    exexins += 2\n",
        "\n",
        "    exexins += 1 # if\n",
        "    exexins += 1 # elif\n",
        "    if num > max_number:                     # n\n",
        "        second_max_number = max_number       # [0, n] in the worst case it would be n times\n",
        "        exexins += 1\n",
        "        max_number = num                     # [0, n] in the worst case it would be n times\n",
        "        exexins += 1\n",
        "    elif num > second_max_number:            # n\n",
        "        second_max_number = num              # [0, n] in the worst case it would be n times\n",
        "        exexins += 1\n",
        "\n",
        "product = max_number * second_max_number     # 1\n",
        "exexins += 1\n",
        "print(f\"Executed instructions: {exexins} n: {n} Product: {product}\")                 # 1\n"
      ]
    },
    {
      "cell_type": "code",
      "execution_count": 125,
      "metadata": {
        "colab": {
          "base_uri": "https://localhost:8080/"
        },
        "id": "K9SQsiKaP3hO",
        "outputId": "05f8fba4-c5c7-464a-bc90-022275d56e02"
      },
      "outputs": [
        {
          "output_type": "stream",
          "name": "stdout",
          "text": [
            "--- Python ---\n",
            "Executed instructions: 104 n: 10 Product: 90\n",
            "--- Python ---\n",
            "Executed instructions: 87 n: 10 Product: 90\n",
            "--- Python ---\n",
            "Executed instructions: 57 n: 6 Product: 6062020\n"
          ]
        }
      ],
      "source": [
        "!python max_pairwise_sort_efficient_count.py < input1.txt\n",
        "!python max_pairwise_sort_efficient_count.py < input2.txt\n",
        "!python max_pairwise_sort_efficient_count.py < input3.txt"
      ]
    },
    {
      "cell_type": "markdown",
      "metadata": {
        "id": "K6ybgCmpNygr"
      },
      "source": [
        "Calculate estimated time by instruction and number of instructions by second"
      ]
    },
    {
      "cell_type": "code",
      "execution_count": 126,
      "metadata": {
        "colab": {
          "base_uri": "https://localhost:8080/"
        },
        "id": "kwe3G1O3Nz1w",
        "outputId": "e4e872d9-08c9-4f5f-a9cf-43789adbea1c"
      },
      "outputs": [
        {
          "output_type": "stream",
          "name": "stdout",
          "text": [
            "--- C++ ---\n",
            "Executed instructions: 95 n: 10 Product: 90\n",
            "CPU times: user 16.5 ms, sys: 3.13 ms, total: 19.7 ms\n",
            "Wall time: 913 ms\n"
          ]
        }
      ],
      "source": [
        "%%time\n",
        "!g++ max_pairwise_sort_efficient_count.cpp -o max_pairwise_sort_efficient_count\n",
        "!./max_pairwise_sort_efficient_count < input1.txt"
      ]
    },
    {
      "cell_type": "code",
      "execution_count": 127,
      "metadata": {
        "colab": {
          "base_uri": "https://localhost:8080/"
        },
        "id": "5_D5lKqnRH1Y",
        "outputId": "396e988b-075e-43fe-fbe9-7666f6259452"
      },
      "outputs": [
        {
          "output_type": "stream",
          "name": "stdout",
          "text": [
            "--- Python ---\n",
            "Executed instructions: 104 n: 10 Product: 90\n",
            "CPU times: user 8.02 ms, sys: 26 µs, total: 8.05 ms\n",
            "Wall time: 105 ms\n"
          ]
        }
      ],
      "source": [
        "%%time\n",
        "!python max_pairwise_sort_efficient_count.py < input1.txt"
      ]
    },
    {
      "cell_type": "code",
      "execution_count": 128,
      "metadata": {
        "colab": {
          "base_uri": "https://localhost:8080/"
        },
        "id": "LRVfUSpGRTwd",
        "outputId": "4e18f99c-0e53-4f2d-e0fb-1f1f245faa90"
      },
      "outputs": [
        {
          "output_type": "stream",
          "name": "stdout",
          "text": [
            "Time per instruction C++: 0.0001352941176470588\n",
            "Instructions per second C++: 7391.304347826088\n",
            "Time per instruction Python: 8.134615384615385e-05\n",
            "Instructions per second Python: 12293.144208037824\n"
          ]
        }
      ],
      "source": [
        "time_per_ins = 0.0115 / 85\n",
        "instructions_per_second = 1 / time_per_ins\n",
        "print(f\"Time per instruction C++: {time_per_ins}\")\n",
        "print(f\"Instructions per second C++: {instructions_per_second}\")\n",
        "time_per_ins = 0.00846 / 104\n",
        "instructions_per_second = 1 / time_per_ins\n",
        "print(f\"Time per instruction Python: {time_per_ins}\")\n",
        "print(f\"Instructions per second Python: {instructions_per_second}\")"
      ]
    },
    {
      "cell_type": "markdown",
      "metadata": {
        "id": "sUpIWcykOGpT"
      },
      "source": [
        "### Super efficient solution IN C++ AND PYTHON (both)\n",
        "\n",
        "Whitout storing the list in memory, only stpring the largest and second largest and whitout calling a function, add in each line a coment with the number of instructions that are executed in that line\n",
        "\n",
        "in C++ and Python\n",
        " $$2 n = O(n)$$"
      ]
    },
    {
      "cell_type": "code",
      "execution_count": 129,
      "metadata": {
        "colab": {
          "base_uri": "https://localhost:8080/"
        },
        "id": "hBLt_xBQLy8E",
        "outputId": "5239d109-3b33-4055-9a5d-60c235836be0"
      },
      "outputs": [
        {
          "output_type": "stream",
          "name": "stdout",
          "text": [
            "Writing max_pairwise_sort_super_efficient.cpp\n"
          ]
        }
      ],
      "source": [
        "%%writefile max_pairwise_sort_super_efficient.cpp\n",
        "#include <iostream>\n",
        "#include <vector>\n",
        "#include <algorithm>\n",
        "#include <limits.h>\n",
        "\n",
        "using namespace std;\n",
        "\n",
        "int main() {\n",
        "    cout << \"--- C++ ---\" << \"\\n\";\n",
        "    int n;                                     // 1\n",
        "    cin >> n;                                  // 1\n",
        "    int maxNumber = INT_MIN;                   // 1\n",
        "    int secondMaxNumber = INT_MIN;             // 1\n",
        "\n",
        "\n",
        "    for (int i = 0; i < n; ++i) {              //1 + 2n\n",
        "        int aux = 0;                           // n\n",
        "        cin >> aux;                            // n\n",
        "\n",
        "        if (aux > maxNumber){                  // n\n",
        "          secondMaxNumber = maxNumber;         // [0, n] in the worst case it would be n times\n",
        "          maxNumber = aux;                     // [0, n] in the worst case it would be n times\n",
        "\n",
        "        } else if (aux > secondMaxNumber) {    // n\n",
        "          secondMaxNumber = aux;               // [0, n] in the worst case it would be n times\n",
        "        }\n",
        "\n",
        "    }\n",
        "\n",
        "    cout <<  \"Product: \" << maxNumber * secondMaxNumber << \"\\n\"; // 1\n",
        "    return 0;                                  // 1\n",
        "}"
      ]
    },
    {
      "cell_type": "code",
      "execution_count": 130,
      "metadata": {
        "colab": {
          "base_uri": "https://localhost:8080/"
        },
        "id": "rUxTKUJwSl0a",
        "outputId": "b4d60962-65c1-4894-a429-c318279a2174"
      },
      "outputs": [
        {
          "output_type": "stream",
          "name": "stdout",
          "text": [
            "Writing max_pairwise_sort_super_efficient.py\n"
          ]
        }
      ],
      "source": [
        "%%writefile max_pairwise_sort_super_efficient.py\n",
        "print(\"--- Python ---\")\n",
        "n = int(input())                            # 1\n",
        "max_number = float(\"-inf\")                  # 1\n",
        "second_max_number = float(\"-inf\")           # 1\n",
        "\n",
        "for num in input().split():                 # 3 + 2n\n",
        "\n",
        "    num = int(num)                          # n\n",
        "\n",
        "    if num > max_number:                    # n\n",
        "        second_max_number = max_number      # [0, n] in the worst case it would be n times\n",
        "        max_number = num                    # [0, n] in the worst case it would be n times\n",
        "    elif num > second_max_number:           # n\n",
        "        second_max_number = num             # [0, n] in the worst case it would be n times\n",
        "\n",
        "print(f\"Product: {max_number * second_max_number}\")"
      ]
    },
    {
      "cell_type": "markdown",
      "metadata": {
        "id": "683gc3roHqzb"
      },
      "source": [
        "Test with inputs 1 and 2\n",
        "\n",
        "\n"
      ]
    },
    {
      "cell_type": "code",
      "execution_count": 131,
      "metadata": {
        "colab": {
          "base_uri": "https://localhost:8080/"
        },
        "id": "b7d4LA8OIc2_",
        "outputId": "c459744f-9d79-40a8-8068-b57fdd2b6dd9"
      },
      "outputs": [
        {
          "output_type": "stream",
          "name": "stdout",
          "text": [
            "--- C++ ---\n",
            "Product: 90\n",
            "--- C++ ---\n",
            "Product: 90\n",
            "--- Python ---\n",
            "Product: 90\n",
            "--- Python ---\n",
            "Product: 90\n"
          ]
        }
      ],
      "source": [
        "!g++ max_pairwise_sort_super_efficient.cpp -o max_pairwise_sort_super_efficient\n",
        "!./max_pairwise_sort_super_efficient < input1.txt\n",
        "!./max_pairwise_sort_super_efficient < input2.txt\n",
        "!python max_pairwise_sort_super_efficient.py < input1.txt\n",
        "!python max_pairwise_sort_super_efficient.py < input2.txt"
      ]
    },
    {
      "cell_type": "markdown",
      "metadata": {
        "id": "36Ugn1odIeJz"
      },
      "source": [
        "Test and time it with input 3"
      ]
    },
    {
      "cell_type": "code",
      "execution_count": 132,
      "metadata": {
        "colab": {
          "base_uri": "https://localhost:8080/"
        },
        "id": "jDyMbCnxHqSN",
        "outputId": "47165573-686e-491d-f5c9-7c395ae3507f"
      },
      "outputs": [
        {
          "output_type": "stream",
          "name": "stdout",
          "text": [
            "--- C++ ---\n",
            "Product: 6062020\n",
            "--- Python ---\n",
            "Product: 6062020\n"
          ]
        }
      ],
      "source": [
        "!g++ max_pairwise_sort_super_efficient.cpp -o max_pairwise_sort_super_efficient\n",
        "!./max_pairwise_sort_super_efficient < input3.txt\n",
        "!python max_pairwise_sort_super_efficient.py < input3.txt"
      ]
    },
    {
      "cell_type": "markdown",
      "metadata": {
        "id": "bhqiKQG6fjKM"
      },
      "source": [
        "20 stress tests"
      ]
    },
    {
      "cell_type": "code",
      "execution_count": 133,
      "metadata": {
        "id": "2KsiXKhALzwm"
      },
      "outputs": [],
      "source": [
        "#CREATE 20 random texts\n",
        "import random\n",
        "\n",
        "for i in range(1,21):\n",
        "    fileName = f\"stress_input_{i}.txt\"\n",
        "\n",
        "    with open(fileName, \"w\") as file:\n",
        "      n = random.randint(3, 40)\n",
        "      file.write(f\"{n}\"+ \"\\n\")\n",
        "      for i in range(1,n):\n",
        "          file.write(str(random.randint(1, 100)) + \" \")"
      ]
    },
    {
      "cell_type": "code",
      "execution_count": 134,
      "metadata": {
        "colab": {
          "base_uri": "https://localhost:8080/"
        },
        "id": "cg1qOdBFay3S",
        "outputId": "74dc3070-5b84-4c7a-ffca-fee5928a6d3e"
      },
      "outputs": [
        {
          "output_type": "stream",
          "name": "stdout",
          "text": [
            "--- C++ ---\n",
            "Product: 7623\n",
            "--- C++ ---\n",
            "Product: 9300\n",
            "--- C++ ---\n",
            "Product: 8051\n",
            "--- C++ ---\n",
            "Product: 8648\n",
            "--- C++ ---\n",
            "Product: 5742\n",
            "--- C++ ---\n",
            "Product: 8648\n",
            "--- C++ ---\n",
            "Product: 10000\n",
            "--- C++ ---\n",
            "Product: 9118\n",
            "--- C++ ---\n",
            "Product: 9100\n",
            "--- C++ ---\n",
            "Product: 7740\n",
            "--- C++ ---\n",
            "Product: 2109\n",
            "--- C++ ---\n",
            "Product: 7743\n",
            "--- C++ ---\n",
            "Product: 9120\n",
            "--- C++ ---\n",
            "Product: 9306\n",
            "--- C++ ---\n",
            "Product: 9800\n",
            "--- C++ ---\n",
            "Product: 6804\n",
            "--- C++ ---\n",
            "Product: 6461\n",
            "--- C++ ---\n",
            "Product: 7476\n",
            "--- C++ ---\n",
            "Product: 9504\n",
            "--- C++ ---\n",
            "Product: 9310\n"
          ]
        }
      ],
      "source": [
        "!g++ max_pairwise_sort_super_efficient.cpp -o max_pairwise_sort_super_efficient\n",
        "!./max_pairwise_sort_super_efficient < stress_input_1.txt\n",
        "!./max_pairwise_sort_super_efficient < stress_input_2.txt\n",
        "!./max_pairwise_sort_super_efficient < stress_input_3.txt\n",
        "!./max_pairwise_sort_super_efficient < stress_input_4.txt\n",
        "!./max_pairwise_sort_super_efficient < stress_input_5.txt\n",
        "!./max_pairwise_sort_super_efficient < stress_input_6.txt\n",
        "!./max_pairwise_sort_super_efficient < stress_input_7.txt\n",
        "!./max_pairwise_sort_super_efficient < stress_input_8.txt\n",
        "!./max_pairwise_sort_super_efficient < stress_input_9.txt\n",
        "!./max_pairwise_sort_super_efficient < stress_input_10.txt\n",
        "!./max_pairwise_sort_super_efficient < stress_input_11.txt\n",
        "!./max_pairwise_sort_super_efficient < stress_input_12.txt\n",
        "!./max_pairwise_sort_super_efficient < stress_input_13.txt\n",
        "!./max_pairwise_sort_super_efficient < stress_input_14.txt\n",
        "!./max_pairwise_sort_super_efficient < stress_input_15.txt\n",
        "!./max_pairwise_sort_super_efficient < stress_input_16.txt\n",
        "!./max_pairwise_sort_super_efficient < stress_input_17.txt\n",
        "!./max_pairwise_sort_super_efficient < stress_input_18.txt\n",
        "!./max_pairwise_sort_super_efficient < stress_input_19.txt\n",
        "!./max_pairwise_sort_super_efficient < stress_input_20.txt"
      ]
    },
    {
      "cell_type": "code",
      "execution_count": 135,
      "metadata": {
        "colab": {
          "base_uri": "https://localhost:8080/"
        },
        "id": "LR5JDCq8bBhz",
        "outputId": "a1b0821e-717c-4d83-a571-8eb1523e8064"
      },
      "outputs": [
        {
          "output_type": "stream",
          "name": "stdout",
          "text": [
            "--- Python ---\n",
            "Product: 7623\n",
            "--- Python ---\n",
            "Product: 9300\n",
            "--- Python ---\n",
            "Product: 8051\n",
            "--- Python ---\n",
            "Product: 8648\n",
            "--- Python ---\n",
            "Product: 5742\n",
            "--- Python ---\n",
            "Product: 8648\n",
            "--- Python ---\n",
            "Product: 10000\n",
            "--- Python ---\n",
            "Product: 9118\n",
            "--- Python ---\n",
            "Product: 9100\n",
            "--- Python ---\n",
            "Product: 7740\n",
            "--- Python ---\n",
            "Product: 2109\n",
            "--- Python ---\n",
            "Product: 7743\n",
            "--- Python ---\n",
            "Product: 9120\n",
            "--- Python ---\n",
            "Product: 9306\n",
            "--- Python ---\n",
            "Product: 9800\n",
            "--- Python ---\n",
            "Product: 6804\n",
            "--- Python ---\n",
            "Product: 6461\n",
            "--- Python ---\n",
            "Product: 7476\n",
            "--- Python ---\n",
            "Product: 9504\n",
            "--- Python ---\n",
            "Product: 9310\n"
          ]
        }
      ],
      "source": [
        "!python max_pairwise_sort_super_efficient.py < stress_input_1.txt\n",
        "!python max_pairwise_sort_super_efficient.py < stress_input_2.txt\n",
        "!python max_pairwise_sort_super_efficient.py < stress_input_3.txt\n",
        "!python max_pairwise_sort_super_efficient.py < stress_input_4.txt\n",
        "!python max_pairwise_sort_super_efficient.py < stress_input_5.txt\n",
        "!python max_pairwise_sort_super_efficient.py < stress_input_6.txt\n",
        "!python max_pairwise_sort_super_efficient.py < stress_input_7.txt\n",
        "!python max_pairwise_sort_super_efficient.py < stress_input_8.txt\n",
        "!python max_pairwise_sort_super_efficient.py < stress_input_9.txt\n",
        "!python max_pairwise_sort_super_efficient.py < stress_input_10.txt\n",
        "!python max_pairwise_sort_super_efficient.py < stress_input_11.txt\n",
        "!python max_pairwise_sort_super_efficient.py < stress_input_12.txt\n",
        "!python max_pairwise_sort_super_efficient.py < stress_input_13.txt\n",
        "!python max_pairwise_sort_super_efficient.py < stress_input_14.txt\n",
        "!python max_pairwise_sort_super_efficient.py < stress_input_15.txt\n",
        "!python max_pairwise_sort_super_efficient.py < stress_input_16.txt\n",
        "!python max_pairwise_sort_super_efficient.py < stress_input_17.txt\n",
        "!python max_pairwise_sort_super_efficient.py < stress_input_18.txt\n",
        "!python max_pairwise_sort_super_efficient.py < stress_input_19.txt\n",
        "!python max_pairwise_sort_super_efficient.py < stress_input_20.txt"
      ]
    },
    {
      "cell_type": "markdown",
      "metadata": {
        "id": "fEXj8GHJH5p1"
      },
      "source": [
        "Count executed instructions in code and verify with inputs 1,2 and 3"
      ]
    },
    {
      "cell_type": "code",
      "execution_count": 136,
      "metadata": {
        "colab": {
          "base_uri": "https://localhost:8080/"
        },
        "id": "LF1DHjKXIAsF",
        "outputId": "42d4a392-d486-48d4-b23d-fba10f4481c5"
      },
      "outputs": [
        {
          "output_type": "stream",
          "name": "stdout",
          "text": [
            "Writing max_pairwise_sort_super_efficient_count.cpp\n"
          ]
        }
      ],
      "source": [
        "%%writefile max_pairwise_sort_super_efficient_count.cpp\n",
        "#include <iostream>\n",
        "#include <vector>\n",
        "#include <algorithm>\n",
        "#include <limits.h>\n",
        "\n",
        "using namespace std;\n",
        "\n",
        "int main() {\n",
        "    cout << \"--- C++ ---\" << \"\\n\";\n",
        "    int exexins = 0;\n",
        "    int n;                                     // 1\n",
        "    exexins++;\n",
        "    cin >> n;                                  // 1\n",
        "    exexins++;\n",
        "    int maxNumber = INT_MIN;                   // 1\n",
        "    exexins++;\n",
        "    int secondMaxNumber = INT_MIN;             // 1\n",
        "    exexins++;\n",
        "\n",
        "\n",
        "    exexins++;\n",
        "    for (int i = 0; i < n; ++i) {              //1 + 2n\n",
        "        exexins += 2;\n",
        "        int aux = 0;                           // n\n",
        "        exexins++;\n",
        "\n",
        "        cin>> aux;                            // n\n",
        "        exexins++;\n",
        "\n",
        "\n",
        "        exexins++; // if\n",
        "        exexins++; // else if\n",
        "        if (aux > maxNumber){                  // n\n",
        "          secondMaxNumber = maxNumber;         // [0, n] in the worst case it would be n times\n",
        "          exexins++;\n",
        "          maxNumber = aux;                     // [0, n] in the worst case it would be n times\n",
        "          exexins++;\n",
        "        } else if (aux > secondMaxNumber) {    // n\n",
        "          secondMaxNumber = aux;               // [0, n] in the worst case it would be n times\n",
        "          exexins++;\n",
        "        }\n",
        "\n",
        "    }\n",
        "\n",
        "    cout <<  \"Executed instructions: \" << exexins << \" n: \"<< n << \" Product: \" << maxNumber * secondMaxNumber << \"\\n\"; // 1\n",
        "    return 0;                                  // 1\n",
        "}"
      ]
    },
    {
      "cell_type": "code",
      "execution_count": 137,
      "metadata": {
        "colab": {
          "base_uri": "https://localhost:8080/"
        },
        "id": "Hv_HouQYb9UX",
        "outputId": "c673c697-22a4-4792-e029-0ae2489e4f4d"
      },
      "outputs": [
        {
          "output_type": "stream",
          "name": "stdout",
          "text": [
            "Writing max_pairwise_sort_super_efficient_count.py\n"
          ]
        }
      ],
      "source": [
        "%%writefile max_pairwise_sort_super_efficient_count.py\n",
        "print(\"--- Python ---\")\n",
        "exexins = 0\n",
        "n = int(input())                            # 1\n",
        "exexins += 1\n",
        "max_number = float(\"-inf\")                  # 1\n",
        "exexins += 1\n",
        "second_max_number = float(\"-inf\")           # 1\n",
        "exexins += 1\n",
        "\n",
        "exexins += 3\n",
        "for num in input().split():                 # 3 + 2n\n",
        "    exexins += 2\n",
        "    num = int(num)                          # n\n",
        "    exexins += 1\n",
        "\n",
        "    exexins += 1 # if\n",
        "    exexins += 1 # elif\n",
        "    if num > max_number:                    # n\n",
        "        second_max_number = max_number      # [0, n] in the worst case it would be n times\n",
        "        exexins += 1\n",
        "        max_number = num                    # [0, n] in the worst case it would be n times\n",
        "        exexins += 1\n",
        "    elif num > second_max_number:           # n\n",
        "        second_max_number = num             # [0, n] in the worst case it would be n times\n",
        "        exexins += 1\n",
        "\n",
        "print(f\"Executed instructions: {exexins} n: {n} Product: {max_number * second_max_number}\")"
      ]
    },
    {
      "cell_type": "code",
      "execution_count": 138,
      "metadata": {
        "colab": {
          "base_uri": "https://localhost:8080/"
        },
        "id": "AAFsPmeebdXl",
        "outputId": "1fc48454-e8d0-4cc8-97d1-6c02169375ce"
      },
      "outputs": [
        {
          "output_type": "stream",
          "name": "stdout",
          "text": [
            "--- C++ ---\n",
            "Executed instructions: 85 n: 10 Product: 90\n",
            "--- C++ ---\n",
            "Executed instructions: 68 n: 10 Product: 90\n",
            "--- C++ ---\n",
            "Executed instructions: 46 n: 6 Product: 6062020\n",
            "--- Python ---\n",
            "Executed instructions: 76 n: 10 Product: 90\n",
            "--- Python ---\n",
            "Executed instructions: 59 n: 10 Product: 90\n",
            "--- Python ---\n",
            "Executed instructions: 41 n: 6 Product: 6062020\n"
          ]
        }
      ],
      "source": [
        "!g++ max_pairwise_sort_super_efficient_count.cpp -o max_pairwise_sort_super_efficient_count\n",
        "!./max_pairwise_sort_super_efficient_count < input1.txt\n",
        "!./max_pairwise_sort_super_efficient_count < input2.txt\n",
        "!./max_pairwise_sort_super_efficient_count < input3.txt\n",
        "!python max_pairwise_sort_super_efficient_count.py < input1.txt\n",
        "!python max_pairwise_sort_super_efficient_count.py < input2.txt\n",
        "!python max_pairwise_sort_super_efficient_count.py < input3.txt"
      ]
    },
    {
      "cell_type": "markdown",
      "metadata": {
        "id": "yae7sSm2IG9U"
      },
      "source": [
        "Calculate estimated time by instruction and number of instructions by second"
      ]
    },
    {
      "cell_type": "code",
      "execution_count": 139,
      "metadata": {
        "colab": {
          "base_uri": "https://localhost:8080/"
        },
        "id": "rm1wP6dBdrj2",
        "outputId": "4ba0179d-818b-42ac-d7be-ddb798477eaf"
      },
      "outputs": [
        {
          "output_type": "stream",
          "name": "stdout",
          "text": [
            "--- C++ ---\n",
            "Executed instructions: 85 n: 10 Product: 90\n",
            "CPU times: user 15.9 ms, sys: 8.81 ms, total: 24.7 ms\n",
            "Wall time: 1.12 s\n"
          ]
        }
      ],
      "source": [
        "%%time\n",
        "!g++ max_pairwise_sort_super_efficient_count.cpp -o max_pairwise_sort_super_efficient_count\n",
        "!./max_pairwise_sort_super_efficient_count < input1.txt"
      ]
    },
    {
      "cell_type": "code",
      "execution_count": 140,
      "metadata": {
        "colab": {
          "base_uri": "https://localhost:8080/"
        },
        "id": "1lVeXQEZdrj3",
        "outputId": "dea6defe-2faf-40b9-b9cf-0a930174888c"
      },
      "outputs": [
        {
          "output_type": "stream",
          "name": "stdout",
          "text": [
            "--- Python ---\n",
            "Executed instructions: 76 n: 10 Product: 90\n",
            "CPU times: user 7.06 ms, sys: 933 µs, total: 7.99 ms\n",
            "Wall time: 106 ms\n"
          ]
        }
      ],
      "source": [
        "%%time\n",
        "!python max_pairwise_sort_super_efficient_count.py < input1.txt"
      ]
    },
    {
      "cell_type": "code",
      "execution_count": 141,
      "metadata": {
        "colab": {
          "base_uri": "https://localhost:8080/"
        },
        "id": "RoHTkLytdrj4",
        "outputId": "81939b0b-9477-44ab-d83a-4d80d0274068"
      },
      "outputs": [
        {
          "output_type": "stream",
          "name": "stdout",
          "text": [
            "Time per instruction C++: 0.00012941176470588234\n",
            "Instructions per second C++: 7727.272727272728\n",
            "Time per instruction Python: 4.7499999999999996e-05\n",
            "Instructions per second Python: 21052.63157894737\n"
          ]
        }
      ],
      "source": [
        "time_per_ins = 0.011 / 85\n",
        "instructions_per_second = 1 / time_per_ins\n",
        "print(f\"Time per instruction C++: {time_per_ins}\")\n",
        "print(f\"Instructions per second C++: {instructions_per_second}\")\n",
        "time_per_ins = 0.00361 / 76\n",
        "instructions_per_second = 1 / time_per_ins\n",
        "print(f\"Time per instruction Python: {time_per_ins}\")\n",
        "print(f\"Instructions per second Python: {instructions_per_second}\")"
      ]
    },
    {
      "cell_type": "markdown",
      "metadata": {
        "id": "4w9y2O25zGNx"
      },
      "source": [
        "# Perform 100 randomized automated tests in C++ and Python between the super efficient solution  (𝑇(𝑛)<10𝑛=𝑂(𝑛))  against the sorting solution  (𝑇(𝑛)=𝑂(𝑛𝑙𝑛𝑔)) ."
      ]
    },
    {
      "cell_type": "code",
      "execution_count": 142,
      "metadata": {
        "id": "uZ0Cz5x4zJlY"
      },
      "outputs": [],
      "source": [
        "#CREATE 100 random texts\n",
        "import random\n",
        "\n",
        "for i in range(1,101):\n",
        "    fileName = f\"stress_input_{i}.txt\"\n",
        "\n",
        "    with open(fileName, \"w\") as file:\n",
        "      n = random.randint(3, 40)\n",
        "      file.write(f\"{n}\"+ \"\\n\")\n",
        "      for i in range(1,n):\n",
        "          file.write(str(random.randint(1, 100)) + \" \")"
      ]
    },
    {
      "cell_type": "markdown",
      "metadata": {
        "id": "m2Hi5NPyzhRx"
      },
      "source": [
        "# C++"
      ]
    },
    {
      "cell_type": "markdown",
      "metadata": {
        "id": "Xb9dPeDFz5IG"
      },
      "source": [
        "## Super efficient solution (𝑇(𝑛)<10𝑛=𝑂(𝑛))"
      ]
    },
    {
      "cell_type": "code",
      "execution_count": 143,
      "metadata": {
        "colab": {
          "base_uri": "https://localhost:8080/"
        },
        "id": "u7_Zd0yjzJON",
        "outputId": "13099eda-d478-4fd4-a6f1-cb2b92bed376"
      },
      "outputs": [
        {
          "output_type": "stream",
          "name": "stdout",
          "text": [
            "Overwriting max_pairwise_sort_super_efficient.cpp\n"
          ]
        }
      ],
      "source": [
        "%%writefile max_pairwise_sort_super_efficient.cpp\n",
        "#include <iostream>\n",
        "#include <vector>\n",
        "#include <algorithm>\n",
        "#include <limits.h>\n",
        "\n",
        "using namespace std;\n",
        "\n",
        "int main() {\n",
        "    int n;                                     // 1\n",
        "    cin >> n;                                  // 1\n",
        "    int maxNumber = INT_MIN;                   // 1\n",
        "    int secondMaxNumber = INT_MIN;             // 1\n",
        "\n",
        "\n",
        "    for (int i = 0; i < n; ++i) {              //1 + 2n\n",
        "        int aux = 0;                           // n\n",
        "        cin >> aux;                            // n\n",
        "\n",
        "        if (aux > maxNumber){                  // n\n",
        "          secondMaxNumber = maxNumber;         // [0, n] in the worst case it would be n times\n",
        "          maxNumber = aux;                     // [0, n] in the worst case it would be n times\n",
        "\n",
        "        } else if (aux > secondMaxNumber) {    // n\n",
        "          secondMaxNumber = aux;               // [0, n] in the worst case it would be n times\n",
        "        }\n",
        "\n",
        "    }\n",
        "\n",
        "    cout <<  \"n: \" << n << \" Product: \" << maxNumber * secondMaxNumber << \"\\n\"; // 1\n",
        "    return 0;                                  // 1\n",
        "}"
      ]
    },
    {
      "cell_type": "code",
      "execution_count": 144,
      "metadata": {
        "colab": {
          "base_uri": "https://localhost:8080/"
        },
        "id": "dNefwBtmz4mH",
        "outputId": "3bd8d448-f444-4dbc-adb9-497e0726163d"
      },
      "outputs": [
        {
          "output_type": "stream",
          "name": "stdout",
          "text": [
            "n: 34 Product: 9300\n",
            "n: 16 Product: 8118\n",
            "n: 33 Product: 9409\n",
            "n: 26 Product: 9100\n",
            "n: 36 Product: 9604\n",
            "n: 18 Product: 9700\n",
            "n: 13 Product: 6952\n",
            "n: 14 Product: 6132\n",
            "n: 33 Product: 8099\n",
            "n: 29 Product: 9604\n",
            "n: 23 Product: 9603\n",
            "n: 25 Product: 6720\n",
            "n: 35 Product: 8526\n",
            "n: 31 Product: 9604\n",
            "n: 12 Product: 6612\n",
            "n: 14 Product: 6279\n",
            "n: 38 Product: 8924\n",
            "n: 36 Product: 10000\n",
            "n: 8 Product: 7546\n",
            "n: 24 Product: 9506\n",
            "n: 19 Product: 6225\n",
            "n: 24 Product: 9405\n",
            "n: 39 Product: 8010\n",
            "n: 39 Product: 9400\n",
            "n: 20 Product: 9800\n",
            "n: 23 Product: 6888\n",
            "n: 38 Product: 9312\n",
            "n: 36 Product: 9506\n",
            "n: 15 Product: 9604\n",
            "n: 3 Product: 4144\n",
            "n: 18 Product: 8648\n",
            "n: 5 Product: 2242\n",
            "n: 11 Product: 8272\n",
            "n: 21 Product: 9900\n",
            "n: 33 Product: 8010\n",
            "n: 9 Product: 9700\n",
            "n: 19 Product: 9504\n",
            "n: 33 Product: 8366\n",
            "n: 3 Product: 4788\n",
            "n: 16 Product: 9016\n",
            "n: 24 Product: 9408\n",
            "n: 21 Product: 8835\n",
            "n: 27 Product: 9016\n",
            "n: 31 Product: 9400\n",
            "n: 27 Product: 8928\n",
            "n: 39 Product: 8277\n",
            "n: 21 Product: 8836\n",
            "n: 17 Product: 6640\n",
            "n: 19 Product: 9021\n",
            "n: 3 Product: 8000\n",
            "n: 28 Product: 8526\n",
            "n: 35 Product: 9114\n",
            "n: 32 Product: 9603\n",
            "n: 29 Product: 9604\n",
            "n: 30 Product: 7308\n",
            "n: 24 Product: 9600\n",
            "n: 38 Product: 9506\n",
            "n: 24 Product: 9216\n",
            "n: 37 Product: 9506\n",
            "n: 15 Product: 6336\n",
            "n: 4 Product: 2044\n",
            "n: 14 Product: 7719\n",
            "n: 7 Product: 10000\n",
            "n: 7 Product: 5015\n",
            "n: 36 Product: 9700\n",
            "n: 38 Product: 9801\n",
            "n: 25 Product: 9600\n",
            "n: 32 Product: 9216\n",
            "n: 40 Product: 9312\n",
            "n: 29 Product: 8740\n",
            "n: 30 Product: 8500\n",
            "n: 32 Product: 9120\n",
            "n: 35 Product: 8370\n",
            "n: 19 Product: 8536\n",
            "n: 7 Product: 7068\n",
            "n: 17 Product: 9408\n",
            "n: 33 Product: 9405\n",
            "n: 12 Product: 9100\n",
            "n: 12 Product: 5760\n",
            "n: 35 Product: 8010\n",
            "n: 4 Product: 1155\n",
            "n: 23 Product: 9306\n",
            "n: 40 Product: 9800\n",
            "n: 5 Product: 4698\n",
            "n: 31 Product: 9207\n",
            "n: 36 Product: 9016\n",
            "n: 7 Product: 5451\n",
            "n: 21 Product: 9700\n",
            "n: 27 Product: 9021\n",
            "n: 27 Product: 6970\n",
            "n: 21 Product: 9300\n",
            "n: 22 Product: 8640\n",
            "n: 12 Product: 5841\n",
            "n: 6 Product: 5658\n",
            "n: 18 Product: 8352\n",
            "n: 21 Product: 8600\n",
            "n: 34 Product: 9603\n",
            "n: 35 Product: 9310\n",
            "n: 10 Product: 9800\n",
            "n: 20 Product: 9500\n",
            "CPU times: user 640 ms, sys: 119 ms, total: 759 ms\n",
            "Wall time: 11.4 s\n"
          ]
        }
      ],
      "source": [
        "%%time\n",
        "!g++ max_pairwise_sort_super_efficient.cpp -o max_pairwise_sort_super_efficient\n",
        "!./max_pairwise_sort_super_efficient < stress_input_1.txt\n",
        "!./max_pairwise_sort_super_efficient < stress_input_2.txt\n",
        "!./max_pairwise_sort_super_efficient < stress_input_3.txt\n",
        "!./max_pairwise_sort_super_efficient < stress_input_4.txt\n",
        "!./max_pairwise_sort_super_efficient < stress_input_5.txt\n",
        "!./max_pairwise_sort_super_efficient < stress_input_6.txt\n",
        "!./max_pairwise_sort_super_efficient < stress_input_7.txt\n",
        "!./max_pairwise_sort_super_efficient < stress_input_8.txt\n",
        "!./max_pairwise_sort_super_efficient < stress_input_9.txt\n",
        "!./max_pairwise_sort_super_efficient < stress_input_10.txt\n",
        "\n",
        "!./max_pairwise_sort_super_efficient < stress_input_11.txt\n",
        "!./max_pairwise_sort_super_efficient < stress_input_12.txt\n",
        "!./max_pairwise_sort_super_efficient < stress_input_13.txt\n",
        "!./max_pairwise_sort_super_efficient < stress_input_14.txt\n",
        "!./max_pairwise_sort_super_efficient < stress_input_15.txt\n",
        "!./max_pairwise_sort_super_efficient < stress_input_16.txt\n",
        "!./max_pairwise_sort_super_efficient < stress_input_17.txt\n",
        "!./max_pairwise_sort_super_efficient < stress_input_18.txt\n",
        "!./max_pairwise_sort_super_efficient < stress_input_19.txt\n",
        "!./max_pairwise_sort_super_efficient < stress_input_20.txt\n",
        "\n",
        "!./max_pairwise_sort_super_efficient < stress_input_21.txt\n",
        "!./max_pairwise_sort_super_efficient < stress_input_22.txt\n",
        "!./max_pairwise_sort_super_efficient < stress_input_23.txt\n",
        "!./max_pairwise_sort_super_efficient < stress_input_24.txt\n",
        "!./max_pairwise_sort_super_efficient < stress_input_25.txt\n",
        "!./max_pairwise_sort_super_efficient < stress_input_26.txt\n",
        "!./max_pairwise_sort_super_efficient < stress_input_27.txt\n",
        "!./max_pairwise_sort_super_efficient < stress_input_28.txt\n",
        "!./max_pairwise_sort_super_efficient < stress_input_29.txt\n",
        "!./max_pairwise_sort_super_efficient < stress_input_30.txt\n",
        "\n",
        "!./max_pairwise_sort_super_efficient < stress_input_31.txt\n",
        "!./max_pairwise_sort_super_efficient < stress_input_32.txt\n",
        "!./max_pairwise_sort_super_efficient < stress_input_33.txt\n",
        "!./max_pairwise_sort_super_efficient < stress_input_34.txt\n",
        "!./max_pairwise_sort_super_efficient < stress_input_35.txt\n",
        "!./max_pairwise_sort_super_efficient < stress_input_36.txt\n",
        "!./max_pairwise_sort_super_efficient < stress_input_37.txt\n",
        "!./max_pairwise_sort_super_efficient < stress_input_38.txt\n",
        "!./max_pairwise_sort_super_efficient < stress_input_39.txt\n",
        "!./max_pairwise_sort_super_efficient < stress_input_40.txt\n",
        "\n",
        "!./max_pairwise_sort_super_efficient < stress_input_41.txt\n",
        "!./max_pairwise_sort_super_efficient < stress_input_42.txt\n",
        "!./max_pairwise_sort_super_efficient < stress_input_43.txt\n",
        "!./max_pairwise_sort_super_efficient < stress_input_44.txt\n",
        "!./max_pairwise_sort_super_efficient < stress_input_45.txt\n",
        "!./max_pairwise_sort_super_efficient < stress_input_46.txt\n",
        "!./max_pairwise_sort_super_efficient < stress_input_47.txt\n",
        "!./max_pairwise_sort_super_efficient < stress_input_48.txt\n",
        "!./max_pairwise_sort_super_efficient < stress_input_49.txt\n",
        "!./max_pairwise_sort_super_efficient < stress_input_50.txt\n",
        "\n",
        "!./max_pairwise_sort_super_efficient < stress_input_51.txt\n",
        "!./max_pairwise_sort_super_efficient < stress_input_52.txt\n",
        "!./max_pairwise_sort_super_efficient < stress_input_53.txt\n",
        "!./max_pairwise_sort_super_efficient < stress_input_54.txt\n",
        "!./max_pairwise_sort_super_efficient < stress_input_55.txt\n",
        "!./max_pairwise_sort_super_efficient < stress_input_56.txt\n",
        "!./max_pairwise_sort_super_efficient < stress_input_57.txt\n",
        "!./max_pairwise_sort_super_efficient < stress_input_58.txt\n",
        "!./max_pairwise_sort_super_efficient < stress_input_59.txt\n",
        "!./max_pairwise_sort_super_efficient < stress_input_60.txt\n",
        "\n",
        "!./max_pairwise_sort_super_efficient < stress_input_61.txt\n",
        "!./max_pairwise_sort_super_efficient < stress_input_62.txt\n",
        "!./max_pairwise_sort_super_efficient < stress_input_63.txt\n",
        "!./max_pairwise_sort_super_efficient < stress_input_64.txt\n",
        "!./max_pairwise_sort_super_efficient < stress_input_65.txt\n",
        "!./max_pairwise_sort_super_efficient < stress_input_66.txt\n",
        "!./max_pairwise_sort_super_efficient < stress_input_67.txt\n",
        "!./max_pairwise_sort_super_efficient < stress_input_68.txt\n",
        "!./max_pairwise_sort_super_efficient < stress_input_69.txt\n",
        "!./max_pairwise_sort_super_efficient < stress_input_70.txt\n",
        "\n",
        "!./max_pairwise_sort_super_efficient < stress_input_71.txt\n",
        "!./max_pairwise_sort_super_efficient < stress_input_72.txt\n",
        "!./max_pairwise_sort_super_efficient < stress_input_73.txt\n",
        "!./max_pairwise_sort_super_efficient < stress_input_74.txt\n",
        "!./max_pairwise_sort_super_efficient < stress_input_75.txt\n",
        "!./max_pairwise_sort_super_efficient < stress_input_76.txt\n",
        "!./max_pairwise_sort_super_efficient < stress_input_77.txt\n",
        "!./max_pairwise_sort_super_efficient < stress_input_78.txt\n",
        "!./max_pairwise_sort_super_efficient < stress_input_79.txt\n",
        "!./max_pairwise_sort_super_efficient < stress_input_80.txt\n",
        "\n",
        "!./max_pairwise_sort_super_efficient < stress_input_81.txt\n",
        "!./max_pairwise_sort_super_efficient < stress_input_82.txt\n",
        "!./max_pairwise_sort_super_efficient < stress_input_83.txt\n",
        "!./max_pairwise_sort_super_efficient < stress_input_84.txt\n",
        "!./max_pairwise_sort_super_efficient < stress_input_85.txt\n",
        "!./max_pairwise_sort_super_efficient < stress_input_86.txt\n",
        "!./max_pairwise_sort_super_efficient < stress_input_87.txt\n",
        "!./max_pairwise_sort_super_efficient < stress_input_88.txt\n",
        "!./max_pairwise_sort_super_efficient < stress_input_89.txt\n",
        "!./max_pairwise_sort_super_efficient < stress_input_90.txt\n",
        "\n",
        "!./max_pairwise_sort_super_efficient < stress_input_91.txt\n",
        "!./max_pairwise_sort_super_efficient < stress_input_92.txt\n",
        "!./max_pairwise_sort_super_efficient < stress_input_93.txt\n",
        "!./max_pairwise_sort_super_efficient < stress_input_94.txt\n",
        "!./max_pairwise_sort_super_efficient < stress_input_95.txt\n",
        "!./max_pairwise_sort_super_efficient < stress_input_96.txt\n",
        "!./max_pairwise_sort_super_efficient < stress_input_97.txt\n",
        "!./max_pairwise_sort_super_efficient < stress_input_98.txt\n",
        "!./max_pairwise_sort_super_efficient < stress_input_99.txt\n",
        "!./max_pairwise_sort_super_efficient < stress_input_100.txt\n"
      ]
    },
    {
      "cell_type": "markdown",
      "metadata": {
        "id": "JBigjCGQzj_3"
      },
      "source": [
        "## Sortin solution (𝑇(𝑛)=𝑂(𝑛𝑙𝑛𝑔))"
      ]
    },
    {
      "cell_type": "code",
      "execution_count": 145,
      "metadata": {
        "colab": {
          "base_uri": "https://localhost:8080/"
        },
        "id": "0kzVsZPzzkAG",
        "outputId": "7da8548f-4516-4c5d-a5ca-887ca26246de"
      },
      "outputs": [
        {
          "output_type": "stream",
          "name": "stdout",
          "text": [
            "Overwriting max_pairwise_sort_nlogn.cpp\n"
          ]
        }
      ],
      "source": [
        "%%writefile max_pairwise_sort_nlogn.cpp\n",
        "#include <iostream>\n",
        "#include <vector>\n",
        "#include <algorithm>\n",
        "\n",
        "using namespace std;\n",
        "\n",
        "int main() {\n",
        "    int n;                                     // 1\n",
        "    cin >> n;                                  // 1\n",
        "    vector<int> numbers(n);                    // n\n",
        "\n",
        "    for (int i = 0; i < n; ++i) {              //1 + 2n\n",
        "        cin >> numbers[i];                     // 1\n",
        "    }\n",
        "\n",
        "    sort(numbers.begin(), numbers.end());      // n*long\n",
        "    cout <<  \"n: \" << n << \" Product: \" << numbers[numbers.size() - 1] * numbers[numbers.size() - 2] << \"\\n\"; // 1\n",
        "    return 0;                                  // 1\n",
        "}"
      ]
    },
    {
      "cell_type": "code",
      "execution_count": 146,
      "metadata": {
        "colab": {
          "base_uri": "https://localhost:8080/"
        },
        "id": "11KSmpUpzkAG",
        "outputId": "d6764051-70e7-448a-8d56-bd74a5953151"
      },
      "outputs": [
        {
          "output_type": "stream",
          "name": "stdout",
          "text": [
            "n: 34 Product: 9300\n",
            "n: 16 Product: 8118\n",
            "n: 33 Product: 9409\n",
            "n: 26 Product: 9100\n",
            "n: 36 Product: 9604\n",
            "n: 18 Product: 9700\n",
            "n: 13 Product: 6952\n",
            "n: 14 Product: 6132\n",
            "n: 33 Product: 8099\n",
            "n: 29 Product: 9604\n",
            "n: 23 Product: 9603\n",
            "n: 25 Product: 6720\n",
            "n: 35 Product: 8526\n",
            "n: 31 Product: 9604\n",
            "n: 12 Product: 6612\n",
            "n: 14 Product: 6279\n",
            "n: 38 Product: 8924\n",
            "n: 36 Product: 10000\n",
            "n: 8 Product: 7546\n",
            "n: 24 Product: 9506\n",
            "n: 19 Product: 6225\n",
            "n: 24 Product: 9405\n",
            "n: 39 Product: 8010\n",
            "n: 39 Product: 9400\n",
            "n: 20 Product: 9800\n",
            "n: 23 Product: 6888\n",
            "n: 38 Product: 9312\n",
            "n: 36 Product: 9506\n",
            "n: 15 Product: 9604\n",
            "n: 3 Product: 4144\n",
            "n: 18 Product: 8648\n",
            "n: 5 Product: 2242\n",
            "n: 11 Product: 8272\n",
            "n: 21 Product: 9900\n",
            "n: 33 Product: 8010\n",
            "n: 9 Product: 9700\n",
            "n: 19 Product: 9504\n",
            "n: 33 Product: 8366\n",
            "n: 3 Product: 4788\n",
            "n: 16 Product: 9016\n",
            "n: 24 Product: 9408\n",
            "n: 21 Product: 8835\n",
            "n: 27 Product: 9016\n",
            "n: 31 Product: 9400\n",
            "n: 27 Product: 8928\n",
            "n: 39 Product: 8277\n",
            "n: 21 Product: 8836\n",
            "n: 17 Product: 6640\n",
            "n: 19 Product: 9021\n",
            "n: 3 Product: 8000\n",
            "n: 28 Product: 8526\n",
            "n: 35 Product: 9114\n",
            "n: 32 Product: 9603\n",
            "n: 29 Product: 9604\n",
            "n: 30 Product: 7308\n",
            "n: 24 Product: 9600\n",
            "n: 38 Product: 9506\n",
            "n: 24 Product: 9216\n",
            "n: 37 Product: 9506\n",
            "n: 15 Product: 6336\n",
            "n: 4 Product: 2044\n",
            "n: 14 Product: 7719\n",
            "n: 7 Product: 10000\n",
            "n: 7 Product: 5015\n",
            "n: 36 Product: 9700\n",
            "n: 38 Product: 9801\n",
            "n: 25 Product: 9600\n",
            "n: 32 Product: 9216\n",
            "n: 40 Product: 9312\n",
            "n: 29 Product: 8740\n",
            "n: 30 Product: 8500\n",
            "n: 32 Product: 9120\n",
            "n: 35 Product: 8370\n",
            "n: 19 Product: 8536\n",
            "n: 7 Product: 7068\n",
            "n: 17 Product: 9408\n",
            "n: 33 Product: 9405\n",
            "n: 12 Product: 9100\n",
            "n: 12 Product: 5760\n",
            "n: 35 Product: 8010\n",
            "n: 4 Product: 1155\n",
            "n: 23 Product: 9306\n",
            "n: 40 Product: 9800\n",
            "n: 5 Product: 4698\n",
            "n: 31 Product: 9207\n",
            "n: 36 Product: 9016\n",
            "n: 7 Product: 5451\n",
            "n: 21 Product: 9700\n",
            "n: 27 Product: 9021\n",
            "n: 27 Product: 6970\n",
            "n: 21 Product: 9300\n",
            "n: 22 Product: 8640\n",
            "n: 12 Product: 5841\n",
            "n: 6 Product: 5658\n",
            "n: 18 Product: 8352\n",
            "n: 21 Product: 8600\n",
            "n: 34 Product: 9603\n",
            "n: 35 Product: 9310\n",
            "n: 10 Product: 9800\n",
            "n: 20 Product: 9500\n",
            "CPU times: user 612 ms, sys: 122 ms, total: 734 ms\n",
            "Wall time: 11.4 s\n"
          ]
        }
      ],
      "source": [
        "%%time\n",
        "!g++ max_pairwise_sort_nlogn.cpp -o max_pairwise_sort_nlogn\n",
        "!./max_pairwise_sort_nlogn < stress_input_1.txt\n",
        "!./max_pairwise_sort_nlogn < stress_input_2.txt\n",
        "!./max_pairwise_sort_nlogn < stress_input_3.txt\n",
        "!./max_pairwise_sort_nlogn < stress_input_4.txt\n",
        "!./max_pairwise_sort_nlogn < stress_input_5.txt\n",
        "!./max_pairwise_sort_nlogn < stress_input_6.txt\n",
        "!./max_pairwise_sort_nlogn < stress_input_7.txt\n",
        "!./max_pairwise_sort_nlogn < stress_input_8.txt\n",
        "!./max_pairwise_sort_nlogn < stress_input_9.txt\n",
        "!./max_pairwise_sort_nlogn < stress_input_10.txt\n",
        "\n",
        "!./max_pairwise_sort_nlogn < stress_input_11.txt\n",
        "!./max_pairwise_sort_nlogn < stress_input_12.txt\n",
        "!./max_pairwise_sort_nlogn < stress_input_13.txt\n",
        "!./max_pairwise_sort_nlogn < stress_input_14.txt\n",
        "!./max_pairwise_sort_nlogn < stress_input_15.txt\n",
        "!./max_pairwise_sort_nlogn < stress_input_16.txt\n",
        "!./max_pairwise_sort_nlogn < stress_input_17.txt\n",
        "!./max_pairwise_sort_nlogn < stress_input_18.txt\n",
        "!./max_pairwise_sort_nlogn < stress_input_19.txt\n",
        "!./max_pairwise_sort_nlogn < stress_input_20.txt\n",
        "\n",
        "!./max_pairwise_sort_nlogn < stress_input_21.txt\n",
        "!./max_pairwise_sort_nlogn < stress_input_22.txt\n",
        "!./max_pairwise_sort_nlogn < stress_input_23.txt\n",
        "!./max_pairwise_sort_nlogn < stress_input_24.txt\n",
        "!./max_pairwise_sort_nlogn < stress_input_25.txt\n",
        "!./max_pairwise_sort_nlogn < stress_input_26.txt\n",
        "!./max_pairwise_sort_nlogn < stress_input_27.txt\n",
        "!./max_pairwise_sort_nlogn < stress_input_28.txt\n",
        "!./max_pairwise_sort_nlogn < stress_input_29.txt\n",
        "!./max_pairwise_sort_nlogn < stress_input_30.txt\n",
        "\n",
        "!./max_pairwise_sort_nlogn < stress_input_31.txt\n",
        "!./max_pairwise_sort_nlogn < stress_input_32.txt\n",
        "!./max_pairwise_sort_nlogn < stress_input_33.txt\n",
        "!./max_pairwise_sort_nlogn < stress_input_34.txt\n",
        "!./max_pairwise_sort_nlogn < stress_input_35.txt\n",
        "!./max_pairwise_sort_nlogn < stress_input_36.txt\n",
        "!./max_pairwise_sort_nlogn < stress_input_37.txt\n",
        "!./max_pairwise_sort_nlogn < stress_input_38.txt\n",
        "!./max_pairwise_sort_nlogn < stress_input_39.txt\n",
        "!./max_pairwise_sort_nlogn < stress_input_40.txt\n",
        "\n",
        "!./max_pairwise_sort_nlogn < stress_input_41.txt\n",
        "!./max_pairwise_sort_nlogn < stress_input_42.txt\n",
        "!./max_pairwise_sort_nlogn < stress_input_43.txt\n",
        "!./max_pairwise_sort_nlogn < stress_input_44.txt\n",
        "!./max_pairwise_sort_nlogn < stress_input_45.txt\n",
        "!./max_pairwise_sort_nlogn < stress_input_46.txt\n",
        "!./max_pairwise_sort_nlogn < stress_input_47.txt\n",
        "!./max_pairwise_sort_nlogn < stress_input_48.txt\n",
        "!./max_pairwise_sort_nlogn < stress_input_49.txt\n",
        "!./max_pairwise_sort_nlogn < stress_input_50.txt\n",
        "\n",
        "!./max_pairwise_sort_nlogn < stress_input_51.txt\n",
        "!./max_pairwise_sort_nlogn < stress_input_52.txt\n",
        "!./max_pairwise_sort_nlogn < stress_input_53.txt\n",
        "!./max_pairwise_sort_nlogn < stress_input_54.txt\n",
        "!./max_pairwise_sort_nlogn < stress_input_55.txt\n",
        "!./max_pairwise_sort_nlogn < stress_input_56.txt\n",
        "!./max_pairwise_sort_nlogn < stress_input_57.txt\n",
        "!./max_pairwise_sort_nlogn < stress_input_58.txt\n",
        "!./max_pairwise_sort_nlogn < stress_input_59.txt\n",
        "!./max_pairwise_sort_nlogn < stress_input_60.txt\n",
        "\n",
        "!./max_pairwise_sort_nlogn < stress_input_61.txt\n",
        "!./max_pairwise_sort_nlogn < stress_input_62.txt\n",
        "!./max_pairwise_sort_nlogn < stress_input_63.txt\n",
        "!./max_pairwise_sort_nlogn < stress_input_64.txt\n",
        "!./max_pairwise_sort_nlogn < stress_input_65.txt\n",
        "!./max_pairwise_sort_nlogn < stress_input_66.txt\n",
        "!./max_pairwise_sort_nlogn < stress_input_67.txt\n",
        "!./max_pairwise_sort_nlogn < stress_input_68.txt\n",
        "!./max_pairwise_sort_nlogn < stress_input_69.txt\n",
        "!./max_pairwise_sort_nlogn < stress_input_70.txt\n",
        "\n",
        "!./max_pairwise_sort_nlogn < stress_input_71.txt\n",
        "!./max_pairwise_sort_nlogn < stress_input_72.txt\n",
        "!./max_pairwise_sort_nlogn < stress_input_73.txt\n",
        "!./max_pairwise_sort_nlogn < stress_input_74.txt\n",
        "!./max_pairwise_sort_nlogn < stress_input_75.txt\n",
        "!./max_pairwise_sort_nlogn < stress_input_76.txt\n",
        "!./max_pairwise_sort_nlogn < stress_input_77.txt\n",
        "!./max_pairwise_sort_nlogn < stress_input_78.txt\n",
        "!./max_pairwise_sort_nlogn < stress_input_79.txt\n",
        "!./max_pairwise_sort_nlogn < stress_input_80.txt\n",
        "\n",
        "!./max_pairwise_sort_nlogn < stress_input_81.txt\n",
        "!./max_pairwise_sort_nlogn < stress_input_82.txt\n",
        "!./max_pairwise_sort_nlogn < stress_input_83.txt\n",
        "!./max_pairwise_sort_nlogn < stress_input_84.txt\n",
        "!./max_pairwise_sort_nlogn < stress_input_85.txt\n",
        "!./max_pairwise_sort_nlogn < stress_input_86.txt\n",
        "!./max_pairwise_sort_nlogn < stress_input_87.txt\n",
        "!./max_pairwise_sort_nlogn < stress_input_88.txt\n",
        "!./max_pairwise_sort_nlogn < stress_input_89.txt\n",
        "!./max_pairwise_sort_nlogn < stress_input_90.txt\n",
        "\n",
        "!./max_pairwise_sort_nlogn < stress_input_91.txt\n",
        "!./max_pairwise_sort_nlogn < stress_input_92.txt\n",
        "!./max_pairwise_sort_nlogn < stress_input_93.txt\n",
        "!./max_pairwise_sort_nlogn < stress_input_94.txt\n",
        "!./max_pairwise_sort_nlogn < stress_input_95.txt\n",
        "!./max_pairwise_sort_nlogn < stress_input_96.txt\n",
        "!./max_pairwise_sort_nlogn < stress_input_97.txt\n",
        "!./max_pairwise_sort_nlogn < stress_input_98.txt\n",
        "!./max_pairwise_sort_nlogn < stress_input_99.txt\n",
        "!./max_pairwise_sort_nlogn < stress_input_100.txt\n"
      ]
    },
    {
      "cell_type": "markdown",
      "metadata": {
        "id": "HctdtCK_zkAG"
      },
      "source": []
    },
    {
      "cell_type": "markdown",
      "metadata": {
        "id": "UynvmzS00LvZ"
      },
      "source": [
        "# Python"
      ]
    },
    {
      "cell_type": "markdown",
      "metadata": {
        "id": "QonQgSfW0Lva"
      },
      "source": [
        "## Super efficient solution (𝑇(𝑛)<10𝑛=𝑂(𝑛))"
      ]
    },
    {
      "cell_type": "code",
      "execution_count": 147,
      "metadata": {
        "colab": {
          "base_uri": "https://localhost:8080/"
        },
        "id": "bvw_eZws0Lva",
        "outputId": "3101cdb3-3f86-443a-841e-16026ece3731"
      },
      "outputs": [
        {
          "output_type": "stream",
          "name": "stdout",
          "text": [
            "Overwriting max_pairwise_sort_super_efficient.py\n"
          ]
        }
      ],
      "source": [
        "%%writefile max_pairwise_sort_super_efficient.py\n",
        "n = int(input())                            # 1\n",
        "max_number = float(\"-inf\")                  # 1\n",
        "second_max_number = float(\"-inf\")           # 1\n",
        "\n",
        "for num in input().split():                 # 3 + 2n\n",
        "\n",
        "    num = int(num)                          # n\n",
        "\n",
        "    if num > max_number:                    # n\n",
        "        second_max_number = max_number      # [0, n] in the worst case it would be n times\n",
        "        max_number = num                    # [0, n] in the worst case it would be n times\n",
        "    elif num > second_max_number:           # n\n",
        "        second_max_number = num             # [0, n] in the worst case it would be n times\n",
        "\n",
        "print(f\"n: {n} Product: {max_number * second_max_number}\")"
      ]
    },
    {
      "cell_type": "code",
      "execution_count": 148,
      "metadata": {
        "colab": {
          "base_uri": "https://localhost:8080/"
        },
        "id": "klFyKRSB0Lvb",
        "outputId": "82789b2a-2205-4ff4-d11f-63873f58dc40"
      },
      "outputs": [
        {
          "output_type": "stream",
          "name": "stdout",
          "text": [
            "n: 34 Product: 9300\n",
            "n: 16 Product: 8118\n",
            "n: 33 Product: 9409\n",
            "n: 26 Product: 9100\n",
            "n: 36 Product: 9604\n",
            "n: 18 Product: 9700\n",
            "n: 13 Product: 6952\n",
            "n: 14 Product: 6132\n",
            "n: 33 Product: 8099\n",
            "n: 29 Product: 9604\n",
            "n: 23 Product: 9603\n",
            "n: 25 Product: 6720\n",
            "n: 35 Product: 8526\n",
            "n: 31 Product: 9604\n",
            "n: 12 Product: 6612\n",
            "n: 14 Product: 6279\n",
            "n: 38 Product: 8924\n",
            "n: 36 Product: 10000\n",
            "n: 8 Product: 7546\n",
            "n: 24 Product: 9506\n",
            "n: 19 Product: 6225\n",
            "n: 24 Product: 9405\n",
            "n: 39 Product: 8010\n",
            "n: 39 Product: 9400\n",
            "n: 20 Product: 9800\n",
            "n: 23 Product: 6888\n",
            "n: 38 Product: 9312\n",
            "n: 36 Product: 9506\n",
            "n: 15 Product: 9604\n",
            "n: 3 Product: 4144\n",
            "n: 18 Product: 8648\n",
            "n: 5 Product: 2242\n",
            "n: 11 Product: 8272\n",
            "n: 21 Product: 9900\n",
            "n: 33 Product: 8010\n",
            "n: 9 Product: 9700\n",
            "n: 19 Product: 9504\n",
            "n: 33 Product: 8366\n",
            "n: 3 Product: 4788\n",
            "n: 16 Product: 9016\n",
            "n: 24 Product: 9408\n",
            "n: 21 Product: 8835\n",
            "n: 27 Product: 9016\n",
            "n: 31 Product: 9400\n",
            "n: 27 Product: 8928\n",
            "n: 39 Product: 8277\n",
            "n: 21 Product: 8836\n",
            "n: 17 Product: 6640\n",
            "n: 19 Product: 9021\n",
            "n: 3 Product: 8000\n",
            "n: 28 Product: 8526\n",
            "n: 35 Product: 9114\n",
            "n: 32 Product: 9603\n",
            "n: 29 Product: 9604\n",
            "n: 30 Product: 7308\n",
            "n: 24 Product: 9600\n",
            "n: 38 Product: 9506\n",
            "n: 24 Product: 9216\n",
            "n: 37 Product: 9506\n",
            "n: 15 Product: 6336\n",
            "n: 4 Product: 2044\n",
            "n: 14 Product: 7719\n",
            "n: 7 Product: 10000\n",
            "n: 7 Product: 5015\n",
            "n: 36 Product: 9700\n",
            "n: 38 Product: 9801\n",
            "n: 25 Product: 9600\n",
            "n: 32 Product: 9216\n",
            "n: 40 Product: 9312\n",
            "n: 29 Product: 8740\n",
            "n: 30 Product: 8500\n",
            "n: 32 Product: 9120\n",
            "n: 35 Product: 8370\n",
            "n: 19 Product: 8536\n",
            "n: 7 Product: 7068\n",
            "n: 17 Product: 9408\n",
            "n: 33 Product: 9405\n",
            "n: 12 Product: 9100\n",
            "n: 12 Product: 5760\n",
            "n: 35 Product: 8010\n",
            "n: 4 Product: 1155\n",
            "n: 23 Product: 9306\n",
            "n: 40 Product: 9800\n",
            "n: 5 Product: 4698\n",
            "n: 31 Product: 9207\n",
            "n: 36 Product: 9016\n",
            "n: 7 Product: 5451\n",
            "n: 21 Product: 9700\n",
            "n: 27 Product: 9021\n",
            "n: 27 Product: 6970\n",
            "n: 21 Product: 9300\n",
            "n: 22 Product: 8640\n",
            "n: 12 Product: 5841\n",
            "n: 6 Product: 5658\n",
            "n: 18 Product: 8352\n",
            "n: 21 Product: 8600\n",
            "n: 34 Product: 9603\n",
            "n: 35 Product: 9310\n",
            "n: 10 Product: 9800\n",
            "n: 20 Product: 9500\n",
            "CPU times: user 606 ms, sys: 100 ms, total: 706 ms\n",
            "Wall time: 10.6 s\n"
          ]
        }
      ],
      "source": [
        "%%time\n",
        "!python max_pairwise_sort_super_efficient.py < stress_input_1.txt\n",
        "!python max_pairwise_sort_super_efficient.py < stress_input_2.txt\n",
        "!python max_pairwise_sort_super_efficient.py < stress_input_3.txt\n",
        "!python max_pairwise_sort_super_efficient.py < stress_input_4.txt\n",
        "!python max_pairwise_sort_super_efficient.py < stress_input_5.txt\n",
        "!python max_pairwise_sort_super_efficient.py < stress_input_6.txt\n",
        "!python max_pairwise_sort_super_efficient.py < stress_input_7.txt\n",
        "!python max_pairwise_sort_super_efficient.py < stress_input_8.txt\n",
        "!python max_pairwise_sort_super_efficient.py < stress_input_9.txt\n",
        "!python max_pairwise_sort_super_efficient.py < stress_input_10.txt\n",
        "\n",
        "!python max_pairwise_sort_super_efficient.py < stress_input_11.txt\n",
        "!python max_pairwise_sort_super_efficient.py < stress_input_12.txt\n",
        "!python max_pairwise_sort_super_efficient.py < stress_input_13.txt\n",
        "!python max_pairwise_sort_super_efficient.py < stress_input_14.txt\n",
        "!python max_pairwise_sort_super_efficient.py < stress_input_15.txt\n",
        "!python max_pairwise_sort_super_efficient.py < stress_input_16.txt\n",
        "!python max_pairwise_sort_super_efficient.py < stress_input_17.txt\n",
        "!python max_pairwise_sort_super_efficient.py < stress_input_18.txt\n",
        "!python max_pairwise_sort_super_efficient.py < stress_input_19.txt\n",
        "!python max_pairwise_sort_super_efficient.py < stress_input_20.txt\n",
        "\n",
        "!python max_pairwise_sort_super_efficient.py < stress_input_21.txt\n",
        "!python max_pairwise_sort_super_efficient.py < stress_input_22.txt\n",
        "!python max_pairwise_sort_super_efficient.py < stress_input_23.txt\n",
        "!python max_pairwise_sort_super_efficient.py < stress_input_24.txt\n",
        "!python max_pairwise_sort_super_efficient.py < stress_input_25.txt\n",
        "!python max_pairwise_sort_super_efficient.py < stress_input_26.txt\n",
        "!python max_pairwise_sort_super_efficient.py < stress_input_27.txt\n",
        "!python max_pairwise_sort_super_efficient.py < stress_input_28.txt\n",
        "!python max_pairwise_sort_super_efficient.py < stress_input_29.txt\n",
        "!python max_pairwise_sort_super_efficient.py < stress_input_30.txt\n",
        "\n",
        "!python max_pairwise_sort_super_efficient.py < stress_input_31.txt\n",
        "!python max_pairwise_sort_super_efficient.py < stress_input_32.txt\n",
        "!python max_pairwise_sort_super_efficient.py < stress_input_33.txt\n",
        "!python max_pairwise_sort_super_efficient.py < stress_input_34.txt\n",
        "!python max_pairwise_sort_super_efficient.py < stress_input_35.txt\n",
        "!python max_pairwise_sort_super_efficient.py < stress_input_36.txt\n",
        "!python max_pairwise_sort_super_efficient.py < stress_input_37.txt\n",
        "!python max_pairwise_sort_super_efficient.py < stress_input_38.txt\n",
        "!python max_pairwise_sort_super_efficient.py < stress_input_39.txt\n",
        "!python max_pairwise_sort_super_efficient.py < stress_input_40.txt\n",
        "\n",
        "!python max_pairwise_sort_super_efficient.py < stress_input_41.txt\n",
        "!python max_pairwise_sort_super_efficient.py < stress_input_42.txt\n",
        "!python max_pairwise_sort_super_efficient.py < stress_input_43.txt\n",
        "!python max_pairwise_sort_super_efficient.py < stress_input_44.txt\n",
        "!python max_pairwise_sort_super_efficient.py < stress_input_45.txt\n",
        "!python max_pairwise_sort_super_efficient.py < stress_input_46.txt\n",
        "!python max_pairwise_sort_super_efficient.py < stress_input_47.txt\n",
        "!python max_pairwise_sort_super_efficient.py < stress_input_48.txt\n",
        "!python max_pairwise_sort_super_efficient.py < stress_input_49.txt\n",
        "!python max_pairwise_sort_super_efficient.py < stress_input_50.txt\n",
        "\n",
        "!python max_pairwise_sort_super_efficient.py < stress_input_51.txt\n",
        "!python max_pairwise_sort_super_efficient.py < stress_input_52.txt\n",
        "!python max_pairwise_sort_super_efficient.py < stress_input_53.txt\n",
        "!python max_pairwise_sort_super_efficient.py < stress_input_54.txt\n",
        "!python max_pairwise_sort_super_efficient.py < stress_input_55.txt\n",
        "!python max_pairwise_sort_super_efficient.py < stress_input_56.txt\n",
        "!python max_pairwise_sort_super_efficient.py < stress_input_57.txt\n",
        "!python max_pairwise_sort_super_efficient.py < stress_input_58.txt\n",
        "!python max_pairwise_sort_super_efficient.py < stress_input_59.txt\n",
        "!python max_pairwise_sort_super_efficient.py < stress_input_60.txt\n",
        "\n",
        "!python max_pairwise_sort_super_efficient.py < stress_input_61.txt\n",
        "!python max_pairwise_sort_super_efficient.py < stress_input_62.txt\n",
        "!python max_pairwise_sort_super_efficient.py < stress_input_63.txt\n",
        "!python max_pairwise_sort_super_efficient.py < stress_input_64.txt\n",
        "!python max_pairwise_sort_super_efficient.py < stress_input_65.txt\n",
        "!python max_pairwise_sort_super_efficient.py < stress_input_66.txt\n",
        "!python max_pairwise_sort_super_efficient.py < stress_input_67.txt\n",
        "!python max_pairwise_sort_super_efficient.py < stress_input_68.txt\n",
        "!python max_pairwise_sort_super_efficient.py < stress_input_69.txt\n",
        "!python max_pairwise_sort_super_efficient.py < stress_input_70.txt\n",
        "\n",
        "!python max_pairwise_sort_super_efficient.py < stress_input_71.txt\n",
        "!python max_pairwise_sort_super_efficient.py < stress_input_72.txt\n",
        "!python max_pairwise_sort_super_efficient.py < stress_input_73.txt\n",
        "!python max_pairwise_sort_super_efficient.py < stress_input_74.txt\n",
        "!python max_pairwise_sort_super_efficient.py < stress_input_75.txt\n",
        "!python max_pairwise_sort_super_efficient.py < stress_input_76.txt\n",
        "!python max_pairwise_sort_super_efficient.py < stress_input_77.txt\n",
        "!python max_pairwise_sort_super_efficient.py < stress_input_78.txt\n",
        "!python max_pairwise_sort_super_efficient.py < stress_input_79.txt\n",
        "!python max_pairwise_sort_super_efficient.py < stress_input_80.txt\n",
        "\n",
        "!python max_pairwise_sort_super_efficient.py < stress_input_81.txt\n",
        "!python max_pairwise_sort_super_efficient.py < stress_input_82.txt\n",
        "!python max_pairwise_sort_super_efficient.py < stress_input_83.txt\n",
        "!python max_pairwise_sort_super_efficient.py < stress_input_84.txt\n",
        "!python max_pairwise_sort_super_efficient.py < stress_input_85.txt\n",
        "!python max_pairwise_sort_super_efficient.py < stress_input_86.txt\n",
        "!python max_pairwise_sort_super_efficient.py < stress_input_87.txt\n",
        "!python max_pairwise_sort_super_efficient.py < stress_input_88.txt\n",
        "!python max_pairwise_sort_super_efficient.py < stress_input_89.txt\n",
        "!python max_pairwise_sort_super_efficient.py < stress_input_90.txt\n",
        "\n",
        "!python max_pairwise_sort_super_efficient.py < stress_input_91.txt\n",
        "!python max_pairwise_sort_super_efficient.py < stress_input_92.txt\n",
        "!python max_pairwise_sort_super_efficient.py < stress_input_93.txt\n",
        "!python max_pairwise_sort_super_efficient.py < stress_input_94.txt\n",
        "!python max_pairwise_sort_super_efficient.py < stress_input_95.txt\n",
        "!python max_pairwise_sort_super_efficient.py < stress_input_96.txt\n",
        "!python max_pairwise_sort_super_efficient.py < stress_input_97.txt\n",
        "!python max_pairwise_sort_super_efficient.py < stress_input_98.txt\n",
        "!python max_pairwise_sort_super_efficient.py < stress_input_99.txt\n",
        "!python max_pairwise_sort_super_efficient.py < stress_input_100.txt\n"
      ]
    },
    {
      "cell_type": "markdown",
      "metadata": {
        "id": "vvskSkkR0Lvb"
      },
      "source": [
        "## Sort solution (𝑇(𝑛)=𝑂(𝑛𝑙𝑛𝑔))"
      ]
    },
    {
      "cell_type": "code",
      "execution_count": 149,
      "metadata": {
        "colab": {
          "base_uri": "https://localhost:8080/"
        },
        "id": "zq_FEgs00Lvb",
        "outputId": "48d5ec22-92e5-4a75-a76c-275243efc80e"
      },
      "outputs": [
        {
          "output_type": "stream",
          "name": "stdout",
          "text": [
            "Overwriting max_pairwise_sort_nlogn.py\n"
          ]
        }
      ],
      "source": [
        "%%writefile max_pairwise_sort_nlogn.py\n",
        "# Read input values\n",
        "n = int(input())              # 1\n",
        "numbers = list(map(int, input().split()))  # n\n",
        "\n",
        "# Sort the list\n",
        "numbers.sort()                # n*log(n)\n",
        "\n",
        "# Calculate the maximum pairwise product\n",
        "result = numbers[-1] * numbers[-2]  # 1\n",
        "\n",
        "# Print the result\n",
        "print(f\"n: {n} Product: {result}\")"
      ]
    },
    {
      "cell_type": "code",
      "execution_count": 150,
      "metadata": {
        "colab": {
          "base_uri": "https://localhost:8080/"
        },
        "id": "MRCwUqwT0Lvc",
        "outputId": "cb17dd94-0268-4ab0-d2e7-47ee59bf7bec"
      },
      "outputs": [
        {
          "output_type": "stream",
          "name": "stdout",
          "text": [
            "n: 34 Product: 9300\n",
            "n: 16 Product: 8118\n",
            "n: 33 Product: 9409\n",
            "n: 26 Product: 9100\n",
            "n: 36 Product: 9604\n",
            "n: 18 Product: 9700\n",
            "n: 13 Product: 6952\n",
            "n: 14 Product: 6132\n",
            "n: 33 Product: 8099\n",
            "n: 29 Product: 9604\n",
            "n: 23 Product: 9603\n",
            "n: 25 Product: 6720\n",
            "n: 35 Product: 8526\n",
            "n: 31 Product: 9604\n",
            "n: 12 Product: 6612\n",
            "n: 14 Product: 6279\n",
            "n: 38 Product: 8924\n",
            "n: 36 Product: 10000\n",
            "n: 8 Product: 7546\n",
            "n: 24 Product: 9506\n",
            "n: 19 Product: 6225\n",
            "n: 24 Product: 9405\n",
            "n: 39 Product: 8010\n",
            "n: 39 Product: 9400\n",
            "n: 20 Product: 9800\n",
            "n: 23 Product: 6888\n",
            "n: 38 Product: 9312\n",
            "n: 36 Product: 9506\n",
            "n: 15 Product: 9604\n",
            "n: 3 Product: 4144\n",
            "n: 18 Product: 8648\n",
            "n: 5 Product: 2242\n",
            "n: 11 Product: 8272\n",
            "n: 21 Product: 9900\n",
            "n: 33 Product: 8010\n",
            "n: 9 Product: 9700\n",
            "n: 19 Product: 9504\n",
            "n: 33 Product: 8366\n",
            "n: 3 Product: 4788\n",
            "n: 16 Product: 9016\n",
            "n: 24 Product: 9408\n",
            "n: 21 Product: 8835\n",
            "n: 27 Product: 9016\n",
            "n: 31 Product: 9400\n",
            "n: 27 Product: 8928\n",
            "n: 39 Product: 8277\n",
            "n: 21 Product: 8836\n",
            "n: 17 Product: 6640\n",
            "n: 19 Product: 9021\n",
            "n: 3 Product: 8000\n",
            "n: 28 Product: 8526\n",
            "n: 35 Product: 9114\n",
            "n: 32 Product: 9603\n",
            "n: 29 Product: 9604\n",
            "n: 30 Product: 7308\n",
            "n: 24 Product: 9600\n",
            "n: 38 Product: 9506\n",
            "n: 24 Product: 9216\n",
            "n: 37 Product: 9506\n",
            "n: 15 Product: 6336\n",
            "n: 4 Product: 2044\n",
            "n: 14 Product: 7719\n",
            "n: 7 Product: 10000\n",
            "n: 7 Product: 5015\n",
            "n: 36 Product: 9700\n",
            "n: 38 Product: 9801\n",
            "n: 25 Product: 9600\n",
            "n: 32 Product: 9216\n",
            "n: 40 Product: 9312\n",
            "n: 29 Product: 8740\n",
            "n: 30 Product: 8500\n",
            "n: 32 Product: 9120\n",
            "n: 35 Product: 8370\n",
            "n: 19 Product: 8536\n",
            "n: 7 Product: 7068\n",
            "n: 17 Product: 9408\n",
            "n: 33 Product: 9405\n",
            "n: 12 Product: 9100\n",
            "n: 12 Product: 5760\n",
            "n: 35 Product: 8010\n",
            "n: 4 Product: 1155\n",
            "n: 23 Product: 9306\n",
            "n: 40 Product: 9800\n",
            "n: 5 Product: 4698\n",
            "n: 31 Product: 9207\n",
            "n: 36 Product: 9016\n",
            "n: 7 Product: 5451\n",
            "n: 21 Product: 9700\n",
            "n: 27 Product: 9021\n",
            "n: 27 Product: 6970\n",
            "n: 21 Product: 9300\n",
            "n: 22 Product: 8640\n",
            "n: 12 Product: 5841\n",
            "n: 6 Product: 5658\n",
            "n: 18 Product: 8352\n",
            "n: 21 Product: 8600\n",
            "n: 34 Product: 9603\n",
            "n: 35 Product: 9310\n",
            "n: 10 Product: 9800\n",
            "n: 20 Product: 9500\n",
            "CPU times: user 614 ms, sys: 97.9 ms, total: 712 ms\n",
            "Wall time: 10.6 s\n"
          ]
        }
      ],
      "source": [
        "%%time\n",
        "!python max_pairwise_sort_nlogn.py < stress_input_1.txt\n",
        "!python max_pairwise_sort_nlogn.py < stress_input_2.txt\n",
        "!python max_pairwise_sort_nlogn.py < stress_input_3.txt\n",
        "!python max_pairwise_sort_nlogn.py < stress_input_4.txt\n",
        "!python max_pairwise_sort_nlogn.py < stress_input_5.txt\n",
        "!python max_pairwise_sort_nlogn.py < stress_input_6.txt\n",
        "!python max_pairwise_sort_nlogn.py < stress_input_7.txt\n",
        "!python max_pairwise_sort_nlogn.py < stress_input_8.txt\n",
        "!python max_pairwise_sort_nlogn.py < stress_input_9.txt\n",
        "!python max_pairwise_sort_nlogn.py < stress_input_10.txt\n",
        "\n",
        "!python max_pairwise_sort_nlogn.py < stress_input_11.txt\n",
        "!python max_pairwise_sort_nlogn.py < stress_input_12.txt\n",
        "!python max_pairwise_sort_nlogn.py < stress_input_13.txt\n",
        "!python max_pairwise_sort_nlogn.py < stress_input_14.txt\n",
        "!python max_pairwise_sort_nlogn.py < stress_input_15.txt\n",
        "!python max_pairwise_sort_nlogn.py < stress_input_16.txt\n",
        "!python max_pairwise_sort_nlogn.py < stress_input_17.txt\n",
        "!python max_pairwise_sort_nlogn.py < stress_input_18.txt\n",
        "!python max_pairwise_sort_nlogn.py < stress_input_19.txt\n",
        "!python max_pairwise_sort_nlogn.py < stress_input_20.txt\n",
        "\n",
        "!python max_pairwise_sort_nlogn.py < stress_input_21.txt\n",
        "!python max_pairwise_sort_nlogn.py < stress_input_22.txt\n",
        "!python max_pairwise_sort_nlogn.py < stress_input_23.txt\n",
        "!python max_pairwise_sort_nlogn.py < stress_input_24.txt\n",
        "!python max_pairwise_sort_nlogn.py < stress_input_25.txt\n",
        "!python max_pairwise_sort_nlogn.py < stress_input_26.txt\n",
        "!python max_pairwise_sort_nlogn.py < stress_input_27.txt\n",
        "!python max_pairwise_sort_nlogn.py < stress_input_28.txt\n",
        "!python max_pairwise_sort_nlogn.py < stress_input_29.txt\n",
        "!python max_pairwise_sort_nlogn.py < stress_input_30.txt\n",
        "\n",
        "!python max_pairwise_sort_nlogn.py < stress_input_31.txt\n",
        "!python max_pairwise_sort_nlogn.py < stress_input_32.txt\n",
        "!python max_pairwise_sort_nlogn.py < stress_input_33.txt\n",
        "!python max_pairwise_sort_nlogn.py < stress_input_34.txt\n",
        "!python max_pairwise_sort_nlogn.py < stress_input_35.txt\n",
        "!python max_pairwise_sort_nlogn.py < stress_input_36.txt\n",
        "!python max_pairwise_sort_nlogn.py < stress_input_37.txt\n",
        "!python max_pairwise_sort_nlogn.py < stress_input_38.txt\n",
        "!python max_pairwise_sort_nlogn.py < stress_input_39.txt\n",
        "!python max_pairwise_sort_nlogn.py < stress_input_40.txt\n",
        "\n",
        "!python max_pairwise_sort_nlogn.py < stress_input_41.txt\n",
        "!python max_pairwise_sort_nlogn.py < stress_input_42.txt\n",
        "!python max_pairwise_sort_nlogn.py < stress_input_43.txt\n",
        "!python max_pairwise_sort_nlogn.py < stress_input_44.txt\n",
        "!python max_pairwise_sort_nlogn.py < stress_input_45.txt\n",
        "!python max_pairwise_sort_nlogn.py < stress_input_46.txt\n",
        "!python max_pairwise_sort_nlogn.py < stress_input_47.txt\n",
        "!python max_pairwise_sort_nlogn.py < stress_input_48.txt\n",
        "!python max_pairwise_sort_nlogn.py < stress_input_49.txt\n",
        "!python max_pairwise_sort_nlogn.py < stress_input_50.txt\n",
        "\n",
        "!python max_pairwise_sort_nlogn.py < stress_input_51.txt\n",
        "!python max_pairwise_sort_nlogn.py < stress_input_52.txt\n",
        "!python max_pairwise_sort_nlogn.py < stress_input_53.txt\n",
        "!python max_pairwise_sort_nlogn.py < stress_input_54.txt\n",
        "!python max_pairwise_sort_nlogn.py < stress_input_55.txt\n",
        "!python max_pairwise_sort_nlogn.py < stress_input_56.txt\n",
        "!python max_pairwise_sort_nlogn.py < stress_input_57.txt\n",
        "!python max_pairwise_sort_nlogn.py < stress_input_58.txt\n",
        "!python max_pairwise_sort_nlogn.py < stress_input_59.txt\n",
        "!python max_pairwise_sort_nlogn.py < stress_input_60.txt\n",
        "\n",
        "!python max_pairwise_sort_nlogn.py < stress_input_61.txt\n",
        "!python max_pairwise_sort_nlogn.py < stress_input_62.txt\n",
        "!python max_pairwise_sort_nlogn.py < stress_input_63.txt\n",
        "!python max_pairwise_sort_nlogn.py < stress_input_64.txt\n",
        "!python max_pairwise_sort_nlogn.py < stress_input_65.txt\n",
        "!python max_pairwise_sort_nlogn.py < stress_input_66.txt\n",
        "!python max_pairwise_sort_nlogn.py < stress_input_67.txt\n",
        "!python max_pairwise_sort_nlogn.py < stress_input_68.txt\n",
        "!python max_pairwise_sort_nlogn.py < stress_input_69.txt\n",
        "!python max_pairwise_sort_nlogn.py < stress_input_70.txt\n",
        "\n",
        "!python max_pairwise_sort_nlogn.py < stress_input_71.txt\n",
        "!python max_pairwise_sort_nlogn.py < stress_input_72.txt\n",
        "!python max_pairwise_sort_nlogn.py < stress_input_73.txt\n",
        "!python max_pairwise_sort_nlogn.py < stress_input_74.txt\n",
        "!python max_pairwise_sort_nlogn.py < stress_input_75.txt\n",
        "!python max_pairwise_sort_nlogn.py < stress_input_76.txt\n",
        "!python max_pairwise_sort_nlogn.py < stress_input_77.txt\n",
        "!python max_pairwise_sort_nlogn.py < stress_input_78.txt\n",
        "!python max_pairwise_sort_nlogn.py < stress_input_79.txt\n",
        "!python max_pairwise_sort_nlogn.py < stress_input_80.txt\n",
        "\n",
        "!python max_pairwise_sort_nlogn.py < stress_input_81.txt\n",
        "!python max_pairwise_sort_nlogn.py < stress_input_82.txt\n",
        "!python max_pairwise_sort_nlogn.py < stress_input_83.txt\n",
        "!python max_pairwise_sort_nlogn.py < stress_input_84.txt\n",
        "!python max_pairwise_sort_nlogn.py < stress_input_85.txt\n",
        "!python max_pairwise_sort_nlogn.py < stress_input_86.txt\n",
        "!python max_pairwise_sort_nlogn.py < stress_input_87.txt\n",
        "!python max_pairwise_sort_nlogn.py < stress_input_88.txt\n",
        "!python max_pairwise_sort_nlogn.py < stress_input_89.txt\n",
        "!python max_pairwise_sort_nlogn.py < stress_input_90.txt\n",
        "\n",
        "!python max_pairwise_sort_nlogn.py < stress_input_91.txt\n",
        "!python max_pairwise_sort_nlogn.py < stress_input_92.txt\n",
        "!python max_pairwise_sort_nlogn.py < stress_input_93.txt\n",
        "!python max_pairwise_sort_nlogn.py < stress_input_94.txt\n",
        "!python max_pairwise_sort_nlogn.py < stress_input_95.txt\n",
        "!python max_pairwise_sort_nlogn.py < stress_input_96.txt\n",
        "!python max_pairwise_sort_nlogn.py < stress_input_97.txt\n",
        "!python max_pairwise_sort_nlogn.py < stress_input_98.txt\n",
        "!python max_pairwise_sort_nlogn.py < stress_input_99.txt\n",
        "!python max_pairwise_sort_nlogn.py < stress_input_100.txt\n"
      ]
    },
    {
      "cell_type": "markdown",
      "metadata": {
        "id": "70Qr7X4O2CQ1"
      },
      "source": [
        "# Resultados"
      ]
    },
    {
      "cell_type": "code",
      "execution_count": 151,
      "metadata": {
        "colab": {
          "base_uri": "https://localhost:8080/",
          "height": 125
        },
        "id": "UvDLVZV62GEY",
        "outputId": "a889d074-2ebf-4760-c720-8dd7e08379f8"
      },
      "outputs": [
        {
          "output_type": "display_data",
          "data": {
            "text/plain": [
              "  Language  Super effienct (ms)  Sort solution (ms)\n",
              "0      C++                  539                 542\n",
              "1   Python                  516                 485"
            ],
            "text/html": [
              "\n",
              "  <div id=\"df-3d3a8703-87dc-474e-a5db-0a477009eb82\" class=\"colab-df-container\">\n",
              "    <div>\n",
              "<style scoped>\n",
              "    .dataframe tbody tr th:only-of-type {\n",
              "        vertical-align: middle;\n",
              "    }\n",
              "\n",
              "    .dataframe tbody tr th {\n",
              "        vertical-align: top;\n",
              "    }\n",
              "\n",
              "    .dataframe thead th {\n",
              "        text-align: right;\n",
              "    }\n",
              "</style>\n",
              "<table border=\"1\" class=\"dataframe\">\n",
              "  <thead>\n",
              "    <tr style=\"text-align: right;\">\n",
              "      <th></th>\n",
              "      <th>Language</th>\n",
              "      <th>Super effienct (ms)</th>\n",
              "      <th>Sort solution (ms)</th>\n",
              "    </tr>\n",
              "  </thead>\n",
              "  <tbody>\n",
              "    <tr>\n",
              "      <th>0</th>\n",
              "      <td>C++</td>\n",
              "      <td>539</td>\n",
              "      <td>542</td>\n",
              "    </tr>\n",
              "    <tr>\n",
              "      <th>1</th>\n",
              "      <td>Python</td>\n",
              "      <td>516</td>\n",
              "      <td>485</td>\n",
              "    </tr>\n",
              "  </tbody>\n",
              "</table>\n",
              "</div>\n",
              "    <div class=\"colab-df-buttons\">\n",
              "\n",
              "  <div class=\"colab-df-container\">\n",
              "    <button class=\"colab-df-convert\" onclick=\"convertToInteractive('df-3d3a8703-87dc-474e-a5db-0a477009eb82')\"\n",
              "            title=\"Convert this dataframe to an interactive table.\"\n",
              "            style=\"display:none;\">\n",
              "\n",
              "  <svg xmlns=\"http://www.w3.org/2000/svg\" height=\"24px\" viewBox=\"0 -960 960 960\">\n",
              "    <path d=\"M120-120v-720h720v720H120Zm60-500h600v-160H180v160Zm220 220h160v-160H400v160Zm0 220h160v-160H400v160ZM180-400h160v-160H180v160Zm440 0h160v-160H620v160ZM180-180h160v-160H180v160Zm440 0h160v-160H620v160Z\"/>\n",
              "  </svg>\n",
              "    </button>\n",
              "\n",
              "  <style>\n",
              "    .colab-df-container {\n",
              "      display:flex;\n",
              "      gap: 12px;\n",
              "    }\n",
              "\n",
              "    .colab-df-convert {\n",
              "      background-color: #E8F0FE;\n",
              "      border: none;\n",
              "      border-radius: 50%;\n",
              "      cursor: pointer;\n",
              "      display: none;\n",
              "      fill: #1967D2;\n",
              "      height: 32px;\n",
              "      padding: 0 0 0 0;\n",
              "      width: 32px;\n",
              "    }\n",
              "\n",
              "    .colab-df-convert:hover {\n",
              "      background-color: #E2EBFA;\n",
              "      box-shadow: 0px 1px 2px rgba(60, 64, 67, 0.3), 0px 1px 3px 1px rgba(60, 64, 67, 0.15);\n",
              "      fill: #174EA6;\n",
              "    }\n",
              "\n",
              "    .colab-df-buttons div {\n",
              "      margin-bottom: 4px;\n",
              "    }\n",
              "\n",
              "    [theme=dark] .colab-df-convert {\n",
              "      background-color: #3B4455;\n",
              "      fill: #D2E3FC;\n",
              "    }\n",
              "\n",
              "    [theme=dark] .colab-df-convert:hover {\n",
              "      background-color: #434B5C;\n",
              "      box-shadow: 0px 1px 3px 1px rgba(0, 0, 0, 0.15);\n",
              "      filter: drop-shadow(0px 1px 2px rgba(0, 0, 0, 0.3));\n",
              "      fill: #FFFFFF;\n",
              "    }\n",
              "  </style>\n",
              "\n",
              "    <script>\n",
              "      const buttonEl =\n",
              "        document.querySelector('#df-3d3a8703-87dc-474e-a5db-0a477009eb82 button.colab-df-convert');\n",
              "      buttonEl.style.display =\n",
              "        google.colab.kernel.accessAllowed ? 'block' : 'none';\n",
              "\n",
              "      async function convertToInteractive(key) {\n",
              "        const element = document.querySelector('#df-3d3a8703-87dc-474e-a5db-0a477009eb82');\n",
              "        const dataTable =\n",
              "          await google.colab.kernel.invokeFunction('convertToInteractive',\n",
              "                                                    [key], {});\n",
              "        if (!dataTable) return;\n",
              "\n",
              "        const docLinkHtml = 'Like what you see? Visit the ' +\n",
              "          '<a target=\"_blank\" href=https://colab.research.google.com/notebooks/data_table.ipynb>data table notebook</a>'\n",
              "          + ' to learn more about interactive tables.';\n",
              "        element.innerHTML = '';\n",
              "        dataTable['output_type'] = 'display_data';\n",
              "        await google.colab.output.renderOutput(dataTable, element);\n",
              "        const docLink = document.createElement('div');\n",
              "        docLink.innerHTML = docLinkHtml;\n",
              "        element.appendChild(docLink);\n",
              "      }\n",
              "    </script>\n",
              "  </div>\n",
              "\n",
              "\n",
              "<div id=\"df-9b3ad7bc-d3fc-461b-bc56-2d04484d7ad6\">\n",
              "  <button class=\"colab-df-quickchart\" onclick=\"quickchart('df-9b3ad7bc-d3fc-461b-bc56-2d04484d7ad6')\"\n",
              "            title=\"Suggest charts\"\n",
              "            style=\"display:none;\">\n",
              "\n",
              "<svg xmlns=\"http://www.w3.org/2000/svg\" height=\"24px\"viewBox=\"0 0 24 24\"\n",
              "     width=\"24px\">\n",
              "    <g>\n",
              "        <path d=\"M19 3H5c-1.1 0-2 .9-2 2v14c0 1.1.9 2 2 2h14c1.1 0 2-.9 2-2V5c0-1.1-.9-2-2-2zM9 17H7v-7h2v7zm4 0h-2V7h2v10zm4 0h-2v-4h2v4z\"/>\n",
              "    </g>\n",
              "</svg>\n",
              "  </button>\n",
              "\n",
              "<style>\n",
              "  .colab-df-quickchart {\n",
              "      --bg-color: #E8F0FE;\n",
              "      --fill-color: #1967D2;\n",
              "      --hover-bg-color: #E2EBFA;\n",
              "      --hover-fill-color: #174EA6;\n",
              "      --disabled-fill-color: #AAA;\n",
              "      --disabled-bg-color: #DDD;\n",
              "  }\n",
              "\n",
              "  [theme=dark] .colab-df-quickchart {\n",
              "      --bg-color: #3B4455;\n",
              "      --fill-color: #D2E3FC;\n",
              "      --hover-bg-color: #434B5C;\n",
              "      --hover-fill-color: #FFFFFF;\n",
              "      --disabled-bg-color: #3B4455;\n",
              "      --disabled-fill-color: #666;\n",
              "  }\n",
              "\n",
              "  .colab-df-quickchart {\n",
              "    background-color: var(--bg-color);\n",
              "    border: none;\n",
              "    border-radius: 50%;\n",
              "    cursor: pointer;\n",
              "    display: none;\n",
              "    fill: var(--fill-color);\n",
              "    height: 32px;\n",
              "    padding: 0;\n",
              "    width: 32px;\n",
              "  }\n",
              "\n",
              "  .colab-df-quickchart:hover {\n",
              "    background-color: var(--hover-bg-color);\n",
              "    box-shadow: 0 1px 2px rgba(60, 64, 67, 0.3), 0 1px 3px 1px rgba(60, 64, 67, 0.15);\n",
              "    fill: var(--button-hover-fill-color);\n",
              "  }\n",
              "\n",
              "  .colab-df-quickchart-complete:disabled,\n",
              "  .colab-df-quickchart-complete:disabled:hover {\n",
              "    background-color: var(--disabled-bg-color);\n",
              "    fill: var(--disabled-fill-color);\n",
              "    box-shadow: none;\n",
              "  }\n",
              "\n",
              "  .colab-df-spinner {\n",
              "    border: 2px solid var(--fill-color);\n",
              "    border-color: transparent;\n",
              "    border-bottom-color: var(--fill-color);\n",
              "    animation:\n",
              "      spin 1s steps(1) infinite;\n",
              "  }\n",
              "\n",
              "  @keyframes spin {\n",
              "    0% {\n",
              "      border-color: transparent;\n",
              "      border-bottom-color: var(--fill-color);\n",
              "      border-left-color: var(--fill-color);\n",
              "    }\n",
              "    20% {\n",
              "      border-color: transparent;\n",
              "      border-left-color: var(--fill-color);\n",
              "      border-top-color: var(--fill-color);\n",
              "    }\n",
              "    30% {\n",
              "      border-color: transparent;\n",
              "      border-left-color: var(--fill-color);\n",
              "      border-top-color: var(--fill-color);\n",
              "      border-right-color: var(--fill-color);\n",
              "    }\n",
              "    40% {\n",
              "      border-color: transparent;\n",
              "      border-right-color: var(--fill-color);\n",
              "      border-top-color: var(--fill-color);\n",
              "    }\n",
              "    60% {\n",
              "      border-color: transparent;\n",
              "      border-right-color: var(--fill-color);\n",
              "    }\n",
              "    80% {\n",
              "      border-color: transparent;\n",
              "      border-right-color: var(--fill-color);\n",
              "      border-bottom-color: var(--fill-color);\n",
              "    }\n",
              "    90% {\n",
              "      border-color: transparent;\n",
              "      border-bottom-color: var(--fill-color);\n",
              "    }\n",
              "  }\n",
              "</style>\n",
              "\n",
              "  <script>\n",
              "    async function quickchart(key) {\n",
              "      const quickchartButtonEl =\n",
              "        document.querySelector('#' + key + ' button');\n",
              "      quickchartButtonEl.disabled = true;  // To prevent multiple clicks.\n",
              "      quickchartButtonEl.classList.add('colab-df-spinner');\n",
              "      try {\n",
              "        const charts = await google.colab.kernel.invokeFunction(\n",
              "            'suggestCharts', [key], {});\n",
              "      } catch (error) {\n",
              "        console.error('Error during call to suggestCharts:', error);\n",
              "      }\n",
              "      quickchartButtonEl.classList.remove('colab-df-spinner');\n",
              "      quickchartButtonEl.classList.add('colab-df-quickchart-complete');\n",
              "    }\n",
              "    (() => {\n",
              "      let quickchartButtonEl =\n",
              "        document.querySelector('#df-9b3ad7bc-d3fc-461b-bc56-2d04484d7ad6 button');\n",
              "      quickchartButtonEl.style.display =\n",
              "        google.colab.kernel.accessAllowed ? 'block' : 'none';\n",
              "    })();\n",
              "  </script>\n",
              "</div>\n",
              "\n",
              "  <div id=\"id_bc9dc784-9786-4339-8b74-58eafac282f7\">\n",
              "    <style>\n",
              "      .colab-df-generate {\n",
              "        background-color: #E8F0FE;\n",
              "        border: none;\n",
              "        border-radius: 50%;\n",
              "        cursor: pointer;\n",
              "        display: none;\n",
              "        fill: #1967D2;\n",
              "        height: 32px;\n",
              "        padding: 0 0 0 0;\n",
              "        width: 32px;\n",
              "      }\n",
              "\n",
              "      .colab-df-generate:hover {\n",
              "        background-color: #E2EBFA;\n",
              "        box-shadow: 0px 1px 2px rgba(60, 64, 67, 0.3), 0px 1px 3px 1px rgba(60, 64, 67, 0.15);\n",
              "        fill: #174EA6;\n",
              "      }\n",
              "\n",
              "      [theme=dark] .colab-df-generate {\n",
              "        background-color: #3B4455;\n",
              "        fill: #D2E3FC;\n",
              "      }\n",
              "\n",
              "      [theme=dark] .colab-df-generate:hover {\n",
              "        background-color: #434B5C;\n",
              "        box-shadow: 0px 1px 3px 1px rgba(0, 0, 0, 0.15);\n",
              "        filter: drop-shadow(0px 1px 2px rgba(0, 0, 0, 0.3));\n",
              "        fill: #FFFFFF;\n",
              "      }\n",
              "    </style>\n",
              "    <button class=\"colab-df-generate\" onclick=\"generateWithVariable('df')\"\n",
              "            title=\"Generate code using this dataframe.\"\n",
              "            style=\"display:none;\">\n",
              "\n",
              "  <svg xmlns=\"http://www.w3.org/2000/svg\" height=\"24px\"viewBox=\"0 0 24 24\"\n",
              "       width=\"24px\">\n",
              "    <path d=\"M7,19H8.4L18.45,9,17,7.55,7,17.6ZM5,21V16.75L18.45,3.32a2,2,0,0,1,2.83,0l1.4,1.43a1.91,1.91,0,0,1,.58,1.4,1.91,1.91,0,0,1-.58,1.4L9.25,21ZM18.45,9,17,7.55Zm-12,3A5.31,5.31,0,0,0,4.9,8.1,5.31,5.31,0,0,0,1,6.5,5.31,5.31,0,0,0,4.9,4.9,5.31,5.31,0,0,0,6.5,1,5.31,5.31,0,0,0,8.1,4.9,5.31,5.31,0,0,0,12,6.5,5.46,5.46,0,0,0,6.5,12Z\"/>\n",
              "  </svg>\n",
              "    </button>\n",
              "    <script>\n",
              "      (() => {\n",
              "      const buttonEl =\n",
              "        document.querySelector('#id_bc9dc784-9786-4339-8b74-58eafac282f7 button.colab-df-generate');\n",
              "      buttonEl.style.display =\n",
              "        google.colab.kernel.accessAllowed ? 'block' : 'none';\n",
              "\n",
              "      buttonEl.onclick = () => {\n",
              "        google.colab.notebook.generateWithVariable('df');\n",
              "      }\n",
              "      })();\n",
              "    </script>\n",
              "  </div>\n",
              "\n",
              "    </div>\n",
              "  </div>\n"
            ],
            "application/vnd.google.colaboratory.intrinsic+json": {
              "type": "dataframe",
              "variable_name": "df",
              "summary": "{\n  \"name\": \"df\",\n  \"rows\": 2,\n  \"fields\": [\n    {\n      \"column\": \"Language\",\n      \"properties\": {\n        \"dtype\": \"string\",\n        \"num_unique_values\": 2,\n        \"samples\": [\n          \"Python\",\n          \"C++\"\n        ],\n        \"semantic_type\": \"\",\n        \"description\": \"\"\n      }\n    },\n    {\n      \"column\": \"Super effienct (ms)\",\n      \"properties\": {\n        \"dtype\": \"number\",\n        \"std\": 16,\n        \"min\": 516,\n        \"max\": 539,\n        \"num_unique_values\": 2,\n        \"samples\": [\n          516,\n          539\n        ],\n        \"semantic_type\": \"\",\n        \"description\": \"\"\n      }\n    },\n    {\n      \"column\": \"Sort solution (ms)\",\n      \"properties\": {\n        \"dtype\": \"number\",\n        \"std\": 40,\n        \"min\": 485,\n        \"max\": 542,\n        \"num_unique_values\": 2,\n        \"samples\": [\n          485,\n          542\n        ],\n        \"semantic_type\": \"\",\n        \"description\": \"\"\n      }\n    }\n  ]\n}"
            }
          },
          "metadata": {}
        }
      ],
      "source": [
        "# Import the Pandas library\n",
        "import pandas as pd\n",
        "\n",
        "# Create a sample DataFrame\n",
        "data = {'Language': ['C++', 'Python'],\n",
        "        'Super effienct (ms)': [539, 516],\n",
        "        'Sort solution (ms)': [542, 485]}\n",
        "\n",
        "df = pd.DataFrame(data)\n",
        "\n",
        "# Display the table\n",
        "display(df)"
      ]
    }
  ],
  "metadata": {
    "colab": {
      "provenance": [],
      "include_colab_link": true
    },
    "kernelspec": {
      "display_name": "Python 3",
      "name": "python3"
    },
    "language_info": {
      "name": "python"
    }
  },
  "nbformat": 4,
  "nbformat_minor": 0
}